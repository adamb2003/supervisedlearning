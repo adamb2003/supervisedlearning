{
 "cells": [
  {
   "cell_type": "markdown",
   "metadata": {
    "id": "Cb_IWF6UQRGk"
   },
   "source": [
    "# Coursework 1 - Supervised learning\n",
    "\n",
    "**Replace CID in the file name with your CID**"
   ]
  },
  {
   "cell_type": "markdown",
   "metadata": {
    "id": "yTeLZnrzE0Wy"
   },
   "source": [
    "# Outline\n",
    "\n",
    "\n",
    "- [Task 1](#task-1): Regression <a name=\"index-task-1\"></a>\n",
    "  - [(1.1)](#task-11) Random Forest <a name=\"index-task-11\"></a>\n",
    "    - [(1.1.1)](#task-111) <a name=\"index-task-111\"></a>\n",
    "    - [(1.1.2)](#task-112) <a name=\"index-task-112\"></a>\n",
    "    - [(1.1.3)](#task-113) <a name=\"index-task-113\"></a>\n",
    "  - [(1.2)](#task-12) Multi-layer Perceptron <a name=\"index-task-12\"></a>\n",
    "    - [(1.2.1)](#task-121) <a name=\"index-task-121\"></a>\n",
    "    - [(1.2.2)](#task-122) <a name=\"index-task-122\"></a>\n",
    "    - [(1.2.3)](#task-123) <a name=\"index-task-123\"></a>\n",
    "- [Task 2](#task-2): Classification <a name=\"index-task-2\"></a>\n",
    "  - [(2.1)](#task-21) k-Nearest Neighbours <a name=\"index-task-21\"></a>\n",
    "    - [(2.1.1)](#task-211)  <a name=\"index-task-211\"></a>\n",
    "    - [(2.1.2)](#task-212) <a name=\"index-task-212\"></a>\n",
    "    - [(2.1.3)](#task-213) <a name=\"index-task-213\"></a>\n",
    "  - [(2.2)](#task-22) Logistic regression vs kernel logistic regression <a name=\"index-task-22\"></a>\n",
    "    - [(2.2.1)](#task-221) <a name=\"index-task-221\"></a>\n",
    "    - [(2.2.2)](#task-222) <a name=\"index-task-222\"></a>\n",
    "    - [(2.2.3)](#task-223) <a name=\"index-task-223\"></a>"
   ]
  },
  {
   "cell_type": "markdown",
   "metadata": {
    "id": "V4LmL6R9N1B-"
   },
   "source": [
    "\n",
    "\n",
    "---\n",
    "\n"
   ]
  },
  {
   "cell_type": "code",
   "execution_count": 1,
   "metadata": {},
   "outputs": [],
   "source": [
    "# import packages\n",
    "import pandas as pd\n",
    "import numpy as np\n",
    "import seaborn as sns\n",
    "from sklearn.datasets import make_classification, fetch_california_housing\n",
    "from tqdm.notebook import tqdm\n",
    "from matplotlib import pyplot as plt"
   ]
  },
  {
   "cell_type": "markdown",
   "metadata": {
    "id": "0_QE32lOMff_"
   },
   "source": [
    "<a name=\"task-1\"></a>\n",
    "\n",
    "# (1) Task 1: Regression [(index)](#index-task-1)"
   ]
  },
  {
   "cell_type": "markdown",
   "metadata": {
    "id": "DLl66QsJMfzc"
   },
   "source": [
    "<a name=\"task-11\"></a>\n",
    "\n",
    "## (1.1) Random Forest [(index)](#index-task-11)"
   ]
  },
  {
   "cell_type": "markdown",
   "metadata": {
    "id": "T47skSuUMf8M"
   },
   "source": [
    "<a name=\"task-111\"></a>\n",
    "\n",
    "### (1.1.1) [(index)](#index-task-111)"
   ]
  },
  {
   "cell_type": "markdown",
   "metadata": {
    "id": "wx4c9z5pMgDR"
   },
   "source": [
    "<a name=\"task-112\"></a>\n",
    "\n",
    "### (1.1.2) [(index)](#index-task-112)"
   ]
  },
  {
   "cell_type": "markdown",
   "metadata": {
    "id": "lEwNJHHTMgNG"
   },
   "source": [
    "<a name=\"task-113\"></a>\n",
    "\n",
    "### (1.1.3) [(index)](#index-task-113)"
   ]
  },
  {
   "cell_type": "markdown",
   "metadata": {
    "id": "GqN02H_YPwr0"
   },
   "source": [
    "\n",
    "\n",
    "---\n",
    "\n"
   ]
  },
  {
   "cell_type": "markdown",
   "metadata": {
    "id": "In8XkuW_MgVV"
   },
   "source": [
    "<a name=\"task-12\"></a>\n",
    "\n",
    "## (1.2) Multi-layer Perceptron [(index)](#index-task-12)"
   ]
  },
  {
   "cell_type": "markdown",
   "metadata": {
    "id": "R1aYyFt7MgeQ"
   },
   "source": [
    "<a name=\"task-121\"></a>\n",
    "\n",
    "### (1.2.1) [(index)](#index-task-121)"
   ]
  },
  {
   "cell_type": "markdown",
   "metadata": {
    "id": "5j1--gzeMgk9"
   },
   "source": [
    "<a name=\"task-122\"></a>\n",
    "\n",
    "### (1.2.2) [(index)](#index-task-122)"
   ]
  },
  {
   "cell_type": "markdown",
   "metadata": {
    "id": "2MccP5-sMgqU"
   },
   "source": [
    "<a name=\"task-123\"></a>\n",
    "\n",
    "### (1.2.3) [(index)](#index-task-123)"
   ]
  },
  {
   "cell_type": "markdown",
   "metadata": {
    "id": "vzPd5qZZPzpM"
   },
   "source": [
    "\n",
    "\n",
    "---\n",
    "\n"
   ]
  },
  {
   "cell_type": "markdown",
   "metadata": {
    "id": "yJ1n70CNMguM"
   },
   "source": [
    "<a name=\"task-2\"></a>\n",
    "\n",
    "# (2) Task 2: Classification [(index)](#index-task-2)"
   ]
  },
  {
   "cell_type": "markdown",
   "metadata": {
    "id": "snlMZuPqMgxd"
   },
   "source": [
    "<a name=\"task-21\"></a>\n",
    "\n",
    "## (2.1) k-Nearest Neighbours [(index)](#index-task-21)"
   ]
  },
  {
   "cell_type": "markdown",
   "metadata": {
    "id": "qVwRifs5Mg0s"
   },
   "source": [
    "<a name=\"task-211\"></a>\n",
    "\n",
    "### (2.1.1) [(index)](#index-task-211)"
   ]
  },
  {
   "cell_type": "markdown",
   "metadata": {},
   "source": [
    "We standardise the dataset using the convention discussed in the lecture. This makes it easier to compare the performance of different models."
   ]
  },
  {
   "cell_type": "code",
   "execution_count": 2,
   "metadata": {},
   "outputs": [],
   "source": [
    "def standardise(X, X_train_=None):\n",
    "    \"\"\"\n",
    "    Standardise features.\n",
    "    Parameters:\n",
    "        X (np.array): Feature matrix.\n",
    "        X_train_ (np.array): An optional feature matrix to compute the statistics\n",
    "            from before applying it to X. If None, just use X to compute the statistics.\n",
    "    Returns:\n",
    "        X_std (np.array): Standardised feature matrix\n",
    "    \"\"\"\n",
    "    if X_train_ is None:\n",
    "        X_train_ = X\n",
    "\n",
    "    mu = np.mean(X_train_, axis=0, keepdims=True)\n",
    "    sigma = np.std(X_train_, axis=0, keepdims=True)\n",
    "    X_std = (X - mu) / sigma\n",
    "    return X_std"
   ]
  },
  {
   "cell_type": "code",
   "execution_count": 3,
   "metadata": {},
   "outputs": [
    {
     "name": "stdout",
     "output_type": "stream",
     "text": [
      "number of predictors = 11\n"
     ]
    },
    {
     "data": {
      "text/html": [
       "<div>\n",
       "<style scoped>\n",
       "    .dataframe tbody tr th:only-of-type {\n",
       "        vertical-align: middle;\n",
       "    }\n",
       "\n",
       "    .dataframe tbody tr th {\n",
       "        vertical-align: top;\n",
       "    }\n",
       "\n",
       "    .dataframe thead th {\n",
       "        text-align: right;\n",
       "    }\n",
       "</style>\n",
       "<table border=\"1\" class=\"dataframe\">\n",
       "  <thead>\n",
       "    <tr style=\"text-align: right;\">\n",
       "      <th></th>\n",
       "      <th>Patient ID</th>\n",
       "      <th>2D Surface</th>\n",
       "      <th>Contour Size</th>\n",
       "      <th>Total Surface</th>\n",
       "      <th>Density</th>\n",
       "      <th>Diameter</th>\n",
       "      <th>Primary Axis</th>\n",
       "      <th>Shape Variation</th>\n",
       "      <th>Location</th>\n",
       "      <th>Eccentricity_Real</th>\n",
       "      <th>Eccentricity_Imag</th>\n",
       "    </tr>\n",
       "  </thead>\n",
       "  <tbody>\n",
       "    <tr>\n",
       "      <th>0</th>\n",
       "      <td>1</td>\n",
       "      <td>16.0</td>\n",
       "      <td>15.656854</td>\n",
       "      <td>16.5</td>\n",
       "      <td>0.969697</td>\n",
       "      <td>4.513517</td>\n",
       "      <td>4.654326</td>\n",
       "      <td>5.575232</td>\n",
       "      <td>1</td>\n",
       "      <td>4.040000e-17</td>\n",
       "      <td>0.659446</td>\n",
       "    </tr>\n",
       "    <tr>\n",
       "      <th>1</th>\n",
       "      <td>2</td>\n",
       "      <td>23651.5</td>\n",
       "      <td>1450.520980</td>\n",
       "      <td>38721.0</td>\n",
       "      <td>0.610818</td>\n",
       "      <td>173.533931</td>\n",
       "      <td>169.741043</td>\n",
       "      <td>236.322433</td>\n",
       "      <td>0</td>\n",
       "      <td>5.930000e-17</td>\n",
       "      <td>0.968694</td>\n",
       "    </tr>\n",
       "    <tr>\n",
       "      <th>2</th>\n",
       "      <td>3</td>\n",
       "      <td>10.5</td>\n",
       "      <td>18.727922</td>\n",
       "      <td>12.0</td>\n",
       "      <td>0.875000</td>\n",
       "      <td>3.656366</td>\n",
       "      <td>2.158408</td>\n",
       "      <td>8.873440</td>\n",
       "      <td>4</td>\n",
       "      <td>2.440000e-16</td>\n",
       "      <td>3.987627</td>\n",
       "    </tr>\n",
       "    <tr>\n",
       "      <th>3</th>\n",
       "      <td>4</td>\n",
       "      <td>3514.5</td>\n",
       "      <td>1242.673224</td>\n",
       "      <td>54204.5</td>\n",
       "      <td>0.064838</td>\n",
       "      <td>66.893949</td>\n",
       "      <td>291.385498</td>\n",
       "      <td>321.823425</td>\n",
       "      <td>3</td>\n",
       "      <td>2.870000e-17</td>\n",
       "      <td>0.468861</td>\n",
       "    </tr>\n",
       "    <tr>\n",
       "      <th>4</th>\n",
       "      <td>5</td>\n",
       "      <td>2127.5</td>\n",
       "      <td>300.492421</td>\n",
       "      <td>2910.0</td>\n",
       "      <td>0.731100</td>\n",
       "      <td>52.046298</td>\n",
       "      <td>47.092342</td>\n",
       "      <td>70.562317</td>\n",
       "      <td>3</td>\n",
       "      <td>6.830000e-17</td>\n",
       "      <td>1.115862</td>\n",
       "    </tr>\n",
       "  </tbody>\n",
       "</table>\n",
       "</div>"
      ],
      "text/plain": [
       "   Patient ID  2D Surface  Contour Size  Total Surface   Density    Diameter  \\\n",
       "0           1        16.0     15.656854           16.5  0.969697    4.513517   \n",
       "1           2     23651.5   1450.520980        38721.0  0.610818  173.533931   \n",
       "2           3        10.5     18.727922           12.0  0.875000    3.656366   \n",
       "3           4      3514.5   1242.673224        54204.5  0.064838   66.893949   \n",
       "4           5      2127.5    300.492421         2910.0  0.731100   52.046298   \n",
       "\n",
       "   Primary Axis  Shape Variation  Location  Eccentricity_Real  \\\n",
       "0      4.654326         5.575232         1       4.040000e-17   \n",
       "1    169.741043       236.322433         0       5.930000e-17   \n",
       "2      2.158408         8.873440         4       2.440000e-16   \n",
       "3    291.385498       321.823425         3       2.870000e-17   \n",
       "4     47.092342        70.562317         3       6.830000e-17   \n",
       "\n",
       "   Eccentricity_Imag  \n",
       "0           0.659446  \n",
       "1           0.968694  \n",
       "2           3.987627  \n",
       "3           0.468861  \n",
       "4           1.115862  "
      ]
     },
     "execution_count": 3,
     "metadata": {},
     "output_type": "execute_result"
    }
   ],
   "source": [
    "# training set data\n",
    "cancer_samples = pd.read_csv('brain_cancer_samples.csv')\n",
    "X_train_df = cancer_samples[cancer_samples.columns[np.arange(12)!=11]]\n",
    "y_train_df = cancer_samples[cancer_samples.columns[-1]]\n",
    "\n",
    "# transform training data into standardised arrays\n",
    "X_train = standardise(np.array(X_train_df))[:,1:] # drop the Patient ID column\n",
    "y_train = np.array(y_train_df)\n",
    "\n",
    "# test set data, dropping the Patient ID column\n",
    "cancer_test = pd.read_csv('brain_cancer_test.csv')\n",
    "X_test_df = cancer_test[cancer_test.columns[np.arange(12)!=11]]\n",
    "y_test_df = cancer_test[cancer_test.columns[-1]]\n",
    "\n",
    "# transform test data into standardised arrays\n",
    "X_test = standardise(np.array(X_test_df),np.array(X_train_df))[:,1:] # drop the Patient ID column\n",
    "y_test = np.array(y_test_df)\n",
    "\n",
    "# observe features\n",
    "print(f'number of predictors = {X_test_df.shape[1]}')\n",
    "X_test_df.head()"
   ]
  },
  {
   "cell_type": "code",
   "execution_count": 4,
   "metadata": {},
   "outputs": [],
   "source": [
    "def euclidian_distance(p, q):\n",
    "    \"\"\"Compute the Euclidean distance between two sets of points.\"\"\"\n",
    "    return np.sqrt(np.sum((p-q)**2, axis=1))"
   ]
  },
  {
   "cell_type": "code",
   "execution_count": 5,
   "metadata": {},
   "outputs": [],
   "source": [
    "def k_neighbours(X_train, X_test, k=5, return_distance=False):\n",
    "    \"\"\"Find the k nearest neighbours of each point in X_test from the points in X_train.\"\"\"\n",
    "    n_neighbours = k\n",
    "    dist = []\n",
    "    neigh_ind = []\n",
    "\n",
    "    # compute distance from each point x_test in X_test to all points in X_train\n",
    "    point_dist = [euclidian_distance(x_test, X_train) for x_test in X_test]\n",
    "\n",
    "    # determine which k training points are closest to each test point\n",
    "    for row in point_dist:\n",
    "        enum_neigh = enumerate(row)\n",
    "        sorted_neigh = sorted(enum_neigh, key=lambda x: x[1])[:k]\n",
    "        ind_list = [tup[0] for tup in sorted_neigh]\n",
    "        dist_list = [tup[1] for tup in sorted_neigh]\n",
    "        dist.append(dist_list)\n",
    "        neigh_ind.append(ind_list)\n",
    "\n",
    "    # return distances together with indices of k nearest neighbours\n",
    "    if return_distance:\n",
    "        return np.array(dist), np.array(neigh_ind)\n",
    "\n",
    "    return np.array(neigh_ind)"
   ]
  },
  {
   "cell_type": "code",
   "execution_count": 6,
   "metadata": {},
   "outputs": [],
   "source": [
    "def predict(X_train, y_train, X_test, k=5):\n",
    "    \"\"\"\n",
    "    Predict the labels for the test dataset using the k-nearest neighbours algorithm.\n",
    "    \"\"\"\n",
    "    # find k nearest neighbours for each test point\n",
    "    neighbours = k_neighbours(X_train, X_test, k=k)\n",
    "\n",
    "    # predict labels based on majority vote of k nearest neighbours\n",
    "    y_pred = np.array([np.argmax(np.bincount(y_train[neighbour])) for neighbour in neighbours])\n",
    "\n",
    "    return y_pred"
   ]
  },
  {
   "cell_type": "code",
   "execution_count": 7,
   "metadata": {},
   "outputs": [],
   "source": [
    "def score(X_train, y_train, X_test, y_test, k):\n",
    "    \"\"\"\n",
    "    Compute the accuracy (micro-accuracy) score of a k-nearest neighbours classifier.\n",
    "    \"\"\"\n",
    "    # predict labels for test set using k-nearest neighbours algorithm\n",
    "    y_pred = predict(X_train, y_train, X_test, k=k)\n",
    "    \n",
    "    # compute accuracy \n",
    "    accuracy = float(sum(y_pred == y_test)) / float(len(y_test))\n",
    "    \n",
    "    return accuracy"
   ]
  },
  {
   "cell_type": "code",
   "execution_count": 8,
   "metadata": {},
   "outputs": [],
   "source": [
    "# create a list of five index arrays, corresponding to each of the five folds.\n",
    "folds_indexes = np.split(np.arange(len(y_train)), 5)"
   ]
  },
  {
   "cell_type": "code",
   "execution_count": 9,
   "metadata": {},
   "outputs": [],
   "source": [
    "def cross_validation_score(X_train, y_train, folds, k):\n",
    "    \"\"\"\n",
    "    Perform k-fold cross-validation to evaluate the performance of a k-nearest neighbours classifier.\n",
    "    \"\"\"\n",
    "    # initialise scores\n",
    "    scores = []\n",
    "    \n",
    "    # iterate over each fold\n",
    "    for i in range(len(folds)):\n",
    "        val_indexes = folds[i]\n",
    "        train_indexes = list(set(range(y_train.shape[0])) - set(val_indexes))\n",
    "        \n",
    "        # separate training and validation data\n",
    "        X_train_i = X_train[train_indexes, :]\n",
    "        y_train_i = y_train[train_indexes]\n",
    "        X_val_i = X_train[val_indexes, :]\n",
    "        y_val_i = y_train[val_indexes]\n",
    "        \n",
    "        # train k-nearest neighbours classifier and evaluate its performance\n",
    "        score_i = score(X_train_i, y_train_i, X_val_i, y_val_i, k=k)\n",
    "        scores.append(score_i)\n",
    "\n",
    "    # return average score\n",
    "    return sum(scores) / len(scores)"
   ]
  },
  {
   "cell_type": "code",
   "execution_count": 10,
   "metadata": {},
   "outputs": [],
   "source": [
    "def choose_best_k(X_train, y_train, folds, k_range):\n",
    "    \"\"\"\n",
    "    Choose the best value of k for a k-nearest neighbours classifier using cross-validation.\n",
    "    \"\"\"\n",
    "    # initialise scores\n",
    "    k_scores = np.zeros((len(k_range),))\n",
    "    \n",
    "    # iterate over each k\n",
    "    for i, k in enumerate(k_range):\n",
    "        k_scores[i] = cross_validation_score(X_train, y_train, folds, k)\n",
    "        print(f'CV_ACC@k={k}: {k_scores[i]:.3f}')\n",
    "\n",
    "    # select k with highest cross-validation score\n",
    "    best_k_index = np.argmax(k_scores)\n",
    "    return k_range[best_k_index]"
   ]
  },
  {
   "cell_type": "code",
   "execution_count": 11,
   "metadata": {},
   "outputs": [
    {
     "name": "stdout",
     "output_type": "stream",
     "text": [
      "CV_ACC@k=1: 0.648\n",
      "CV_ACC@k=2: 0.662\n",
      "CV_ACC@k=3: 0.745\n",
      "CV_ACC@k=4: 0.676\n",
      "CV_ACC@k=5: 0.738\n",
      "CV_ACC@k=6: 0.703\n",
      "CV_ACC@k=7: 0.690\n",
      "CV_ACC@k=8: 0.724\n",
      "CV_ACC@k=9: 0.690\n",
      "CV_ACC@k=10: 0.676\n",
      "CV_ACC@k=11: 0.683\n",
      "CV_ACC@k=12: 0.648\n",
      "CV_ACC@k=13: 0.662\n",
      "CV_ACC@k=14: 0.655\n",
      "CV_ACC@k=15: 0.683\n",
      "CV_ACC@k=16: 0.662\n",
      "CV_ACC@k=17: 0.648\n",
      "CV_ACC@k=18: 0.655\n",
      "CV_ACC@k=19: 0.641\n",
      "CV_ACC@k=20: 0.628\n",
      "Optimal value of k: 3\n"
     ]
    }
   ],
   "source": [
    "best_k = choose_best_k(X_train, y_train, folds_indexes, np.arange(1, 21))\n",
    "print('Optimal value of k:', best_k)"
   ]
  },
  {
   "cell_type": "code",
   "execution_count": 12,
   "metadata": {},
   "outputs": [
    {
     "data": {
      "image/png": "[encoded data removed]",
      "text/plain": [
       "<Figure size 1000x600 with 1 Axes>"
      ]
     },
     "metadata": {},
     "output_type": "display_data"
    }
   ],
   "source": [
    "# define range of k values\n",
    "k_values = np.arange(1, 21)\n",
    "\n",
    "# compute cross-validation scores for each k\n",
    "cross_val_scores = [cross_validation_score(X_train, y_train, folds_indexes, k) for k in k_values]\n",
    "\n",
    "# plot graph\n",
    "plt.figure(figsize=(10, 6))\n",
    "plt.plot(k_values, cross_val_scores, marker='o', linestyle='-')\n",
    "plt.title('Cross-Validation Scores for Different Values of k')\n",
    "plt.xlabel('Number of Nearest Neighbors (k)')\n",
    "plt.ylabel('Cross-Validation Score')\n",
    "plt.xticks(k_values)\n",
    "plt.grid(True)\n",
    "plt.show()"
   ]
  },
  {
   "cell_type": "code",
   "execution_count": 13,
   "metadata": {},
   "outputs": [
    {
     "name": "stdout",
     "output_type": "stream",
     "text": [
      "Micro-averaged accuracy of kNN model on the test set: 0.6666666666666666\n"
     ]
    }
   ],
   "source": [
    "# assess performance of optimal k on test set\n",
    "print(f\"Micro-averaged accuracy of kNN model on the test set: {score(X_train, y_train, X_test, y_test, best_k)}\")"
   ]
  },
  {
   "cell_type": "code",
   "execution_count": 14,
   "metadata": {},
   "outputs": [
    {
     "data": {
      "text/plain": [
       "(array([47, 80, 18]), array([18, 35,  7]))"
      ]
     },
     "execution_count": 14,
     "metadata": {},
     "output_type": "execute_result"
    }
   ],
   "source": [
    "# identify minority class\n",
    "np.bincount(y_train), np.bincount(y_test)"
   ]
  },
  {
   "cell_type": "markdown",
   "metadata": {},
   "source": [
    "The minority class is class 2 since there are only 18 values in that class for the training set and 7 values in that class for the test set, which is the least."
   ]
  },
  {
   "cell_type": "code",
   "execution_count": 15,
   "metadata": {},
   "outputs": [],
   "source": [
    "def confusion_matrix(y_true, y_pred, num_class):\n",
    "    \"\"\"\n",
    "    Compute the confusion matrix for the classification task.\n",
    "    Parameters:\n",
    "        y_true (np.ndarray): The true labels with shape (N,).\n",
    "        y_pred (np.ndarray): The predicted labels with shape (N,).\n",
    "        num_class (int): The number of classes in the classification task.\n",
    "    Returns:\n",
    "        Tuple[np.ndarray, np.ndarray, np.ndarray, np.ndarray]: A tuple containing four arrays:\n",
    "            - true_positives (TP) for each class.\n",
    "            - true_negatives (TN) for each class.\n",
    "            - false_positives (FP) for each class.\n",
    "            - false_negatives (FN) for each class.\n",
    "    \"\"\"\n",
    "    # initialise variables to store counts for each class\n",
    "    true_positives = np.zeros(num_class, dtype=int)\n",
    "    true_negatives = np.zeros(num_class, dtype=int)\n",
    "    false_positives = np.zeros(num_class, dtype=int)\n",
    "    false_negatives = np.zeros(num_class, dtype=int)\n",
    "    \n",
    "    # iterate over each class\n",
    "    for class_ in range(num_class):\n",
    "        # calculate true/false positives/negatives for the current class\n",
    "        true_positives[class_] = np.sum((y_true == class_) & (y_pred == class_))\n",
    "        true_negatives[class_] = np.sum((y_true != class_) & (y_pred != class_))\n",
    "        false_positives[class_] = np.sum((y_true != class_) & (y_pred == class_))\n",
    "        false_negatives[class_] = np.sum((y_true == class_) & (y_pred != class_))\n",
    "    \n",
    "    return true_positives, true_negatives, false_positives, false_negatives"
   ]
  },
  {
   "cell_type": "code",
   "execution_count": 16,
   "metadata": {},
   "outputs": [],
   "source": [
    "def micro(true_positives, true_negatives, false_positives, false_negatives):\n",
    "    \"\"\"Compute micro-averaged accuracy and precision.\"\"\"\n",
    "    # calculate accuracy\n",
    "    micro_accuracy = np.sum(true_positives) / (np.sum(true_positives) + 0.5 * (np.sum(false_positives) + np.sum(false_negatives)))\n",
    "    \n",
    "    # calculate precision\n",
    "    micro_precision = np.sum(true_positives) / (np.sum(true_positives) + np.sum(false_positives))\n",
    "    return micro_accuracy, micro_precision"
   ]
  },
  {
   "cell_type": "code",
   "execution_count": 17,
   "metadata": {},
   "outputs": [],
   "source": [
    "def macro(true_positives, true_negatives, false_positives, false_negatives):\n",
    "    \"\"\"Compute macro-averaged accuracy and precision.\"\"\"\n",
    "    # calculate accuracy for each class\n",
    "    class_accuracy = (true_positives + true_negatives) / (true_positives + true_negatives + false_positives + false_negatives)\n",
    "\n",
    "    # calculate precision for each class\n",
    "    class_precision = true_positives / (true_positives + false_negatives)\n",
    "\n",
    "    # calculate macro-averaged accuracy\n",
    "    macro_accuracy = np.mean(class_accuracy)\n",
    "\n",
    "    # calculate macro-averaged precision\n",
    "    macro_precision = np.mean(class_precision)\n",
    "\n",
    "    return macro_accuracy, macro_precision"
   ]
  },
  {
   "cell_type": "code",
   "execution_count": 18,
   "metadata": {},
   "outputs": [],
   "source": [
    "def class_weighted(true_positives, true_negatives, false_positives, false_negatives, weights):\n",
    "    \"\"\"Compute class-weighted accuracy and precision.\"\"\"\n",
    "    # calculate accuracy and precision for each class\n",
    "    class_accuracy = (true_positives + true_negatives) / (true_positives + true_negatives + false_positives + false_negatives)\n",
    "    class_precision = true_positives / (true_positives + false_negatives)\n",
    "\n",
    "    # initialise class-weighted accuracy and precision\n",
    "    class_weighted_accuracy, class_weighted_precision = 0, 0\n",
    "    \n",
    "    # calculate class-weighted accuracy and precision\n",
    "    for i in range(len(weights)):\n",
    "        class_weighted_accuracy += weights[i] * class_accuracy[i]\n",
    "        class_weighted_precision += weights[i] * class_precision[i]\n",
    "    \n",
    "    return class_weighted_accuracy, class_weighted_precision"
   ]
  },
  {
   "cell_type": "code",
   "execution_count": 19,
   "metadata": {},
   "outputs": [
    {
     "name": "stdout",
     "output_type": "stream",
     "text": [
      "Class 0:\n",
      "True Positives: 8\n",
      "True Negatives: 35\n",
      "False Positives: 7\n",
      "False Negatives: 10\n",
      "\n",
      "Class 1:\n",
      "True Positives: 28\n",
      "True Negatives: 12\n",
      "False Positives: 13\n",
      "False Negatives: 7\n",
      "\n",
      "Class 2:\n",
      "True Positives: 4\n",
      "True Negatives: 53\n",
      "False Positives: 0\n",
      "False Negatives: 3\n",
      "\n",
      "Micro-averaged accuracy: 0.6666666666666666\n",
      "Micro-averaged precision: 0.6666666666666666\n",
      "\n",
      "Macro-averaged accuracy: 0.7777777777777777\n",
      "Macro-averaged precision: 0.6052910052910053\n",
      "\n",
      "Class-weighted accuracy:0.7147222222222223\n",
      "Class-weighted precision:0.6666666666666667\n",
      "\n"
     ]
    }
   ],
   "source": [
    "# predict labels for test set using k-nearest neighbours algorithm\n",
    "y_pred_knn = predict(X_train, y_train, X_test, k=3)\n",
    "\n",
    "# number of classes\n",
    "num_class = 3\n",
    "\n",
    "# compute confusion matrix\n",
    "true_positives, true_negatives, false_positives, false_negatives = confusion_matrix(y_test, y_pred_knn, num_class)\n",
    "\n",
    "# print confusion matrix values for each class\n",
    "for class_ in range(num_class):\n",
    "    print(f\"Class {class_}:\")\n",
    "    print(\"True Positives:\", true_positives[class_])\n",
    "    print(\"True Negatives:\", true_negatives[class_])\n",
    "    print(\"False Positives:\", false_positives[class_])\n",
    "    print(\"False Negatives:\", false_negatives[class_])\n",
    "    print()\n",
    "\n",
    "# micro-averaged accuracy and precision\n",
    "micro_accuracy, micro_precision = micro(true_positives, true_negatives, false_positives, false_negatives)\n",
    "\n",
    "# macro-averaged accuracy and precision\n",
    "macro_accuracy, macro_precision = macro(true_positives, true_negatives, false_positives, false_negatives)\n",
    "\n",
    "# class-weighted accuracy and precision\n",
    "class_weighted_accuracy, class_weighted_precision = class_weighted(true_positives, true_negatives, false_positives, false_negatives, np.bincount(y_test)/len(y_test))\n",
    "\n",
    "print(f\"Micro-averaged accuracy: {micro_accuracy}\")\n",
    "print(f\"Micro-averaged precision: {micro_precision}\")\n",
    "print(\"\")\n",
    "\n",
    "print(f\"Macro-averaged accuracy: {macro_accuracy}\")\n",
    "print(f\"Macro-averaged precision: {macro_precision}\")\n",
    "print(\"\")\n",
    "\n",
    "print(f\"Class-weighted accuracy:{class_weighted_accuracy}\")\n",
    "print(f\"Class-weighted precision:{class_weighted_precision}\")\n",
    "print(\"\")"
   ]
  },
  {
   "cell_type": "code",
   "execution_count": 20,
   "metadata": {},
   "outputs": [
    {
     "name": "stdout",
     "output_type": "stream",
     "text": [
      "Minority class accuracy: 0.5229357798165137\n",
      "Minority class precision: 1.0\n"
     ]
    }
   ],
   "source": [
    "# accuracy of each class\n",
    "class_accuracy = (true_positives + true_negatives) / (true_negatives + true_negatives + false_positives + false_negatives)\n",
    "\n",
    "# accuracy of minority class (class 2)\n",
    "minority_class_accuracy = class_accuracy[2]\n",
    "\n",
    "# precision of each class\n",
    "class_precision = true_positives / (true_positives + false_positives)\n",
    "\n",
    "# precision of minority class (class 2)\n",
    "minority_class_precision = class_precision[2]\n",
    "\n",
    "print(f\"Minority class accuracy: {minority_class_accuracy}\")\n",
    "print(f\"Minority class precision: {minority_class_precision}\")"
   ]
  },
  {
   "cell_type": "markdown",
   "metadata": {},
   "source": [
    "We can see that the micro-averaged accuracy is lower than the class-weighted accuracy and the macro-averaged accuracy is higher than the class-weighted accuracy. We can deduce from this that one class has much lower accuracy. \n",
    "\n",
    "Calculating the accuracy of the minority class, we find that it has an accuracy of 0.52 which is very low compared to the class-weighted accuracy, implying that the kNN classifier poorly predicts the minority class in comparison to the other two classes (there are many false positives and false negatives).\n",
    "\n",
    "Calculating the precision of the minority class, we find that it has a precision of 1.0. This tells us that when the classifier predicts an instance as belonging to the minority class, it is always correct (there are no false positives).\n",
    "\n",
    "Overall, the kNN classifier doesn't do too bad on the test set, with values above 0.6 for all six metrics. The minority class has a much higher precision than the other two classes but a much lower accuracy, meaning the kNN classifier doesn't do too well at predicting the minority class."
   ]
  },
  {
   "cell_type": "markdown",
   "metadata": {
    "id": "hrF3U23EMg3k"
   },
   "source": [
    "<a name=\"task-212\"></a>\n",
    "\n",
    "### (2.1.2) [(index)](#index-task-212)"
   ]
  },
  {
   "cell_type": "markdown",
   "metadata": {},
   "source": [
    "This weighting strategy gives more weight to smaller classes, multiplying by a factor inversely proportional to the frequency of the class. Closer neighbours are also given more weight. The aim of this strategy is to improve the prediction of the minority class by giving it more weight."
   ]
  },
  {
   "cell_type": "code",
   "execution_count": 21,
   "metadata": {},
   "outputs": [],
   "source": [
    "def weighted_predict(X_train, y_train, X_test, k=3):\n",
    "    \"\"\"\n",
    "    Predict class labels for test data using a weighted k-nearest neighbors (kNN) algorithm.\n",
    "    \"\"\"\n",
    "    # find k nearest neighbours for each test point\n",
    "    distances, neighbours = k_neighbours(X_train, X_test, k=k, return_distance=True)\n",
    "    \n",
    "    # initialise array to store weighted votes for each class\n",
    "    weighted_votes = np.zeros((X_test.shape[0], np.max(y_train) + 1))\n",
    "    \n",
    "    # iterate over each test point\n",
    "    for i, neighbour_indices in enumerate(neighbours):\n",
    "        # get corresponding labels of k nearest neighbors\n",
    "        neighbour_labels = y_train[neighbour_indices]\n",
    "    \n",
    "        # calculate weights for each neighbour based on their distance and class frequency\n",
    "        weights = np.zeros_like(neighbour_labels, dtype=float)\n",
    "        for j, label in enumerate(neighbour_labels):\n",
    "            # calculate the frequency of the specific class label within the neighbourhood\n",
    "            class_frequency = np.sum(neighbour_labels[:j+1] == label) \n",
    "            # assign weights inversely proportional to class frequency\n",
    "            weights[j] = 1 / (distances[i, j] + 1e-6) * (1 / (class_frequency + 1e-6))\n",
    "        \n",
    "        # accumulate weighted votes for each class\n",
    "        for j, label in enumerate(neighbour_labels):\n",
    "            weighted_votes[i, label] += weights[j]\n",
    "    \n",
    "    # predict class with maximum weighted vote for each test point\n",
    "    y_pred = np.argmax(weighted_votes, axis=1)\n",
    "    \n",
    "    return y_pred"
   ]
  },
  {
   "cell_type": "code",
   "execution_count": 22,
   "metadata": {},
   "outputs": [],
   "source": [
    "def weighted_score(X_train, y_train, X_test, y_test, k=3):\n",
    "    \"\"\"\n",
    "    Compute the accuracy score of predictions made by the weighted k-nearest neighbors (kNN) algorithm.\n",
    "    \"\"\"\n",
    "    y_pred = weighted_predict(X_train, y_train, X_test, k=k)\n",
    "    return float(sum(y_pred == y_test)) / float(len(y_test))\n"
   ]
  },
  {
   "cell_type": "code",
   "execution_count": 23,
   "metadata": {},
   "outputs": [],
   "source": [
    "def weighted_cross_validation_score(X_train, y_train, folds, k):\n",
    "    \"\"\"\n",
    "    Compute the cross-validation score using the weighted k-nearest neighbors (kNN) algorithm.\n",
    "    \"\"\"\n",
    "    scores = []\n",
    "    for i in range(len(folds)):\n",
    "        val_indexes = folds[i]\n",
    "        train_indexes = list(set(range(y_train.shape[0])) - set(val_indexes))\n",
    "\n",
    "        X_train_i = X_train[train_indexes, :]\n",
    "        y_train_i = y_train[train_indexes]\n",
    "        X_val_i = X_train[val_indexes, :] \n",
    "        y_val_i = y_train[val_indexes] \n",
    "\n",
    "        # compute score using weighted kNN\n",
    "        score_i = weighted_score(X_train_i, y_train_i, X_val_i, y_val_i, k=k) \n",
    "        scores.append(score_i)\n",
    "\n",
    "    # Return the average score\n",
    "    return sum(scores) / len(scores)"
   ]
  },
  {
   "cell_type": "code",
   "execution_count": 24,
   "metadata": {},
   "outputs": [
    {
     "data": {
      "image/png": "[encoded data removed]",
      "text/plain": [
       "<Figure size 1000x600 with 1 Axes>"
      ]
     },
     "metadata": {},
     "output_type": "display_data"
    }
   ],
   "source": [
    "# define range of k values\n",
    "k_values = np.arange(1, 21)\n",
    "\n",
    "# compute cross-validation scores for each k\n",
    "cross_val_scores = [weighted_cross_validation_score(X_train, y_train, folds_indexes, k) for k in k_values]\n",
    "\n",
    "# plot graph\n",
    "plt.figure(figsize=(10, 6))\n",
    "plt.plot(k_values, cross_val_scores, marker='o', linestyle='-')\n",
    "plt.title('Cross-Validation Scores for Different Values of k for Weighted kNN')\n",
    "plt.xlabel('Number of Nearest Neighbors (k)')\n",
    "plt.ylabel('Cross-Validation Score')\n",
    "plt.xticks(k_values)\n",
    "plt.grid(True)\n",
    "plt.show()"
   ]
  },
  {
   "cell_type": "code",
   "execution_count": 25,
   "metadata": {},
   "outputs": [
    {
     "name": "stdout",
     "output_type": "stream",
     "text": [
      "Class 0:\n",
      "True Positives: 10\n",
      "True Negatives: 35\n",
      "False Positives: 7\n",
      "False Negatives: 8\n",
      "\n",
      "Class 1:\n",
      "True Positives: 29\n",
      "True Negatives: 14\n",
      "False Positives: 11\n",
      "False Negatives: 6\n",
      "\n",
      "Class 2:\n",
      "True Positives: 3\n",
      "True Negatives: 53\n",
      "False Positives: 0\n",
      "False Negatives: 4\n",
      "\n",
      "Micro-averaged accuracy: 0.7\n",
      "Micro-averaged precision: 0.7\n",
      "\n",
      "Macro-averaged accuracy: 0.8000000000000002\n",
      "Macro-averaged precision: 0.6042328042328042\n",
      "\n",
      "Class-weighted accuracy:0.7519444444444444\n",
      "Class-weighted precision:0.7000000000000001\n",
      "\n"
     ]
    }
   ],
   "source": [
    "# predict labels for test set using k-nearest neighbours algorithm\n",
    "y_weighted_pred = weighted_predict(X_train, y_train, X_test, k=3)\n",
    "\n",
    "# number of classes\n",
    "num_class = 3\n",
    "\n",
    "# compute confusion matrix\n",
    "true_positives, true_negatives, false_positives, false_negatives = confusion_matrix(y_test, y_weighted_pred, num_class)\n",
    "\n",
    "# print confusion matrix values for each class\n",
    "for class_ in range(num_class):\n",
    "    print(f\"Class {class_}:\")\n",
    "    print(\"True Positives:\", true_positives[class_])\n",
    "    print(\"True Negatives:\", true_negatives[class_])\n",
    "    print(\"False Positives:\", false_positives[class_])\n",
    "    print(\"False Negatives:\", false_negatives[class_])\n",
    "    print()\n",
    "\n",
    "# micro-averaged accuracy and precision\n",
    "micro_accuracy, micro_precision = micro(true_positives, true_negatives, false_positives, false_negatives)\n",
    "\n",
    "# macro-averaged accuracy and precision\n",
    "macro_accuracy, macro_precision = macro(true_positives, true_negatives, false_positives, false_negatives)\n",
    "\n",
    "# class-weighted accuracy and precision\n",
    "class_weighted_accuracy, class_weighted_precision = class_weighted(true_positives, true_negatives, false_positives, false_negatives, np.bincount(y_test)/len(y_test))\n",
    "\n",
    "print(f\"Micro-averaged accuracy: {micro_accuracy}\")\n",
    "print(f\"Micro-averaged precision: {micro_precision}\")\n",
    "print(\"\")\n",
    "\n",
    "print(f\"Macro-averaged accuracy: {macro_accuracy}\")\n",
    "print(f\"Macro-averaged precision: {macro_precision}\")\n",
    "print(\"\")\n",
    "\n",
    "print(f\"Class-weighted accuracy:{class_weighted_accuracy}\")\n",
    "print(f\"Class-weighted precision:{class_weighted_precision}\")\n",
    "print(\"\")"
   ]
  },
  {
   "cell_type": "code",
   "execution_count": 26,
   "metadata": {},
   "outputs": [
    {
     "name": "stdout",
     "output_type": "stream",
     "text": [
      "Minority class accuracy: 0.509090909090909\n",
      "Minority class precision: 1.0\n"
     ]
    }
   ],
   "source": [
    "# accuracy of each class\n",
    "class_accuracy = (true_positives + true_negatives) / (true_negatives + true_negatives + false_positives + false_negatives)\n",
    "\n",
    "# accuracy of minority class (class 2)\n",
    "minority_class_accuracy = class_accuracy[2]\n",
    "\n",
    "# precision of each class\n",
    "class_precision = true_positives / (true_positives + false_positives)\n",
    "\n",
    "# precision of minority class (class 2)\n",
    "minority_class_precision = class_precision[2]\n",
    "\n",
    "print(f\"Minority class accuracy: {minority_class_accuracy}\")\n",
    "print(f\"Minority class precision: {minority_class_precision}\")"
   ]
  },
  {
   "cell_type": "markdown",
   "metadata": {},
   "source": [
    "We find that all six metrics have improved compared to the values in 2.1.1, meaning the weighted kNN model is more effective at making predictions than the unweighted one. We obtain fewer false positives and false negatives using the weighted model.\n",
    "\n",
    "Observing the minority class spefically, we find that the minority class accuracy is very similar, and the minority class precision is still 1.0. \n",
    "\n",
    "Therefore, the weighted kNN model is much better overall, however, it is not much more effective at predicting the minority class. A different weighting strategy may be more appropriate."
   ]
  },
  {
   "cell_type": "markdown",
   "metadata": {
    "id": "sIUs15tlMg9c"
   },
   "source": [
    "<a name=\"task-213\"></a>\n",
    "\n",
    "### (2.1.3) [(index)](#index-task-213)"
   ]
  },
  {
   "cell_type": "code",
   "execution_count": 27,
   "metadata": {},
   "outputs": [],
   "source": [
    "# merge classes 1 and 2 into class 1 (malignant tumor diagnosis)\n",
    "y_train_binary = np.where(y_train == 0, 0, 1)\n",
    "\n",
    "def predict_binary1(X_train, y_train, X_test, k1 = best_k):\n",
    "    \"\"\"\n",
    "    Train a kNN model where where the two classes are ‘benign tumour diagnosis’ (class 0)\n",
    "    and ‘malignant tumour diagnosis’ (classes 1 and 2 combined).\n",
    "    \"\"\"\n",
    "    # prediction for y_test_binary\n",
    "    y_pred1 = predict(X_train, y_train_binary, X_test, k = k1)\n",
    "    return y_pred1\n",
    "\n",
    "def predict_binary2(X_train, y_train, X_test, k2 = 1):\n",
    "    \"\"\"\n",
    "    Perform a 2-step binary classification for the original three-class classification problem.\n",
    "    \"\"\"\n",
    "    y_pred1 = predict(X_train, y_train_binary, X_test, best_k)\n",
    "    \n",
    "    # modify training and testing data\n",
    "    X_test_modified = X_test[y_pred1 == 1]\n",
    "    X_train_modified = X_train[y_train_binary == 1]\n",
    "    y_train_modified = y_train[y_train_binary == 1]\n",
    "    \n",
    "    # prediction for y_test\n",
    "    y_pred2 = y_pred1.copy()\n",
    "    y_pred2[y_pred1 == 1] = predict(X_train_modified, y_train_modified, X_test_modified, k = k2)\n",
    "    return y_pred2"
   ]
  },
  {
   "cell_type": "code",
   "execution_count": 28,
   "metadata": {},
   "outputs": [
    {
     "name": "stdout",
     "output_type": "stream",
     "text": [
      "Class 0:\n",
      "True Positives: 8\n",
      "True Negatives: 35\n",
      "False Positives: 7\n",
      "False Negatives: 10\n",
      "\n",
      "Class 1:\n",
      "True Positives: 28\n",
      "True Negatives: 13\n",
      "False Positives: 12\n",
      "False Negatives: 7\n",
      "\n",
      "Class 2:\n",
      "True Positives: 5\n",
      "True Negatives: 53\n",
      "False Positives: 0\n",
      "False Negatives: 2\n",
      "\n",
      "Micro-averaged accuracy: 0.6833333333333333\n",
      "Micro-averaged precision: 0.6833333333333333\n",
      "\n",
      "Macro-averaged accuracy: 0.7888888888888889\n",
      "Macro-averaged precision: 0.652910052910053\n",
      "\n",
      "Class-weighted accuracy:0.7263888888888889\n",
      "Class-weighted precision:0.6833333333333335\n",
      "\n"
     ]
    }
   ],
   "source": [
    "# predict labels for test set using k-nearest neighbours algorithm\n",
    "y_pred_binary = predict_binary2(X_train, y_train, X_test, k2 = 1)\n",
    "\n",
    "# number of classes\n",
    "num_class = 3\n",
    "\n",
    "# compute confusion matrix\n",
    "true_positives, true_negatives, false_positives, false_negatives = confusion_matrix(y_test, y_pred_binary, num_class)\n",
    "\n",
    "# print confusion matrix values for each class\n",
    "for class_ in range(num_class):\n",
    "    print(f\"Class {class_}:\")\n",
    "    print(\"True Positives:\", true_positives[class_])\n",
    "    print(\"True Negatives:\", true_negatives[class_])\n",
    "    print(\"False Positives:\", false_positives[class_])\n",
    "    print(\"False Negatives:\", false_negatives[class_])\n",
    "    print()\n",
    "\n",
    "# micro-averaged accuracy and precision\n",
    "micro_accuracy, micro_precision = micro(true_positives, true_negatives, false_positives, false_negatives)\n",
    "\n",
    "# macro-averaged accuracy and precision\n",
    "macro_accuracy, macro_precision = macro(true_positives, true_negatives, false_positives, false_negatives)\n",
    "\n",
    "# class-weighted accuracy and precision\n",
    "class_weighted_accuracy, class_weighted_precision = class_weighted(true_positives, true_negatives, false_positives, false_negatives, np.bincount(y_test)/len(y_test))\n",
    "\n",
    "print(f\"Micro-averaged accuracy: {micro_accuracy}\")\n",
    "print(f\"Micro-averaged precision: {micro_precision}\")\n",
    "print(\"\")\n",
    "\n",
    "print(f\"Macro-averaged accuracy: {macro_accuracy}\")\n",
    "print(f\"Macro-averaged precision: {macro_precision}\")\n",
    "print(\"\")\n",
    "\n",
    "print(f\"Class-weighted accuracy:{class_weighted_accuracy}\")\n",
    "print(f\"Class-weighted precision:{class_weighted_precision}\")\n",
    "print(\"\")"
   ]
  },
  {
   "cell_type": "markdown",
   "metadata": {},
   "source": [
    "We find that the 2-step kNN performs very well, but not as well as the weighted version of kNN from 2.1.2. \n",
    "\n",
    "Weighted kNN has the best score for all six metrics. 2-step kNN has the second best for all six metrics, and unweighted kNN performs the worst for all six metrics. However, the scores for each model are relatively close.\n",
    "\n",
    "We would expect weighted kNN to perform very well as it is able to make more informed classification decisions, especially considering the fact that the classes differ greatly in size.\n",
    "\n",
    "2-step kNN might perform worse than weighted kNN due to the loss of information from separating the classification into two separate binary classification tasks.\n",
    "\n",
    "Unweighted kNN may perform the worst since it treats all neighbours equally, resulting in outliers having a big effect on the accuracy of the model. It also prioritises the majority class, leading to predictions with lower accuracy and bias, especially for the minority class."
   ]
  },
  {
   "cell_type": "markdown",
   "metadata": {
    "id": "X6Zz2bcMP6Wk"
   },
   "source": [
    "\n",
    "\n",
    "---\n",
    "\n"
   ]
  },
  {
   "cell_type": "markdown",
   "metadata": {
    "id": "J0K6bbpHPUYE"
   },
   "source": [
    "<a name=\"task-22\"></a>\n",
    "\n",
    "## (2.2) Logistic regression vs kernel logistic regression [(index)](#index-task-22)"
   ]
  },
  {
   "cell_type": "markdown",
   "metadata": {
    "id": "4pVdpUHZP-oE"
   },
   "source": [
    "<a name=\"task-221\"></a>\n",
    "\n",
    "### (2.2.1) [(index)](#index-task-221)"
   ]
  },
  {
   "cell_type": "code",
   "execution_count": 29,
   "metadata": {},
   "outputs": [],
   "source": [
    "# formulation of the binary classification task\n",
    "y_train_binary = np.where(y_train == 0, 0, 1)\n",
    "y_test_binary = np.where(y_test == 0, 0, 1)"
   ]
  },
  {
   "cell_type": "code",
   "execution_count": 30,
   "metadata": {},
   "outputs": [],
   "source": [
    "def logistic(z):\n",
    "    \"\"\"Compute the logistic sigmoid function.\"\"\"\n",
    "    return 1. / (1. + np.exp(-z))"
   ]
  },
  {
   "cell_type": "code",
   "execution_count": 31,
   "metadata": {},
   "outputs": [],
   "source": [
    "def predict_log(X, beta):\n",
    "    \"\"\"Predict the probability of belonging to a class using logistic regression.\"\"\"\n",
    "    y_log = logistic(X @ beta)\n",
    "    return y_log.squeeze()"
   ]
  },
  {
   "cell_type": "code",
   "execution_count": 32,
   "metadata": {},
   "outputs": [],
   "source": [
    "def initialise(size):\n",
    "    \"\"\" \n",
    "    Initialise beta parameter.\n",
    "    Argument:\n",
    "    size: Size of the parameter vector beta\n",
    "    Returns:\n",
    "    beta: Initialised vector of shape (size, 1)\n",
    "    \"\"\"\n",
    "    beta = np.zeros((size, 1))\n",
    "    return beta"
   ]
  },
  {
   "cell_type": "code",
   "execution_count": 33,
   "metadata": {},
   "outputs": [],
   "source": [
    "def propagate(X, y, beta, lambda1=0.0025):\n",
    "    \"\"\"\n",
    "    Compute the mean sample loss and its gradient with respect to beta.\n",
    "    Arguments:\n",
    "    X: Data of shape (N, p+1)\n",
    "    y: True label vector of size N\n",
    "    beta: Parameter vector, a numpy array of size p+1\n",
    "    lambda1: Regularisation parameter for the magnitude of beta\n",
    "    Returns:\n",
    "    mean_loss: Mean sample loss for the negative log-likelihood\n",
    "    dbeta: Gradient of the mean sample loss with respect to beta\n",
    "    \"\"\"\n",
    "    y_log = predict_log(X, beta)\n",
    "\n",
    "    # mean sample loss function\n",
    "    mean_loss = - np.mean(y * np.log(y_log) + (1-y) * np.log(1 - y_log) + lambda1/2 * np.linalg.norm(beta) ** 2)\n",
    "\n",
    "    # derivatives\n",
    "    dbeta = np.mean(X.T * (y_log - y), axis=1).reshape(-1, 1)\n",
    "    dbeta += lambda1 * beta\n",
    "    \n",
    "    mean_loss = np.squeeze(mean_loss)\n",
    "    \n",
    "    # store gradients in a dictionary\n",
    "    grads = {'dbeta': dbeta}\n",
    "      \n",
    "    return grads, mean_loss"
   ]
  },
  {
   "cell_type": "code",
   "execution_count": 34,
   "metadata": {},
   "outputs": [],
   "source": [
    "def optimise(X, y, beta, num_iterations=1000, learning_rate=0.1, print_loss=False):\n",
    "    \"\"\"\n",
    "    Optimise the logistic regression parameters using gradient descent.\n",
    "    Arguments:\n",
    "    X: Data of shape (N, p+1)\n",
    "    y: True label vector of size N\n",
    "    beta: Parameter vector, a numpy array of size p+1\n",
    "    num_iterations: Number of iterations\n",
    "    learning_rate: Step size in updating procedure\n",
    "    print_loss: 'True' to print the mean loss every 100 iterations\n",
    "    Returns:\n",
    "    params: Dictionary containing the parameter vector beta\n",
    "    grads: Dictionary containing the gradient\n",
    "    mean_loss_history: List of all the mean loss values computed during the optimisation (can be used to plot the learning curve)\n",
    "    \"\"\"\n",
    "    mean_loss_history = []\n",
    "    \n",
    "    for i in range(num_iterations):\n",
    "\n",
    "        # calculating the loss and gradients \n",
    "        grads, mean_loss = propagate(X, y, beta)\n",
    "        \n",
    "        # retrieving derivatives from grads\n",
    "        dbeta = grads['dbeta']\n",
    "        \n",
    "        # updating procedure\n",
    "        beta = beta - learning_rate * dbeta \n",
    "        \n",
    "        # record the loss values\n",
    "        if i % 100 == 0:\n",
    "            mean_loss_history.append(mean_loss)\n",
    "        \n",
    "        # printing the loss every 100 iterations\n",
    "        if print_loss and i % 100 == 0:\n",
    "            print ('Mean loss after iteration %i: %f' %(i, mean_loss))\n",
    "    \n",
    "    # saving parameters and gradients in dictionary\n",
    "    params = {'beta': beta}\n",
    "    grads = {'dbeta': dbeta}\n",
    "    \n",
    "    return params, grads, mean_loss_history"
   ]
  },
  {
   "cell_type": "code",
   "execution_count": 35,
   "metadata": {},
   "outputs": [],
   "source": [
    "def predict(X_test, beta):\n",
    "    \"\"\"\n",
    "    Predict the binary class labels for the test set using logistic regression.\n",
    "    Arguments:\n",
    "    X_test: Test set of shape (N_test, p+1)\n",
    "    beta: Parameter vector, a numpy array of size p+1\n",
    "    Returns:\n",
    "    y_pred: Vector containing all binary predictions (0/1) for X_test\n",
    "    \"\"\"\n",
    "    N_test = X_test.shape[0]\n",
    "    y_pred = np.zeros((N_test, 1))\n",
    "    beta = beta.reshape(X_test.shape[1], 1)\n",
    "    \n",
    "    # predicting the probabilities\n",
    "    y_log = predict_log(X_test, beta)\n",
    "    \n",
    "    y_pred = y_log.round().reshape(1, -1)\n",
    "    \n",
    "    return y_pred"
   ]
  },
  {
   "cell_type": "code",
   "execution_count": 36,
   "metadata": {},
   "outputs": [],
   "source": [
    "def model(X_train, y_train, X_test, y_test, num_iterations=2000, learning_rate=0.1, print_loss=False):\n",
    "    \"\"\"Train the logistic regression model and evaluate on the training and test set.\"\"\"\n",
    "    # initialising parameters with zeros\n",
    "    beta = initialise(X_train.shape[1])\n",
    "\n",
    "    # gradient descent\n",
    "    parameters, grads, mean_loss_history = optimise(X_train, y_train, beta, num_iterations, learning_rate, print_loss=print_loss)\n",
    "\n",
    "    # retrieving parameter vector beta from dictionary 'parameters'\n",
    "    beta = parameters['beta']\n",
    "\n",
    "    # predicting test and training set examples\n",
    "    y_pred_test = predict(X_test, beta)\n",
    "    y_pred_train = predict(X_train, beta)\n",
    "\n",
    "    # printing train/test accuracy\n",
    "    print('Training accuracy: {} %'.format(100 - np.mean(np.abs(y_pred_train - y_train)) * 100))\n",
    "    print('Test accuracy: {} %'.format(100 - np.mean(np.abs(y_pred_test - y_test)) * 100))\n",
    "\n",
    "    # saving all information\n",
    "    d = {'mean_loss_history': mean_loss_history, 'y_pred_test': y_pred_test, 'y_pred_train': y_pred_train, 'beta': beta, 'learning_rate': learning_rate, 'num_iterations': num_iterations}\n",
    "    \n",
    "    return d"
   ]
  },
  {
   "cell_type": "code",
   "execution_count": 37,
   "metadata": {},
   "outputs": [
    {
     "name": "stdout",
     "output_type": "stream",
     "text": [
      "Mean loss after iteration 0: 0.693147\n",
      "Mean loss after iteration 100: 0.623937\n",
      "Mean loss after iteration 200: 0.616954\n",
      "Mean loss after iteration 300: 0.612943\n",
      "Mean loss after iteration 400: 0.610708\n",
      "Training accuracy: 64.82758620689656 %\n",
      "Test accuracy: 56.666666666666664 %\n"
     ]
    }
   ],
   "source": [
    "# running the model\n",
    "d = model(X_train, y_train_binary, X_test, y_test_binary, num_iterations=500, learning_rate=0.1, print_loss=True)"
   ]
  },
  {
   "cell_type": "code",
   "execution_count": 38,
   "metadata": {},
   "outputs": [],
   "source": [
    "def precision_recall_curve(y_true, y_log):\n",
    "    \"\"\"\n",
    "    Arguments:\n",
    "    y_true: Ground truth labels with size N\n",
    "    y_log: Probabilities produced by logistic regression model with size N\n",
    "  \n",
    "    Returns:\n",
    "    auc: Area Under the Curve (AUC) of the precision-recall curve\n",
    "    precision_l: List of precision values for each scanned threshold\n",
    "    recall_l: List of recall values for each scanned threshold\n",
    "    thresholds: Scanned thresholds sorted in decreasing order\n",
    "    \"\"\"\n",
    "    thresholds = reversed(sorted(set(y_log)))\n",
    "    precision_l, recall_l = [], []\n",
    "\n",
    "    for threshold in thresholds:\n",
    "        y_thresholded = (y_log >= threshold)\n",
    "\n",
    "        tp = np.sum(y_true & y_thresholded)\n",
    "        fp = np.sum((~y_true) & y_thresholded)\n",
    "        fn = np.sum(y_true & (~y_thresholded))\n",
    "\n",
    "        precision = tp / (tp + fp)\n",
    "        recall = tp / (tp + fn) \n",
    "\n",
    "        precision_l.append(precision)\n",
    "        recall_l.append(recall)\n",
    "    \n",
    "    # compute AUC-PR using Trapezoidal rule\n",
    "    auc = np.trapz(precision_l, recall_l)\n",
    "    \n",
    "    return auc, precision_l, recall_l, thresholds"
   ]
  },
  {
   "cell_type": "code",
   "execution_count": 39,
   "metadata": {},
   "outputs": [
    {
     "data": {
      "image/png": "[encoded data removed]",
      "text/plain": [
       "<Figure size 1200x800 with 1 Axes>"
      ]
     },
     "metadata": {},
     "output_type": "display_data"
    }
   ],
   "source": [
    "y_log = predict_log(X_test, d['beta'])\n",
    "auc, precision, recall, th = precision_recall_curve(y_test_binary, y_log) \n",
    "\n",
    "plt.figure(figsize=(12,8))\n",
    "plt.title(f'Precision-Recall Curve')\n",
    "plt.plot(recall, precision, 'b', label=f'AUC-PR = {auc:0.2f}')\n",
    "plt.plot([0, 1], [1,0], 'r--', label='Identity function')\n",
    "plt.legend(loc='lower right')\n",
    "plt.xlim([0, 1])\n",
    "plt.ylim([0, 1])\n",
    "plt.xlabel('Recall')\n",
    "plt.ylabel('Precision')\n",
    "plt.show()"
   ]
  },
  {
   "cell_type": "markdown",
   "metadata": {},
   "source": [
    "An AUC-PR of 0.86 suggests that the model has achieved a very good balance between precision and recall, meaning it is able to distinguish between the two classes very well. This implies that the model can both identify a large portion of positive instances (recall) and also that false positives are rare (precision). \n",
    "\n",
    "Therefore, this suggests that the model has a a high generalising power and can effectively predict unseen data, even when the dataset is imbalanced."
   ]
  },
  {
   "cell_type": "markdown",
   "metadata": {
    "id": "e_MkiUD4QB0k"
   },
   "source": [
    "<a name=\"task-222\"></a>\n",
    "\n",
    "### (2.2.2) [(index)](#index-task-222)"
   ]
  },
  {
   "cell_type": "code",
   "execution_count": 40,
   "metadata": {},
   "outputs": [],
   "source": [
    "def kernel_mat(X, Y, alpha):\n",
    "    \"\"\"\n",
    "    Compute the kernel matrix using the Laplacian kernel.\n",
    "    Parameters:\n",
    "    - X (numpy.ndarray): Input matrix of shape (x, _).\n",
    "    - Y (numpy.ndarray): Input matrix of shape (y, _).\n",
    "    - alpha (float): Parameter controlling the shape of the kernel.\n",
    "    Returns:\n",
    "    - kernel (numpy.ndarray): Kernel matrix of shape (x, y).\n",
    "    \"\"\"\n",
    "    # get number of rows in each input matrix\n",
    "    x, _ = X.shape\n",
    "    y, _ = Y.shape\n",
    "    \n",
    "    # initialise kernel matrix\n",
    "    kernel = np.zeros((x, y))\n",
    "\n",
    "    # compute kernel values using Laplacian kernel given in question\n",
    "    for i in range(x):\n",
    "        # compute L1 distance between current row of X and all rows of Y\n",
    "        distances = np.linalg.norm(Y - X[i], ord=1, axis=1)\n",
    "        # compute kernel values\n",
    "        kernel[i, :] = np.exp(-distances * alpha)\n",
    "\n",
    "    return kernel"
   ]
  },
  {
   "cell_type": "code",
   "execution_count": 41,
   "metadata": {},
   "outputs": [],
   "source": [
    "def kernelised_predict_log(A, beta, intercept):\n",
    "    \"\"\"\n",
    "    Predict the probability of belonging to a class using logistic regression applied to a kernel matrix.\n",
    "    \"\"\"\n",
    "    y_log = logistic((A @ np.array(beta)) + intercept)\n",
    "    return y_log.squeeze()"
   ]
  },
  {
   "cell_type": "markdown",
   "metadata": {},
   "source": [
    "We construct the loss function: \n",
    "\n",
    "$E(L) = -\\frac{1}{N} \\sum (y^{(i)} log(h_{\\beta,\\beta_{0}}(x^{(i)})) + (1-y^{(i)}) log(1-h_{\\beta,\\beta_{0}}(x^{(i)})) + \\frac{\\lambda}{2} \\beta^T A \\beta$\n",
    "\n",
    "$h_{\\beta,\\beta_{0}}(x) := \\frac{1}{1 + e^{-(A \\beta + \\beta_{0})}}$ \n",
    "\n",
    "where A is the kernel matrix computed using the Laplacian kernel."
   ]
  },
  {
   "cell_type": "code",
   "execution_count": 42,
   "metadata": {},
   "outputs": [],
   "source": [
    "def kernelised_propagate(A, y, beta, intercept, lambda1 = 0.0025):\n",
    "    \"\"\"\n",
    "    Compute the mean sample loss and its gradient for logistic regression applied to a kernel matrix.\n",
    "    \"\"\"\n",
    "    y_log = kernelised_predict_log(A, beta, intercept)\n",
    "\n",
    "    # mean sample loss function\n",
    "    mean_loss = - np.mean(y * np.log(y_log) + (1-y) * np.log(1 - y_log)) + lambda1/2 * np.dot(beta.T, A @ beta)\n",
    "\n",
    "    # derivatives\n",
    "    dbeta = np.mean(A.T * (y_log - y) , axis=1).reshape(-1, 1) + lambda1 * A @ beta\n",
    "    dintercept = np.mean((y_log - y)) \n",
    "\n",
    "    mean_loss = np.squeeze(mean_loss)\n",
    "    \n",
    "    # store gradients in a dictionary\n",
    "    grads = {'dbeta': dbeta, \"dintercept\" : dintercept}\n",
    "    \n",
    "    return grads, mean_loss"
   ]
  },
  {
   "cell_type": "code",
   "execution_count": 43,
   "metadata": {},
   "outputs": [],
   "source": [
    "def kernelised_optimise(A, y, beta, num_iterations=1000, learning_rate=0.1, print_loss=False):\n",
    "    \"\"\"\n",
    "    Optimise the kernelised version of logistic regression parameters using gradient descent.\n",
    "    \"\"\"\n",
    "    mean_loss_history = []\n",
    "    intercept = 0\n",
    "    \n",
    "    for i in range(num_iterations):\n",
    "\n",
    "        # calculating loss and gradients\n",
    "        grads, mean_loss = kernelised_propagate(A, y, beta, intercept)\n",
    "        \n",
    "        # retrieving derivatives from grads\n",
    "        dbeta = grads['dbeta']\n",
    "        dintercept = grads['dintercept']\n",
    "\n",
    "        # updating procedure\n",
    "        beta = beta - learning_rate * dbeta\n",
    "        intercept = intercept - learning_rate * dintercept\n",
    "\n",
    "        # record loss values\n",
    "        if i % 100 == 0:\n",
    "            mean_loss_history.append(mean_loss)\n",
    "\n",
    "        # printing loss every 100 iterations\n",
    "        if print_loss and i % 100 == 0:\n",
    "            print ('Mean loss after iteration %i: %f' %(i, mean_loss))\n",
    "\n",
    "    # saving parameters and gradients in dictionary\n",
    "    params = {'beta': beta, \"intercept\": intercept}\n",
    "    grads = {'dbeta': dbeta, \"dintercept\" : dintercept}\n",
    "\n",
    "    return params, grads, mean_loss_history"
   ]
  },
  {
   "cell_type": "markdown",
   "metadata": {},
   "source": [
    "We analyse the loss function component by component. The logistic loss component is the negative log-likelihood of the logistic regression model, which is convex.\n",
    "\n",
    "The regularisation component, given by $\\frac{\\lambda}{2} \\beta^T A \\beta$, is a quadratic function of $\\beta$, and since the kernel matrix is positive semi-definite, this component is convex.\n",
    "\n",
    "Since both components of the loss function are convex, the overall loss function is convex since summing two convex functions is convex. Therefore, optimising our loss function is a convex optimisation problem."
   ]
  },
  {
   "cell_type": "markdown",
   "metadata": {
    "id": "DzUYT08xQDV9"
   },
   "source": [
    "<a name=\"task-223\"></a>\n",
    "\n",
    "### (2.2.3) [(index)](#index-task-223)"
   ]
  },
  {
   "cell_type": "code",
   "execution_count": 44,
   "metadata": {},
   "outputs": [],
   "source": [
    "def kernelised_predict(X_test, beta, intercept):\n",
    "    \"\"\"\n",
    "    Predict the class labels for a given test set using kernelised logistic regression.\n",
    "    \"\"\"\n",
    "    N_test = X_test.shape[0]\n",
    "    y_pred = np.zeros((N_test, 1))\n",
    "    beta = beta.reshape(X_test.shape[1], 1)\n",
    "    \n",
    "    # Predicting the probabilities\n",
    "    y_log = kernelised_predict_log(X_test, beta, intercept)\n",
    "    \n",
    "    y_pred = y_log.round().reshape(1, -1) \n",
    "\n",
    "    return y_pred"
   ]
  },
  {
   "cell_type": "code",
   "execution_count": 45,
   "metadata": {},
   "outputs": [],
   "source": [
    "def kernelised_model(X_train, y_train, X_test, y_test, alpha, num_iterations=2000, learning_rate=0.1, print_loss=False):\n",
    "    \"\"\"\n",
    "    Train and evaluate a kernelised logistic regression model using Laplacian kernel.\n",
    "    \"\"\"\n",
    "    A_train = kernel_mat(X_train, X_train, alpha)\n",
    "    A_test = kernel_mat(X_test, X_train, alpha)\n",
    "    \n",
    "    # initialising parameters with zeros\n",
    "    beta = initialise(A_train.shape[1])\n",
    "\n",
    "    # gradient descent\n",
    "    parameters, grads, mean_loss_history = kernelised_optimise(A_train, y_train, beta, num_iterations, learning_rate, print_loss=print_loss)\n",
    "\n",
    "    # retrieving parameter vector beta from dictionary 'parameters'\n",
    "    beta = parameters['beta']\n",
    "    intercept = parameters['intercept']\n",
    "\n",
    "    # predicting test and training set examples\n",
    "    y_pred_test = kernelised_predict(A_test, beta,intercept)\n",
    "    y_pred_train = kernelised_predict(A_train, beta, intercept)\n",
    "\n",
    "    # printing train/test accuracy\n",
    "    print('Training accuracy: {} %'.format(100 - np.mean(np.abs(y_pred_train - y_train)) * 100))\n",
    "    print('Test accuracy: {} %'.format(100 - np.mean(np.abs(y_pred_test - y_test)) * 100))\n",
    "\n",
    "    # saving all information\n",
    "    d = {'mean_loss_history': mean_loss_history, 'y_pred_test': y_pred_test, 'y_pred_train': y_pred_train, 'beta': beta, 'intercept': intercept, 'learning_rate': learning_rate, 'num_iterations': num_iterations}\n",
    "    \n",
    "    return d"
   ]
  },
  {
   "cell_type": "code",
   "execution_count": 46,
   "metadata": {},
   "outputs": [],
   "source": [
    "np.random.seed(25)"
   ]
  },
  {
   "cell_type": "code",
   "execution_count": 47,
   "metadata": {},
   "outputs": [
    {
     "name": "stdout",
     "output_type": "stream",
     "text": [
      "Mean loss after iteration 0: 0.693147\n",
      "Mean loss after iteration 100: 0.613842\n",
      "Mean loss after iteration 200: 0.598316\n",
      "Mean loss after iteration 300: 0.584775\n",
      "Mean loss after iteration 400: 0.572512\n",
      "Training accuracy: 67.58620689655173 %\n",
      "Test accuracy: 70.0 %\n",
      "alpha = 100\n"
     ]
    }
   ],
   "source": [
    "# running the model\n",
    "d1 = kernelised_model(X_train, y_train_binary, X_test, y_test_binary, alpha=100, num_iterations=500, learning_rate=0.1, print_loss=True)\n",
    "print(\"alpha = 100\")"
   ]
  },
  {
   "cell_type": "code",
   "execution_count": 48,
   "metadata": {},
   "outputs": [
    {
     "data": {
      "image/png": "[encoded data removed]",
      "text/plain": [
       "<Figure size 1200x800 with 1 Axes>"
      ]
     },
     "metadata": {},
     "output_type": "display_data"
    }
   ],
   "source": [
    "# plotting precision-recall curve\n",
    "A_test1 = kernel_mat(X_test, X_train, 100)\n",
    "y_log = kernelised_predict_log(A_test1, d1['beta'], d1['intercept'])\n",
    "auc, precision, recall, th = precision_recall_curve(y_test_binary, y_log) \n",
    "\n",
    "plt.figure(figsize=(12,8))\n",
    "plt.title(f'Precision-Recall Curve')\n",
    "plt.plot(recall, precision, 'b', label=f'AUC-PR = {auc:0.2f}')\n",
    "plt.plot([0, 1], [1,0], 'r--', label='Identity function')\n",
    "plt.legend(loc='lower right')\n",
    "plt.xlim([0, 1])\n",
    "plt.ylim([0, 1])\n",
    "plt.xlabel('Recall')\n",
    "plt.ylabel('Precision')\n",
    "plt.show()"
   ]
  },
  {
   "cell_type": "code",
   "execution_count": 49,
   "metadata": {},
   "outputs": [
    {
     "name": "stdout",
     "output_type": "stream",
     "text": [
      "Mean loss after iteration 0: 0.693147\n",
      "Mean loss after iteration 100: 0.528921\n",
      "Mean loss after iteration 200: 0.497216\n",
      "Mean loss after iteration 300: 0.480677\n",
      "Mean loss after iteration 400: 0.469650\n",
      "Training accuracy: 80.6896551724138 %\n",
      "Test accuracy: 83.33333333333334 %\n",
      "alpha = 0.3\n"
     ]
    }
   ],
   "source": [
    "# running the model\n",
    "d2 = kernelised_model(X_train, y_train_binary, X_test, y_test_binary, alpha=0.3, num_iterations=500, learning_rate=0.1, print_loss=True)\n",
    "print(\"alpha = 0.3\")"
   ]
  },
  {
   "cell_type": "code",
   "execution_count": 50,
   "metadata": {},
   "outputs": [
    {
     "data": {
      "image/png": "[encoded data removed]",
      "text/plain": [
       "<Figure size 1200x800 with 1 Axes>"
      ]
     },
     "metadata": {},
     "output_type": "display_data"
    }
   ],
   "source": [
    "# plotting precision-recall curve\n",
    "A_test2 = kernel_mat(X_test, X_train, 0.3)\n",
    "y_log = kernelised_predict_log(A_test2, d2['beta'], d2['intercept'])\n",
    "auc, precision, recall, th = precision_recall_curve(y_test_binary, y_log) \n",
    "\n",
    "plt.figure(figsize=(12,8))\n",
    "plt.title(f'Precision-Recall Curve')\n",
    "plt.plot(recall, precision, 'b', label=f'AUC-PR = {auc:0.2f}')\n",
    "plt.plot([0, 1], [1,0], 'r--', label='Identity function')\n",
    "plt.legend(loc='lower right')\n",
    "plt.xlim([0, 1])\n",
    "plt.ylim([0, 1])\n",
    "plt.xlabel('Recall')\n",
    "plt.ylabel('Precision')\n",
    "plt.show()"
   ]
  },
  {
   "cell_type": "markdown",
   "metadata": {},
   "source": [
    "The precision-recall curves above imply that $\\lambda = 0.3$ performs significantly better than $\\lambda = 100$. We have an AUC-PR of 0.90 for $\\lambda = 0.3$ and an AUC-PR of 0.79 for $\\lambda = 100$, implying that the model with $\\lambda = 0.3$ is far more effective at identifying positive instances and not predicting false positives.\n",
    "\n",
    "The training and test accuracies also agree with this. For test set, the accuracy of the model with $\\lambda = 100$ is 70.0% compared to 83.3% for the model with $\\lambda = 0.3$.\n",
    "\n",
    "Compared to the penalised logistic regression model in 2.1.1., the test accuracies are much higher, with only 56.7% for the model in 2.1.1. \n",
    "\n",
    "The logistic regression model does however have an AUC-PR of 0.86 which is second best overall, just behind the model with $\\lambda = 0.3$."
   ]
  }
 ],
 "metadata": {
  "colab": {
   "provenance": [],
   "toc_visible": true
  },
  "kernelspec": {
   "display_name": "Python 3 (ipykernel)",
   "language": "python",
   "name": "python3"
  },
  "language_info": {
   "codemirror_mode": {
    "name": "ipython",
    "version": 3
   },
   "file_extension": ".py",
   "mimetype": "text/x-python",
   "name": "python",
   "nbconvert_exporter": "python",
   "pygments_lexer": "ipython3",
   "version": "3.11.5"
  }
 },
 "nbformat": 4,
 "nbformat_minor": 4
}
