{
 "cells": [
  {
   "cell_type": "markdown",
   "metadata": {
    "id": "Cb_IWF6UQRGk"
   },
   "source": [
    "# Coursework 1 - Supervised learning\n",
    "\n",
    "**Replace CID in the file name with your CID**"
   ]
  },
  {
   "cell_type": "markdown",
   "metadata": {
    "id": "yTeLZnrzE0Wy"
   },
   "source": [
    "# Outline\n",
    "\n",
    "\n",
    "- [Task 1](#task-1): Regression <a name=\"index-task-1\"></a>\n",
    "  - [(1.1)](#task-11) Random Forest <a name=\"index-task-11\"></a>\n",
    "    - [(1.1.1)](#task-111) <a name=\"index-task-111\"></a>\n",
    "    - [(1.1.2)](#task-112) <a name=\"index-task-112\"></a>\n",
    "    - [(1.1.3)](#task-113) <a name=\"index-task-113\"></a>\n",
    "  - [(1.2)](#task-12) Multi-layer Perceptron <a name=\"index-task-12\"></a>\n",
    "    - [(1.2.1)](#task-121) <a name=\"index-task-121\"></a>\n",
    "    - [(1.2.2)](#task-122) <a name=\"index-task-122\"></a>\n",
    "    - [(1.2.3)](#task-123) <a name=\"index-task-123\"></a>\n",
    "- [Task 2](#task-2): Classification <a name=\"index-task-2\"></a>\n",
    "  - [(2.1)](#task-21) k-Nearest Neighbours <a name=\"index-task-21\"></a>\n",
    "    - [(2.1.1)](#task-211)  <a name=\"index-task-211\"></a>\n",
    "    - [(2.1.2)](#task-212) <a name=\"index-task-212\"></a>\n",
    "    - [(2.1.3)](#task-213) <a name=\"index-task-213\"></a>\n",
    "  - [(2.2)](#task-22) Logistic regression vs kernel logistic regression <a name=\"index-task-22\"></a>\n",
    "    - [(2.2.1)](#task-221) <a name=\"index-task-221\"></a>\n",
    "    - [(2.2.2)](#task-222) <a name=\"index-task-222\"></a>\n",
    "    - [(2.2.3)](#task-223) <a name=\"index-task-223\"></a>"
   ]
  },
  {
   "cell_type": "markdown",
   "metadata": {
    "id": "V4LmL6R9N1B-"
   },
   "source": [
    "\n",
    "\n",
    "---\n",
    "\n"
   ]
  },
  {
   "cell_type": "code",
   "execution_count": 1,
   "metadata": {},
   "outputs": [],
   "source": [
    "# import packages\n",
    "import pandas as pd\n",
    "import numpy as np\n",
    "import seaborn as sns\n",
    "from tqdm.notebook import tqdm\n",
    "from matplotlib import pyplot as plt"
   ]
  },
  {
   "cell_type": "markdown",
   "metadata": {
    "id": "0_QE32lOMff_"
   },
   "source": [
    "<a name=\"task-1\"></a>\n",
    "\n",
    "# (1) Task 1: Regression [(index)](#index-task-1)"
   ]
  },
  {
   "cell_type": "markdown",
   "metadata": {
    "id": "DLl66QsJMfzc"
   },
   "source": [
    "<a name=\"task-11\"></a>\n",
    "\n",
    "## (1.1) Random Forest [(index)](#index-task-11)"
   ]
  },
  {
   "cell_type": "markdown",
   "metadata": {
    "id": "T47skSuUMf8M"
   },
   "source": [
    "<a name=\"task-111\"></a>\n",
    "\n",
    "### (1.1.1) [(index)](#index-task-111)"
   ]
  },
  {
   "cell_type": "code",
   "execution_count": 2,
   "metadata": {},
   "outputs": [
    {
     "name": "stdout",
     "output_type": "stream",
     "text": [
      "number of predictors = 12\n"
     ]
    },
    {
     "data": {
      "text/html": [
       "<div>\n",
       "<style scoped>\n",
       "    .dataframe tbody tr th:only-of-type {\n",
       "        vertical-align: middle;\n",
       "    }\n",
       "\n",
       "    .dataframe tbody tr th {\n",
       "        vertical-align: top;\n",
       "    }\n",
       "\n",
       "    .dataframe thead th {\n",
       "        text-align: right;\n",
       "    }\n",
       "</style>\n",
       "<table border=\"1\" class=\"dataframe\">\n",
       "  <thead>\n",
       "    <tr style=\"text-align: right;\">\n",
       "      <th></th>\n",
       "      <th>Surface_Area ($m^2/g$)</th>\n",
       "      <th>Defect_Ratio</th>\n",
       "      <th>Doped_Nitrogen_Percentage</th>\n",
       "      <th>Doped_Oxygen_Percentage</th>\n",
       "      <th>Doped_Sulfur_Percentage</th>\n",
       "      <th>Current_Density ($A/g$)</th>\n",
       "      <th>Electrolyte_Concentration $[M]$</th>\n",
       "      <th>H9_Factor ($mL/g$)</th>\n",
       "      <th>T5_Factor ($mL/g$)</th>\n",
       "      <th>Doped_Zinc_Percentage</th>\n",
       "      <th>Doped_Flourine_Percentage</th>\n",
       "      <th>Doped_Carbon_Percentage</th>\n",
       "    </tr>\n",
       "  </thead>\n",
       "  <tbody>\n",
       "    <tr>\n",
       "      <th>0</th>\n",
       "      <td>444.50</td>\n",
       "      <td>0.84</td>\n",
       "      <td>2.51</td>\n",
       "      <td>4.76</td>\n",
       "      <td>3.71</td>\n",
       "      <td>10.0</td>\n",
       "      <td>6.0</td>\n",
       "      <td>49.609432</td>\n",
       "      <td>51.225638</td>\n",
       "      <td>46.902466</td>\n",
       "      <td>25.685810</td>\n",
       "      <td>45.407250</td>\n",
       "    </tr>\n",
       "    <tr>\n",
       "      <th>1</th>\n",
       "      <td>196.80</td>\n",
       "      <td>1.02</td>\n",
       "      <td>2.50</td>\n",
       "      <td>19.42</td>\n",
       "      <td>0.20</td>\n",
       "      <td>0.5</td>\n",
       "      <td>6.0</td>\n",
       "      <td>22.008342</td>\n",
       "      <td>5.978067</td>\n",
       "      <td>77.697696</td>\n",
       "      <td>43.395016</td>\n",
       "      <td>56.839706</td>\n",
       "    </tr>\n",
       "    <tr>\n",
       "      <th>2</th>\n",
       "      <td>1122.50</td>\n",
       "      <td>0.85</td>\n",
       "      <td>4.20</td>\n",
       "      <td>5.70</td>\n",
       "      <td>1.30</td>\n",
       "      <td>1.0</td>\n",
       "      <td>6.0</td>\n",
       "      <td>115.085236</td>\n",
       "      <td>7.235982</td>\n",
       "      <td>54.830009</td>\n",
       "      <td>41.491648</td>\n",
       "      <td>72.580806</td>\n",
       "    </tr>\n",
       "    <tr>\n",
       "      <th>3</th>\n",
       "      <td>39.05</td>\n",
       "      <td>1.02</td>\n",
       "      <td>4.16</td>\n",
       "      <td>9.39</td>\n",
       "      <td>2.21</td>\n",
       "      <td>1.0</td>\n",
       "      <td>6.0</td>\n",
       "      <td>4.309532</td>\n",
       "      <td>6.812445</td>\n",
       "      <td>39.595893</td>\n",
       "      <td>33.487503</td>\n",
       "      <td>58.428443</td>\n",
       "    </tr>\n",
       "    <tr>\n",
       "      <th>4</th>\n",
       "      <td>370.40</td>\n",
       "      <td>1.32</td>\n",
       "      <td>4.80</td>\n",
       "      <td>7.76</td>\n",
       "      <td>2.01</td>\n",
       "      <td>1.0</td>\n",
       "      <td>1.0</td>\n",
       "      <td>38.785107</td>\n",
       "      <td>7.970446</td>\n",
       "      <td>47.852171</td>\n",
       "      <td>45.612992</td>\n",
       "      <td>84.529863</td>\n",
       "    </tr>\n",
       "  </tbody>\n",
       "</table>\n",
       "</div>"
      ],
      "text/plain": [
       "   Surface_Area ($m^2/g$)  Defect_Ratio  Doped_Nitrogen_Percentage  \\\n",
       "0                  444.50          0.84                       2.51   \n",
       "1                  196.80          1.02                       2.50   \n",
       "2                 1122.50          0.85                       4.20   \n",
       "3                   39.05          1.02                       4.16   \n",
       "4                  370.40          1.32                       4.80   \n",
       "\n",
       "   Doped_Oxygen_Percentage  Doped_Sulfur_Percentage  Current_Density ($A/g$)  \\\n",
       "0                     4.76                     3.71                     10.0   \n",
       "1                    19.42                     0.20                      0.5   \n",
       "2                     5.70                     1.30                      1.0   \n",
       "3                     9.39                     2.21                      1.0   \n",
       "4                     7.76                     2.01                      1.0   \n",
       "\n",
       "   Electrolyte_Concentration $[M]$  H9_Factor ($mL/g$)  T5_Factor ($mL/g$)  \\\n",
       "0                              6.0           49.609432           51.225638   \n",
       "1                              6.0           22.008342            5.978067   \n",
       "2                              6.0          115.085236            7.235982   \n",
       "3                              6.0            4.309532            6.812445   \n",
       "4                              1.0           38.785107            7.970446   \n",
       "\n",
       "   Doped_Zinc_Percentage  Doped_Flourine_Percentage  Doped_Carbon_Percentage  \n",
       "0              46.902466                  25.685810                45.407250  \n",
       "1              77.697696                  43.395016                56.839706  \n",
       "2              54.830009                  41.491648                72.580806  \n",
       "3              39.595893                  33.487503                58.428443  \n",
       "4              47.852171                  45.612992                84.529863  "
      ]
     },
     "execution_count": 2,
     "metadata": {},
     "output_type": "execute_result"
    }
   ],
   "source": [
    "# import data and split into target variable and 12 features\n",
    "\n",
    "# training set data\n",
    "capacitance_samples = pd.read_csv('nanoelectrodes_capacitance_samples.csv')\n",
    "X_train_df = capacitance_samples[capacitance_samples.columns[np.arange(13)!=6]]\n",
    "y_train_df = capacitance_samples[capacitance_samples.columns[6]]\n",
    "\n",
    "# store the names of the features in a list\n",
    "feature_names = X_train_df.columns.tolist()\n",
    "\n",
    "# test set data\n",
    "capacitance_test = pd.read_csv('nanoelectrodes_capacitance_test.csv')\n",
    "X_test_df = capacitance_test[capacitance_test.columns[np.arange(13)!=6]]\n",
    "y_test_df = capacitance_test[capacitance_test.columns[6]]\n",
    "\n",
    "# observe features\n",
    "print(f'number of predictors = {X_test_df.shape[1]}')\n",
    "X_test_df.head()"
   ]
  },
  {
   "cell_type": "markdown",
   "metadata": {},
   "source": [
    "We standardise the dataset using the convention discussed in the lecture. This makes it easier to compare the performance of different models."
   ]
  },
  {
   "cell_type": "code",
   "execution_count": 3,
   "metadata": {},
   "outputs": [],
   "source": [
    "def standardise(X, X_train_=None):\n",
    "    \"\"\"\n",
    "    Standardise features.\n",
    "    Parameters:\n",
    "        X (np.array): Feature matrix.\n",
    "        X_train_ (np.array): An optional feature matrix to compute the statistics\n",
    "            from before applying it to X. If None, just use X to compute the statistics.\n",
    "    Returns:\n",
    "        X_std (np.array): Standardised feature matrix\n",
    "    \"\"\"\n",
    "    if X_train_ is None:\n",
    "        X_train_ = X\n",
    "\n",
    "    mu = np.mean(X_train_, axis=0, keepdims=True) \n",
    "    sigma = np.std(X_train_, axis=0, keepdims=True) \n",
    "    X_std = (X - mu) / sigma\n",
    "    return X_std"
   ]
  },
  {
   "cell_type": "code",
   "execution_count": 4,
   "metadata": {},
   "outputs": [],
   "source": [
    "# transform training and test data into standardised arrays\n",
    "X_train = standardise(np.array(X_train_df))\n",
    "X_test = standardise(np.array(X_test_df), np.array(X_train_df))"
   ]
  },
  {
   "cell_type": "code",
   "execution_count": 5,
   "metadata": {},
   "outputs": [],
   "source": [
    "def mse(y):\n",
    "    # Return MSE\n",
    "    return np.mean((y-np.mean(y))**2)"
   ]
  },
  {
   "cell_type": "code",
   "execution_count": 6,
   "metadata": {},
   "outputs": [],
   "source": [
    "# we assume all examples have the same weight.\n",
    "training_weights = np.ones_like(y_train_df) / len(y_train_df)\n",
    "\n",
    "# dictionary indicates whether the column index maps to a categorical or numerical feature\n",
    "columns_dict = {index: False for index in range(X_train_df.shape[1])}"
   ]
  },
  {
   "cell_type": "code",
   "execution_count": 7,
   "metadata": {},
   "outputs": [],
   "source": [
    "def split_samples(X, y, column, value, categorical):\n",
    "    \"\"\"\n",
    "    Return the split of data whose column-th feature:\n",
    "      1. equals value, in case `column` is categorical, or\n",
    "      2. less than value, in case `column` is not categorical (i.e. numerical)\n",
    "\n",
    "    Arguments:\n",
    "        X: training features, of shape (N, p).\n",
    "        y: vector of training labels, of shape (N,).\n",
    "        sample_weights: weights for each samples, of shape (N,).\n",
    "        column: the column of the feature for splitting.\n",
    "        value: splitting threshold  the samples\n",
    "        categorical: boolean value indicating whether column is a categorical variable or numerical.\n",
    "    Returns:\n",
    "        tuple(np.array, np.array, np.array): tuple of the left split data (X_l, y_l).\n",
    "        tuple(np.array, np.array, np.array): tuple of the right split data (X_l, y_l)\n",
    "    \"\"\"\n",
    "    if categorical:\n",
    "        left_mask =(X[:, column] == value)\n",
    "    else:\n",
    "        left_mask = (X[:, column] < value)\n",
    "\n",
    "    # Using the binary masks `left_mask`, we split X, y, and sample_weights.\n",
    "    X_l, y_l = X[left_mask, :], y[left_mask]\n",
    "    X_r, y_r = X[~left_mask, :], y[~left_mask] \n",
    "\n",
    "    return (X_l, y_l), (X_r, y_r)"
   ]
  },
  {
   "cell_type": "code",
   "execution_count": 8,
   "metadata": {},
   "outputs": [],
   "source": [
    "def mse_split_value(X, y, column, categorical):\n",
    "    \"\"\"\n",
    "    Calculate the MSE based on `column` with the split that minimises the MSE.\n",
    "    Arguments:\n",
    "        X: training features, of shape (N, p).\n",
    "        y: vector of training labels, of shape (N,).\n",
    "        sample_weights: weights for each samples, of shape (N,).\n",
    "        column: the column of the feature for calculating. 0 <= column < D\n",
    "        categorical: boolean value indicating whether column is a categorical variable or numerical.\n",
    "    Returns:\n",
    "        (float, float): the resulted MSE and the corresponding value used in splitting.\n",
    "    \"\"\"\n",
    "\n",
    "    unique_vals = np.unique(X[:, column])\n",
    "\n",
    "    assert len(unique_vals) > 1, f\"There must be more than one distinct feature value. Given: {unique_vals}.\"\n",
    "\n",
    "    mse_val, threshold = np.inf, None\n",
    "\n",
    "    # split the values of i-th feature and calculate the cost\n",
    "    for value in unique_vals:\n",
    "        (X_l, y_l), (X_r, y_r) = split_samples(X, y, column, value, categorical)\n",
    "\n",
    "        # if one of the two sides is empty, skip this split.\n",
    "        if len(y_l) == 0 or len(y_r) == 0:\n",
    "            continue\n",
    "\n",
    "        new_cost = len(y_l)/len(y) * mse(y_l) + len(y_r)/len(y) * mse(y_r)\n",
    "        if new_cost < mse_val:\n",
    "              mse_val, threshold = new_cost, value\n",
    "\n",
    "    return mse_val, threshold"
   ]
  },
  {
   "cell_type": "code",
   "execution_count": 9,
   "metadata": {},
   "outputs": [],
   "source": [
    "def mse_split(X, y, columns_dict):\n",
    "    \"\"\"\n",
    "    Choose the best feature to split according to criterion.\n",
    "    Args:\n",
    "        X: training features, of shape (N, p).\n",
    "        y: vector of training labels, of shape (N,).\n",
    "        sample_weights: weights for each samples, of shape (N,).\n",
    "        columns_dict: a dictionary mapping column indices to whether the column is categorical or numerical variable.\n",
    "    Returns:\n",
    "        (int, float): the best feature index and value used in splitting.\n",
    "        If the feature index is None, then no valid split for the current Node.\n",
    "    \"\"\"\n",
    "    # Initialise `split_column` to None, so if None returned this means there is no valid split at the current node.\n",
    "    min_mse = np.inf\n",
    "    split_column = None\n",
    "    split_val = np.nan\n",
    "\n",
    "    for column, categorical in columns_dict.items():\n",
    "        # skip column if samples are not seperable by that column.\n",
    "        if len(np.unique(X[:, column])) < 2:\n",
    "            continue\n",
    "        mse, current_split_val = mse_split_value(X, y, column, categorical)\n",
    "\n",
    "\n",
    "        if mse < min_mse: \n",
    "            # Keep track with:\n",
    "\n",
    "            # 1. the current minimum MSE value,\n",
    "            min_mse = mse\n",
    "\n",
    "            # 2. corresponding column,\n",
    "            split_column = column \n",
    "\n",
    "            # 3. corresponding split threshold.\n",
    "            split_val = current_split_val \n",
    "\n",
    "    return split_column, split_val"
   ]
  },
  {
   "cell_type": "code",
   "execution_count": 10,
   "metadata": {},
   "outputs": [],
   "source": [
    "def mean_vote(y):\n",
    "    \"\"\"\n",
    "    Return the mean of the labels.\n",
    "    Args:\n",
    "        y: vector of training labels, of shape (N,).\n",
    "    Returns:\n",
    "        (int): the mean of the labels\n",
    "    \"\"\"\n",
    "    return np.mean(y)"
   ]
  },
  {
   "cell_type": "code",
   "execution_count": 11,
   "metadata": {},
   "outputs": [],
   "source": [
    "def build_tree(X, y, columns_dict, feature_names, depth,  max_depth=10, min_samples_leaf=10):\n",
    "    \"\"\"Build the decision tree according to the data.\n",
    "    Args:\n",
    "        X: (np.array) training features, of shape (N, p).\n",
    "        y: (np.array) vector of training labels, of shape (N,).\n",
    "        columns_dict: a dictionary mapping column indices to whether the column is categorical or numerical variable.\n",
    "        feature_names (list): record the name of features in X in the original dataset.\n",
    "        depth (int): current depth for this node.\n",
    "        max_depth (int): maximum depth allowed for the tree.\n",
    "        min_samples_leaf (int): minimum number of samples required to be at a leaf node.\n",
    "    Returns:\n",
    "        (dict): a dict denoting the decision tree (binary-tree). Each node has seven attributes:\n",
    "          1. 'feature_name': The column name of the split.\n",
    "          2. 'feature_index': The column index of the split.\n",
    "          3. 'value': The value used for the split.\n",
    "          4. 'categorical': indicator for categorical/numerical variables.\n",
    "          5. 'mean_label': For leaf nodes, this stores the mean label. Otherwise, it is None.\n",
    "          6. 'left': The left sub-tree with the same structure.\n",
    "          7. 'right' The right sub-tree with the same structure.\n",
    "    \"\"\"\n",
    "    # include a clause for the cases where (i) no feature, (ii) all labels are the same, (iii) depth exceed, or (iv) X is too small\n",
    "    if len(np.unique(y))==1 or depth>=max_depth or len(X)<=min_samples_leaf:\n",
    "        return {'mean_label': mean_vote(y)}\n",
    "\n",
    "    split_index, split_val = mse_split(X, y, columns_dict) \n",
    "\n",
    "    # If no valid split at this node, use mean vote.\n",
    "    if split_index is None:\n",
    "        return {'mean_label': mean_vote(y)}\n",
    "\n",
    "    categorical = columns_dict[split_index]\n",
    "\n",
    "    # Split samples (X, y) given column, split-value, and categorical flag.\n",
    "    (X_l, y_l), (X_r, y_r) = split_samples(X, y, split_index, split_val, categorical)\n",
    "    return {\n",
    "        'feature_name': feature_names[split_index],\n",
    "        'feature_index': split_index,\n",
    "        'value': split_val,\n",
    "        'categorical': categorical,\n",
    "        'mean_label': None,\n",
    "        'left': build_tree(X_l, y_l, columns_dict, feature_names, depth + 1, max_depth, min_samples_leaf),\n",
    "        'right': build_tree(X_r, y_r, columns_dict, feature_names, depth + 1, max_depth, min_samples_leaf)\n",
    "    }"
   ]
  },
  {
   "cell_type": "code",
   "execution_count": 12,
   "metadata": {},
   "outputs": [],
   "source": [
    "def train(X, y, columns_dict=None, feature_names=feature_names):\n",
    "    \"\"\"\n",
    "    Build the decision tree according to the training data.\n",
    "    Args:\n",
    "        X: (pd.Dataframe) training features, of shape (N, p). Each X[i] is a training sample.\n",
    "        y: (pd.Series) vector of training labels, of shape (N,). y[i] is the label for X[i], and each y[i] is\n",
    "        an integer in the range 0 <= y[i] <= C. Here C = 1.\n",
    "        columns_dict: a dictionary mapping column indices to whether the column is categorical or numerical variable.\n",
    "        feature_names (list): List of feature names in the original dataset. If None, default feature names will be used.\n",
    "    Returns:\n",
    "        (dict): A decision tree model represented as a dictionary. Each node has the following attributes:\n",
    "            - 'feature_name': The column name of the split.\n",
    "            - 'feature_index': The column index of the split.\n",
    "            - 'value': The value used for the split.\n",
    "            - 'categorical': Indicator for categorical/numerical variables.\n",
    "            - 'mean_label': For leaf nodes, this stores the mean label. Otherwise, it is None.\n",
    "            - 'left': The left sub-tree with the same structure.\n",
    "            - 'right': The right sub-tree with the same structure.\n",
    "    \"\"\"\n",
    "    y = y.to_numpy()\n",
    "    return build_tree(X, y, columns_dict, feature_names, depth=1)"
   ]
  },
  {
   "cell_type": "code",
   "execution_count": 13,
   "metadata": {},
   "outputs": [],
   "source": [
    "# fit the decision tree with training data\n",
    "tree = train(X_train, y_train_df, columns_dict)"
   ]
  },
  {
   "cell_type": "code",
   "execution_count": 14,
   "metadata": {},
   "outputs": [
    {
     "data": {
      "text/plain": [
       "{'feature_name': 'Current_Density ($A/g$)',\n",
       " 'feature_index': 5,\n",
       " 'value': -0.4045240763812216,\n",
       " 'categorical': False,\n",
       " 'mean_label': None,\n",
       " 'left': {'feature_name': 'Doped_Oxygen_Percentage',\n",
       "  'feature_index': 3,\n",
       "  'value': 0.5033402558169106,\n",
       "  'categorical': False,\n",
       "  'mean_label': None,\n",
       "  'left': {'feature_name': 'Doped_Nitrogen_Percentage',\n",
       "   'feature_index': 2,\n",
       "   'value': -1.1368156865069619,\n",
       "   'categorical': False,\n",
       "   'mean_label': None,\n",
       "   'left': {'mean_label': 356.2857142857143},\n",
       "   'right': {'feature_name': 'Doped_Sulfur_Percentage',\n",
       "    'feature_index': 4,\n",
       "    'value': -0.02797466255849474,\n",
       "    'categorical': False,\n",
       "    'mean_label': None,\n",
       "    'left': {'feature_name': 'Defect_Ratio',\n",
       "     'feature_index': 1,\n",
       "     'value': 0.2921771344590554,\n",
       "     'categorical': False,\n",
       "     'mean_label': None,\n",
       "     'left': {'feature_name': 'Surface_Area ($m^2/g$)',\n",
       "      'feature_index': 0,\n",
       "      'value': -0.8127917997059619,\n",
       "      'categorical': False,\n",
       "      'mean_label': None,\n",
       "      'left': {'mean_label': 154.99},\n",
       "      'right': {'feature_name': 'Doped_Oxygen_Percentage',\n",
       "       'feature_index': 3,\n",
       "       'value': -1.2059716480775406,\n",
       "       'categorical': False,\n",
       "       'mean_label': None,\n",
       "       'left': {'mean_label': 171.0},\n",
       "       'right': {'feature_name': 'Defect_Ratio',\n",
       "        'feature_index': 1,\n",
       "        'value': -1.9725938240821888,\n",
       "        'categorical': False,\n",
       "        'mean_label': None,\n",
       "        'left': {'mean_label': 529.0},\n",
       "        'right': {'feature_name': 'Doped_Nitrogen_Percentage',\n",
       "         'feature_index': 2,\n",
       "         'value': 0.763707233986023,\n",
       "         'categorical': False,\n",
       "         'mean_label': None,\n",
       "         'left': {'mean_label': 269.4686538461538},\n",
       "         'right': {'mean_label': 214.2030769230769}}}}},\n",
       "     'right': {'feature_name': 'Defect_Ratio',\n",
       "      'feature_index': 1,\n",
       "      'value': 0.4928530421779,\n",
       "      'categorical': False,\n",
       "      'mean_label': None,\n",
       "      'left': {'mean_label': 94.82000000000001},\n",
       "      'right': {'feature_name': 'Surface_Area ($m^2/g$)',\n",
       "       'feature_index': 0,\n",
       "       'value': 0.45784093822456895,\n",
       "       'categorical': False,\n",
       "       'mean_label': None,\n",
       "       'left': {'feature_name': 'Surface_Area ($m^2/g$)',\n",
       "        'feature_index': 0,\n",
       "        'value': -0.5681081608980307,\n",
       "        'categorical': False,\n",
       "        'mean_label': None,\n",
       "        'left': {'mean_label': 200.0},\n",
       "        'right': {'mean_label': 267.23333333333335}},\n",
       "       'right': {'feature_name': 'T5_Factor ($mL/g$)',\n",
       "        'feature_index': 8,\n",
       "        'value': -0.6212520595663154,\n",
       "        'categorical': False,\n",
       "        'mean_label': None,\n",
       "        'left': {'mean_label': 210.5},\n",
       "        'right': {'mean_label': 134.28571428571428}}}}},\n",
       "    'right': {'feature_name': 'Defect_Ratio',\n",
       "     'feature_index': 1,\n",
       "     'value': -0.4245225359653889,\n",
       "     'categorical': False,\n",
       "     'mean_label': None,\n",
       "     'left': {'feature_name': 'T5_Factor ($mL/g$)',\n",
       "      'feature_index': 8,\n",
       "      'value': -0.6401729035904816,\n",
       "      'categorical': False,\n",
       "      'mean_label': None,\n",
       "      'left': {'mean_label': 278.8},\n",
       "      'right': {'feature_name': 'Doped_Zinc_Percentage',\n",
       "       'feature_index': 9,\n",
       "       'value': -0.9990540158277025,\n",
       "       'categorical': False,\n",
       "       'mean_label': None,\n",
       "       'left': {'mean_label': 280.0},\n",
       "       'right': {'feature_name': 'H9_Factor ($mL/g$)',\n",
       "        'feature_index': 7,\n",
       "        'value': -0.20927192929678085,\n",
       "        'categorical': False,\n",
       "        'mean_label': None,\n",
       "        'left': {'mean_label': 181.57142857142858},\n",
       "        'right': {'mean_label': 210.25}}}},\n",
       "     'right': {'feature_name': 'Doped_Zinc_Percentage',\n",
       "      'feature_index': 9,\n",
       "      'value': -1.743519184137414,\n",
       "      'categorical': False,\n",
       "      'mean_label': None,\n",
       "      'left': {'mean_label': 448.0},\n",
       "      'right': {'feature_name': 'Electrolyte_Concentration $[M]$',\n",
       "       'feature_index': 6,\n",
       "       'value': 0.44104658266714397,\n",
       "       'categorical': False,\n",
       "       'mean_label': None,\n",
       "       'left': {'feature_name': 'Surface_Area ($m^2/g$)',\n",
       "        'feature_index': 0,\n",
       "        'value': -0.24849411650258713,\n",
       "        'categorical': False,\n",
       "        'mean_label': None,\n",
       "        'left': {'mean_label': 291.0},\n",
       "        'right': {'mean_label': 440.3333333333333}},\n",
       "       'right': {'feature_name': 'T5_Factor ($mL/g$)',\n",
       "        'feature_index': 8,\n",
       "        'value': -0.4817624266779827,\n",
       "        'categorical': False,\n",
       "        'mean_label': None,\n",
       "        'left': {'feature_name': 'Doped_Oxygen_Percentage',\n",
       "         'feature_index': 3,\n",
       "         'value': -0.4202770558069269,\n",
       "         'categorical': False,\n",
       "         'mean_label': None,\n",
       "         'left': {'mean_label': 200.86285714285714},\n",
       "         'right': {'mean_label': 283.6375}},\n",
       "        'right': {'mean_label': 333.6}}}}}}},\n",
       "  'right': {'feature_name': 'H9_Factor ($mL/g$)',\n",
       "   'feature_index': 7,\n",
       "   'value': 0.7865721065196913,\n",
       "   'categorical': False,\n",
       "   'mean_label': None,\n",
       "   'left': {'feature_name': 'Doped_Nitrogen_Percentage',\n",
       "    'feature_index': 2,\n",
       "    'value': 1.409167848493074,\n",
       "    'categorical': False,\n",
       "    'mean_label': None,\n",
       "    'left': {'feature_name': 'Defect_Ratio',\n",
       "     'feature_index': 1,\n",
       "     'value': 0.5788570026288333,\n",
       "     'categorical': False,\n",
       "     'mean_label': None,\n",
       "     'left': {'feature_name': 'Defect_Ratio',\n",
       "      'feature_index': 1,\n",
       "      'value': -0.5105264964163223,\n",
       "      'categorical': False,\n",
       "      'mean_label': None,\n",
       "      'left': {'mean_label': 128.33333333333334},\n",
       "      'right': {'feature_name': 'Doped_Carbon_Percentage',\n",
       "       'feature_index': 11,\n",
       "       'value': 0.899374496665584,\n",
       "       'categorical': False,\n",
       "       'mean_label': None,\n",
       "       'left': {'feature_name': 'Surface_Area ($m^2/g$)',\n",
       "        'feature_index': 0,\n",
       "        'value': -0.08021312794301501,\n",
       "        'categorical': False,\n",
       "        'mean_label': None,\n",
       "        'left': {'feature_name': 'Defect_Ratio',\n",
       "         'feature_index': 1,\n",
       "         'value': -0.3385185755144555,\n",
       "         'categorical': False,\n",
       "         'mean_label': None,\n",
       "         'left': {'mean_label': 240.27714285714288},\n",
       "         'right': {'mean_label': 193.16692307692307}},\n",
       "        'right': {'mean_label': 276.0}},\n",
       "       'right': {'mean_label': 269.14285714285717}}},\n",
       "     'right': {'feature_name': 'Surface_Area ($m^2/g$)',\n",
       "      'feature_index': 0,\n",
       "      'value': -0.535410634128063,\n",
       "      'categorical': False,\n",
       "      'mean_label': None,\n",
       "      'left': {'mean_label': 40.0},\n",
       "      'right': {'feature_name': 'Surface_Area ($m^2/g$)',\n",
       "       'feature_index': 0,\n",
       "       'value': -0.19311375048120197,\n",
       "       'categorical': False,\n",
       "       'mean_label': None,\n",
       "       'left': {'mean_label': 223.15},\n",
       "       'right': {'mean_label': 155.8}}}},\n",
       "    'right': {'feature_name': 'Doped_Oxygen_Percentage',\n",
       "     'feature_index': 3,\n",
       "     'value': 1.5540324324628196,\n",
       "     'categorical': False,\n",
       "     'mean_label': None,\n",
       "     'left': {'mean_label': 92.74},\n",
       "     'right': {'mean_label': 165.26399999999998}}},\n",
       "   'right': {'mean_label': 350.0}}},\n",
       " 'right': {'feature_name': 'Surface_Area ($m^2/g$)',\n",
       "  'feature_index': 0,\n",
       "  'value': 2.4328742698743993,\n",
       "  'categorical': False,\n",
       "  'mean_label': None,\n",
       "  'left': {'feature_name': 'T5_Factor ($mL/g$)',\n",
       "   'feature_index': 8,\n",
       "   'value': 1.4910329742023085,\n",
       "   'categorical': False,\n",
       "   'mean_label': None,\n",
       "   'left': {'feature_name': 'Doped_Carbon_Percentage',\n",
       "    'feature_index': 11,\n",
       "    'value': 0.16552308232912835,\n",
       "    'categorical': False,\n",
       "    'mean_label': None,\n",
       "    'left': {'feature_name': 'Doped_Sulfur_Percentage',\n",
       "     'feature_index': 4,\n",
       "     'value': -0.3611293177562125,\n",
       "     'categorical': False,\n",
       "     'mean_label': None,\n",
       "     'left': {'feature_name': 'Doped_Carbon_Percentage',\n",
       "      'feature_index': 11,\n",
       "      'value': -0.8444983606480223,\n",
       "      'categorical': False,\n",
       "      'mean_label': None,\n",
       "      'left': {'feature_name': 'Doped_Carbon_Percentage',\n",
       "       'feature_index': 11,\n",
       "       'value': -0.9138661850547939,\n",
       "       'categorical': False,\n",
       "       'mean_label': None,\n",
       "       'left': {'feature_name': 'Doped_Sulfur_Percentage',\n",
       "        'feature_index': 4,\n",
       "        'value': -0.5234354318268954,\n",
       "        'categorical': False,\n",
       "        'mean_label': None,\n",
       "        'left': {'mean_label': 192.66666666666666},\n",
       "        'right': {'feature_name': 'Doped_Sulfur_Percentage',\n",
       "         'feature_index': 4,\n",
       "         'value': -0.5198760872200822,\n",
       "         'categorical': False,\n",
       "         'mean_label': None,\n",
       "         'left': {'mean_label': 89.0},\n",
       "         'right': {'mean_label': 158.69833333333335}}},\n",
       "       'right': {'mean_label': 104.825}},\n",
       "      'right': {'feature_name': 'Doped_Carbon_Percentage',\n",
       "       'feature_index': 11,\n",
       "       'value': -0.43271613100493367,\n",
       "       'categorical': False,\n",
       "       'mean_label': None,\n",
       "       'left': {'feature_name': 'Surface_Area ($m^2/g$)',\n",
       "        'feature_index': 0,\n",
       "        'value': -0.668255036083534,\n",
       "        'categorical': False,\n",
       "        'mean_label': None,\n",
       "        'left': {'mean_label': 290.6666666666667},\n",
       "        'right': {'mean_label': 204.2688888888889}},\n",
       "       'right': {'feature_name': 'Defect_Ratio',\n",
       "        'feature_index': 1,\n",
       "        'value': -0.4818585095993445,\n",
       "        'categorical': False,\n",
       "        'mean_label': None,\n",
       "        'left': {'mean_label': 267.5},\n",
       "        'right': {'feature_name': 'Doped_Nitrogen_Percentage',\n",
       "         'feature_index': 2,\n",
       "         'value': 0.43500043956113565,\n",
       "         'categorical': False,\n",
       "         'mean_label': None,\n",
       "         'left': {'mean_label': 166.66666666666666},\n",
       "         'right': {'mean_label': 80.25}}}}},\n",
       "     'right': {'feature_name': 'Defect_Ratio',\n",
       "      'feature_index': 1,\n",
       "      'value': -0.25251461506352085,\n",
       "      'categorical': False,\n",
       "      'mean_label': None,\n",
       "      'left': {'feature_name': 'Doped_Oxygen_Percentage',\n",
       "       'feature_index': 3,\n",
       "       'value': -1.2059716480775406,\n",
       "       'categorical': False,\n",
       "       'mean_label': None,\n",
       "       'left': {'mean_label': 126.0},\n",
       "       'right': {'feature_name': 'Doped_Sulfur_Percentage',\n",
       "        'feature_index': 4,\n",
       "        'value': 5.069718683319404,\n",
       "        'categorical': False,\n",
       "        'mean_label': None,\n",
       "        'left': {'feature_name': 'Doped_Sulfur_Percentage',\n",
       "         'feature_index': 4,\n",
       "         'value': 0.18985722737847455,\n",
       "         'categorical': False,\n",
       "         'mean_label': None,\n",
       "         'left': {'mean_label': 204.0507894736842},\n",
       "         'right': {'mean_label': 122.625}},\n",
       "        'right': {'mean_label': 350.0}}},\n",
       "      'right': {'feature_name': 'Defect_Ratio',\n",
       "       'feature_index': 1,\n",
       "       'value': 0.3781810949099888,\n",
       "       'categorical': False,\n",
       "       'mean_label': None,\n",
       "       'left': {'feature_name': 'Doped_Nitrogen_Percentage',\n",
       "        'feature_index': 2,\n",
       "        'value': 2.1550334474790005,\n",
       "        'categorical': False,\n",
       "        'mean_label': None,\n",
       "        'left': {'feature_name': 'Doped_Nitrogen_Percentage',\n",
       "         'feature_index': 2,\n",
       "         'value': -0.7172662870773785,\n",
       "         'categorical': False,\n",
       "         'mean_label': None,\n",
       "         'left': {'mean_label': 232.66666666666666},\n",
       "         'right': {'mean_label': 299.78999999999996}},\n",
       "        'right': {'mean_label': 142.0}},\n",
       "       'right': {'feature_name': 'Doped_Oxygen_Percentage',\n",
       "        'feature_index': 3,\n",
       "        'value': 1.5106410151382101,\n",
       "        'categorical': False,\n",
       "        'mean_label': None,\n",
       "        'left': {'feature_name': 'Doped_Carbon_Percentage',\n",
       "         'feature_index': 11,\n",
       "         'value': -1.309838898978089,\n",
       "         'categorical': False,\n",
       "         'mean_label': None,\n",
       "         'left': {'mean_label': 273.75},\n",
       "         'right': {'mean_label': 183.14583333333334}},\n",
       "        'right': {'mean_label': 287.4}}}}},\n",
       "    'right': {'feature_name': 'Defect_Ratio',\n",
       "     'feature_index': 1,\n",
       "     'value': -0.16651065461258874,\n",
       "     'categorical': False,\n",
       "     'mean_label': None,\n",
       "     'left': {'feature_name': 'Doped_Oxygen_Percentage',\n",
       "      'feature_index': 3,\n",
       "      'value': 0.8907636247866414,\n",
       "      'categorical': False,\n",
       "      'mean_label': None,\n",
       "      'left': {'feature_name': 'Doped_Carbon_Percentage',\n",
       "       'feature_index': 11,\n",
       "       'value': 2.125857962274994,\n",
       "       'categorical': False,\n",
       "       'mean_label': None,\n",
       "       'left': {'feature_name': 'Surface_Area ($m^2/g$)',\n",
       "        'feature_index': 0,\n",
       "        'value': -0.7473282696701732,\n",
       "        'categorical': False,\n",
       "        'mean_label': None,\n",
       "        'left': {'mean_label': 127.45},\n",
       "        'right': {'feature_name': 'Doped_Sulfur_Percentage',\n",
       "         'feature_index': 4,\n",
       "         'value': 0.08094128240999005,\n",
       "         'categorical': False,\n",
       "         'mean_label': None,\n",
       "         'left': {'mean_label': 218.49807692307692},\n",
       "         'right': {'mean_label': 175.88857142857142}}},\n",
       "       'right': {'mean_label': 108.66666666666667}},\n",
       "      'right': {'mean_label': 104.47200000000001}},\n",
       "     'right': {'feature_name': 'Doped_Sulfur_Percentage',\n",
       "      'feature_index': 4,\n",
       "      'value': -0.4529604086119936,\n",
       "      'categorical': False,\n",
       "      'mean_label': None,\n",
       "      'left': {'mean_label': 67.94444444444444},\n",
       "      'right': {'feature_name': 'Defect_Ratio',\n",
       "       'feature_index': 1,\n",
       "       'value': 0.5788570026288333,\n",
       "       'categorical': False,\n",
       "       'mean_label': None,\n",
       "       'left': {'feature_name': 'Doped_Flourine_Percentage',\n",
       "        'feature_index': 10,\n",
       "        'value': 0.5548637678880743,\n",
       "        'categorical': False,\n",
       "        'mean_label': None,\n",
       "        'left': {'feature_name': 'Doped_Oxygen_Percentage',\n",
       "         'feature_index': 3,\n",
       "         'value': 0.9806458463876185,\n",
       "         'categorical': False,\n",
       "         'mean_label': None,\n",
       "         'left': {'mean_label': 244.71428571428572},\n",
       "         'right': {'mean_label': 167.77777777777777}},\n",
       "        'right': {'mean_label': 125.61666666666667}},\n",
       "       'right': {'feature_name': 'Doped_Zinc_Percentage',\n",
       "        'feature_index': 9,\n",
       "        'value': 1.8218856691903835,\n",
       "        'categorical': False,\n",
       "        'mean_label': None,\n",
       "        'left': {'feature_name': 'Defect_Ratio',\n",
       "         'feature_index': 1,\n",
       "         'value': 0.6648609630797662,\n",
       "         'categorical': False,\n",
       "         'mean_label': None,\n",
       "         'left': {'mean_label': 50.0},\n",
       "         'right': {'mean_label': 138.3235294117647}},\n",
       "        'right': {'mean_label': 285.0}}}}}},\n",
       "   'right': {'feature_name': 'Doped_Oxygen_Percentage',\n",
       "    'feature_index': 3,\n",
       "    'value': -0.41097889495165363,\n",
       "    'categorical': False,\n",
       "    'mean_label': None,\n",
       "    'left': {'feature_name': 'Doped_Nitrogen_Percentage',\n",
       "     'feature_index': 2,\n",
       "     'value': 1.9434658016128001,\n",
       "     'categorical': False,\n",
       "     'mean_label': None,\n",
       "     'left': {'feature_name': 'Doped_Nitrogen_Percentage',\n",
       "      'feature_index': 2,\n",
       "      'value': -0.674235579443575,\n",
       "      'categorical': False,\n",
       "      'mean_label': None,\n",
       "      'left': {'mean_label': 219.33333333333334},\n",
       "      'right': {'feature_name': 'Doped_Flourine_Percentage',\n",
       "       'feature_index': 10,\n",
       "       'value': 0.6430175394895715,\n",
       "       'categorical': False,\n",
       "       'mean_label': None,\n",
       "       'left': {'feature_name': 'Defect_Ratio',\n",
       "        'feature_index': 1,\n",
       "        'value': -0.5678624700502779,\n",
       "        'categorical': False,\n",
       "        'mean_label': None,\n",
       "        'left': {'mean_label': 182.5},\n",
       "        'right': {'feature_name': 'Surface_Area ($m^2/g$)',\n",
       "         'feature_index': 0,\n",
       "         'value': 2.3125268284121625,\n",
       "         'categorical': False,\n",
       "         'mean_label': None,\n",
       "         'left': {'mean_label': 118.44727272727273},\n",
       "         'right': {'mean_label': 171.0}}},\n",
       "       'right': {'mean_label': 177.10500000000002}}},\n",
       "     'right': {'mean_label': 286.3}},\n",
       "    'right': {'feature_name': 'Doped_Sulfur_Percentage',\n",
       "     'feature_index': 4,\n",
       "     'value': -0.538384679175511,\n",
       "     'categorical': False,\n",
       "     'mean_label': None,\n",
       "     'left': {'mean_label': 190.45999999999998},\n",
       "     'right': {'feature_name': 'Doped_Sulfur_Percentage',\n",
       "      'feature_index': 4,\n",
       "      'value': -0.42733312744293844,\n",
       "      'categorical': False,\n",
       "      'mean_label': None,\n",
       "      'left': {'mean_label': 62.5},\n",
       "      'right': {'feature_name': 'Doped_Carbon_Percentage',\n",
       "       'feature_index': 11,\n",
       "       'value': 0.2362271444377628,\n",
       "       'categorical': False,\n",
       "       'mean_label': None,\n",
       "       'left': {'mean_label': 146.13285714285715},\n",
       "       'right': {'mean_label': 92.7625}}}}}},\n",
       "  'right': {'feature_name': 'Defect_Ratio',\n",
       "   'feature_index': 1,\n",
       "   'value': -0.8545423382200555,\n",
       "   'categorical': False,\n",
       "   'mean_label': None,\n",
       "   'left': {'mean_label': 392.475},\n",
       "   'right': {'mean_label': 246.32999999999998}}}}"
      ]
     },
     "execution_count": 14,
     "metadata": {},
     "output_type": "execute_result"
    }
   ],
   "source": [
    "tree"
   ]
  },
  {
   "cell_type": "code",
   "execution_count": 15,
   "metadata": {},
   "outputs": [],
   "source": [
    "def classify(tree, x):\n",
    "    \"\"\"\n",
    "    Classify a single sample with the fitted decision tree.\n",
    "    Args:\n",
    "        x: ((pd.Dataframe) a single sample features, of shape (D,).\n",
    "    Returns:\n",
    "        (int): predicted testing sample label.\n",
    "    \"\"\"\n",
    "    if tree['mean_label'] is not None:\n",
    "        return tree['mean_label']\n",
    "\n",
    "    else:\n",
    "        if x[tree['feature_index']] < tree['value']:\n",
    "            # go to left branch\n",
    "            return classify(tree['left'], x) \n",
    "        else:\n",
    "            # go to right branch\n",
    "            return classify(tree['right'], x) "
   ]
  },
  {
   "cell_type": "code",
   "execution_count": 16,
   "metadata": {},
   "outputs": [],
   "source": [
    "def predict(tree, X):\n",
    "    \"\"\"\n",
    "    Predict classification results for X.\n",
    "    Args:\n",
    "        X: (pd.Dataframe) testing sample features, of shape (N, p).\n",
    "    Returns:\n",
    "        (np.array): predicted testing sample labels, of shape (N,).\n",
    "    \"\"\"\n",
    "    if len(X.shape) == 1:\n",
    "        return classify(tree, X)\n",
    "    else:\n",
    "        return np.array([classify(tree, x) for x in X])"
   ]
  },
  {
   "cell_type": "code",
   "execution_count": 17,
   "metadata": {},
   "outputs": [],
   "source": [
    "def r2_score(y, y_hat):\n",
    "    \"\"\"R^2 score to evaluate model performance.\"\"\"\n",
    "    # Adjustment to avoid subtraction between (K,) and (1, K) arrays.\n",
    "    y = y.reshape(y_hat.shape)\n",
    "    y_bar = y.mean()\n",
    "    \n",
    "    ss_tot = ((y - y_bar)**2).sum()\n",
    "    ss_res = ((y - y_hat)**2).sum()\n",
    "    return 1 - (ss_res/ss_tot)\n",
    "\n",
    "def mean_squared_error(y_test, y_pred):\n",
    "    return np.mean((y_test - y_pred)**2)"
   ]
  },
  {
   "cell_type": "code",
   "execution_count": 18,
   "metadata": {},
   "outputs": [
    {
     "name": "stdout",
     "output_type": "stream",
     "text": [
      " R^2 Score for Training set: 0.7503640060081044\n",
      " MSE Score for Training set: 1654.4051506951573\n",
      "\n",
      " R^2 Score for Test set: 0.4896216113769649\n",
      " MSE Score for Test set: 3369.5671069811706\n",
      "\n"
     ]
    }
   ],
   "source": [
    "# Evaluate the generalisation power of the Decision Tree on the training and test set\n",
    "\n",
    "tree = train(X_train, y_train_df, columns_dict)\n",
    "\n",
    "y_pred_train = predict(tree, X_train)\n",
    "print(f\" R^2 Score for Training set:\", r2_score(np.array(y_train_df), y_pred_train))\n",
    "print(f\" MSE Score for Training set:\", mean_squared_error(y_train_df, y_pred_train))\n",
    "print()\n",
    "\n",
    "y_pred_test = predict(tree, X_test)\n",
    "print(f\" R^2 Score for Test set:\", r2_score(np.array(y_test_df), y_pred_test))\n",
    "print(f\" MSE Score for Test set:\", mean_squared_error(y_test_df, y_pred_test))\n",
    "print()"
   ]
  },
  {
   "cell_type": "markdown",
   "metadata": {},
   "source": [
    "We can see that there is a large difference between the performance of the model on the training and test data. We will focus on the performance of the decision tree on the test set.\n",
    "\n",
    "Our value of $R^2$ suggests that the decision tree regression model is performing quite a bit better than just predicting the mean of the target variable. It appears that the model is a capturing almost half of the variance in the target variable. \n",
    "\n",
    "Our value of MSE suggests that there is quite a bit of error between the true values and the predicted values, since on average, the predictions are off by 58.0 $\\mu F / cm^2$. This is quite a significant amount in comparison to the range of values for the electrical capacity.\n",
    "\n",
    "To conclude, the model doesn't perform too great as it is not able to make very accurate predictions. A random forest could be implemented as a model that we would expect to perform better."
   ]
  },
  {
   "cell_type": "markdown",
   "metadata": {
    "id": "wx4c9z5pMgDR"
   },
   "source": [
    "<a name=\"task-112\"></a>\n",
    "\n",
    "### (1.1.2) [(index)](#index-task-112)"
   ]
  },
  {
   "cell_type": "code",
   "execution_count": 19,
   "metadata": {},
   "outputs": [],
   "source": [
    "def mse_split_rf(n_features, X, y, columns_dict):\n",
    "    \"\"\"\n",
    "    Choose the best feature to split the dataset according to the mean squared error (MSE) criterion, considering a random subset of features.\n",
    "    Args:\n",
    "        n_features (int): Number of sampled features.\n",
    "        X (np.array): Training features, of shape (N, p).\n",
    "        y (np.array): Vector of training labels, of shape (N,).\n",
    "        columns_dict (dict): A dictionary mapping column indices to whether the column is a categorical or numerical variable.\n",
    "    Returns:\n",
    "        tuple: A tuple containing three elements:\n",
    "            - float: The minimised MSE.\n",
    "            - int: The index of the best feature used in splitting.\n",
    "            - float: The best value used for splitting.\n",
    "    \"\"\"\n",
    "    # The added sampling step.\n",
    "    columns = np.random.choice(list(columns_dict.keys()), n_features, replace=False)\n",
    "    columns_dict = {c: columns_dict[c] for c in columns}\n",
    "\n",
    "    min_mse, split_column, split_val = np.inf, 0, 0\n",
    "\n",
    "    # Only scan through the sampled columns in `columns_dict`.\n",
    "    for column, categorical in columns_dict.items():\n",
    "        # skip column if samples are not seperable by that column.\n",
    "        if len(np.unique(X[:, column])) < 2:\n",
    "            continue\n",
    "\n",
    "        # search for the best splitting value for the given column.\n",
    "        mse, val = mse_split_value(X, y, column, categorical)\n",
    "        if mse < min_mse:\n",
    "            min_mse, split_column, split_val = mse, column, val\n",
    "\n",
    "    return min_mse, split_column, split_val"
   ]
  },
  {
   "cell_type": "code",
   "execution_count": 20,
   "metadata": {},
   "outputs": [],
   "source": [
    "def build_tree_rf(n_features, X, y, columns_dict, feature_names, depth,  max_depth=10, min_samples_leaf=10):\n",
    "    \"\"\"\n",
    "    Build a decision tree according to the data, considering a random subset of features for each split.\n",
    "    Args:\n",
    "        n_features (int): Number of sampled features for each split.\n",
    "        X (np.array): Training features, of shape (N, p).\n",
    "        y (np.array): Vector of training labels, of shape (N,).\n",
    "        columns_dict (dict): A dictionary mapping column indices to whether the column is categorical or numerical variable.\n",
    "        feature_names (list): List of feature names in the original dataset.\n",
    "        depth (int): Current depth for this node.\n",
    "        max_depth (int): Maximum depth allowed for the tree.\n",
    "        min_samples_leaf (int): Minimum number of samples required to be at a leaf node.\n",
    "    Returns:\n",
    "        dict: A dictionary denoting the decision tree (binary-tree). Each node has the following attributes:\n",
    "            - 'feature_name': The column name of the split.\n",
    "            - 'feature_index': The column index of the split.\n",
    "            - 'value': The value used for the split.\n",
    "            - 'categorical': Indicator for categorical/numerical variables.\n",
    "            - 'mean_label': For leaf nodes, this stores the dominant label. Otherwise, it is None.\n",
    "            - 'left': The left sub-tree with the same structure.\n",
    "            - 'right': The right sub-tree with the same structure.\n",
    "    \"\"\"\n",
    "    # include a clause for the cases where (i) all lables are the same, (ii) depth exceed (iii) X is too small\n",
    "    if len(np.unique(y)) == 1 or depth>=max_depth or len(X)<=min_samples_leaf:\n",
    "        return {'mean_label': mean_vote(y)}\n",
    "\n",
    "    else:\n",
    "        MSE, split_column, split_val = mse_split_rf(n_features, X, y, columns_dict) \n",
    "\n",
    "        # If MSE is infinity, it means that samples are not seperable by the sampled features.\n",
    "        if MSE == np.inf:\n",
    "            return {'mean_label': mean_vote(y)}\n",
    "        categorical = columns_dict[split_column]\n",
    "        (X_l, y_l), (X_r, y_r) = split_samples(X, y, split_column, split_val, categorical)\n",
    "        return {\n",
    "            'feature_name': feature_names[split_column],\n",
    "            'feature_index': split_column,\n",
    "            'value': split_val,\n",
    "            'categorical': categorical,\n",
    "            'mean_label': None,\n",
    "            'left': build_tree_rf(n_features, X_l, y_l, columns_dict, feature_names, depth + 1, max_depth, min_samples_leaf),\n",
    "            'right': build_tree_rf(n_features, X_r, y_r, columns_dict, feature_names, depth + 1, max_depth, min_samples_leaf)\n",
    "        }"
   ]
  },
  {
   "cell_type": "code",
   "execution_count": 21,
   "metadata": {},
   "outputs": [],
   "source": [
    "def train_rf(B, n_features, X, y,  columns_dict=None, max_depth=10, min_samples_leaf=10):\n",
    "    \"\"\"\n",
    "    Build the decision tree according to the training data.\n",
    "    Args:\n",
    "        B (int): Number of decision trees in the random forest.\n",
    "        n_features (int): Number of features to consider for each split in each tree.\n",
    "        X (pd.DataFrame): Training features, of shape (N, p). Each X[i] is a training sample.\n",
    "        y (pd.Series): Vector of training labels, of shape (N,). Each y[i] is the label for X[i], and each y[i] is an integer in the range 0 <= y[i] <= C, where C = 1.\n",
    "        columns_dict (dict): A dictionary mapping column indices to whether the column is a categorical or numerical variable.\n",
    "        max_depth (int): Maximum depth allowed for each tree in the forest.\n",
    "        min_samples_leaf (int): Minimum number of samples required to be at a leaf node in each tree.\n",
    "    Returns:\n",
    "        list: A list containing the trained decision trees, represented as dictionaries. Each tree has the following attributes:\n",
    "            - 'feature_name': The column name of the split.\n",
    "            - 'feature_index': The column index of the split.\n",
    "            - 'value': The value used for the split.\n",
    "            - 'categorical': Indicator for categorical/numerical variables.\n",
    "            - 'mean_label': For leaf nodes, this stores the dominant label. Otherwise, it is None.\n",
    "            - 'left': The left sub-tree with the same structure.\n",
    "            - 'right': The right sub-tree with the same structure.\n",
    "    \"\"\"\n",
    "    feature_names = X.columns.tolist()\n",
    "    X = standardise(X.to_numpy())\n",
    "    y = y.to_numpy()\n",
    "    N = X.shape[0]\n",
    "    training_indices = np.arange(N)\n",
    "    trees = []\n",
    "\n",
    "    for _ in range(B):\n",
    "        # Sample the training_indices (with replacement)\n",
    "        sample = np.random.choice(training_indices, N, replace=True)\n",
    "        X_sample = X[sample, :]\n",
    "        y_sample = y[sample]\n",
    "        tree = build_tree_rf(n_features, X_sample, y_sample,\n",
    "                             columns_dict, feature_names, 1, max_depth, min_samples_leaf)\n",
    "        trees.append(tree)\n",
    "\n",
    "    return trees"
   ]
  },
  {
   "cell_type": "code",
   "execution_count": 22,
   "metadata": {},
   "outputs": [],
   "source": [
    "def predict_rf(rf, X):\n",
    "    \"\"\"\n",
    "    Predict classification results for X.\n",
    "    Args:\n",
    "        rf: A trained random forest through train_rf function.\n",
    "        X: (pd.Dataframe) testing sample features, of shape (N, p).\n",
    "    Returns:\n",
    "        (np.array): predicted testing sample labels, of shape (N,).\n",
    "    \"\"\"\n",
    "    def aggregate(decisions):\n",
    "        \"\"\"\n",
    "        This function takes a list of predicted labels produced by a list\n",
    "        of decision trees and returns the label with the majority of votes.\n",
    "        \"\"\"\n",
    "        return np.mean(decisions)\n",
    "\n",
    "    if len(X.shape) == 1:\n",
    "        # if we have one sample\n",
    "        return aggregate([classify(tree, X) for tree in rf])\n",
    "    else:\n",
    "        # if we have multiple samples\n",
    "        return np.array([aggregate([classify(tree, x) for tree in rf]) for x in X])"
   ]
  },
  {
   "cell_type": "markdown",
   "metadata": {},
   "source": [
    "We shuffle the data to guarantee randomness in the ordering of the training data. This ensures bias isn't introduced into the model."
   ]
  },
  {
   "cell_type": "code",
   "execution_count": 23,
   "metadata": {},
   "outputs": [],
   "source": [
    "# Generate a random permutation of indices up to the length of y_train\n",
    "p = np.random.permutation(len(y_train_df))\n",
    "\n",
    "# Shuffle the rows in X_train according to the permutation\n",
    "X = X_train_df.iloc[p]\n",
    "\n",
    "# Shuffle the labels in y_train according to the permutation\n",
    "y = y_train_df[p]"
   ]
  },
  {
   "cell_type": "markdown",
   "metadata": {},
   "source": [
    "We now try to find the optimal value of B by 5-fold cross-validation."
   ]
  },
  {
   "cell_type": "code",
   "execution_count": 24,
   "metadata": {},
   "outputs": [],
   "source": [
    "def cross_validation_rf(X_train, y_train, folds, b, n_features, max_depth=10, min_samples_leaf=10):\n",
    "    \"\"\"\n",
    "    Perform cross-validation for a random forest model.\n",
    "    Args:\n",
    "        X_train (pd.DataFrame): Training features, of shape (N_train, p).\n",
    "        y_train (pd.Series): Training labels, of shape (N_train,).\n",
    "        folds (list of arrays): Indices of data points in each fold.\n",
    "        b (int): Number of decision trees in the random forest.\n",
    "        n_features (int): Number of features to consider for each split in each tree.\n",
    "        max_depth (int): Maximum depth allowed for each tree in the forest.\n",
    "        min_samples_leaf (int): Minimum number of samples required to be at a leaf node in each tree.\n",
    "    Returns:\n",
    "        float: Mean of the mean squared errors across all folds.\n",
    "    \"\"\"\n",
    "    scores = []\n",
    "    \n",
    "    # iterate over each fold\n",
    "    for i in range(len(folds)):\n",
    "        val_indexes = folds[i]\n",
    "        train_indexes = list(set(range(y_train.shape[0])) - set(val_indexes))\n",
    "\n",
    "        # extract training and validation data for the current fold\n",
    "        X_train_i = X_train.iloc[train_indexes, :]\n",
    "        y_train_i = y_train.iloc[train_indexes]\n",
    "        X_val_i = X_train.iloc[val_indexes, :] \n",
    "        y_val_i = y_train.iloc[val_indexes]\n",
    "\n",
    "        # train random forest model\n",
    "        tree = train_rf(b,n_features, X_train_i, y_train_i, columns_dict, max_depth, min_samples_leaf)\n",
    "        \n",
    "        # predict and calculate MSE\n",
    "        y_pred = predict_rf(tree, X_val_i.to_numpy())\n",
    "        mse_score = mean_squared_error(y_val_i, y_pred)\n",
    "        \n",
    "        # append MSEs to the scores list\n",
    "        scores.append(mse_score)\n",
    "    \n",
    "    # return the mean of all MSEs\n",
    "    return np.mean(scores)"
   ]
  },
  {
   "cell_type": "code",
   "execution_count": 25,
   "metadata": {},
   "outputs": [],
   "source": [
    "def choose_best_B(X_train, y_train, folds, B_range, n_features, max_depth=10, min_samples_leaf=10):\n",
    "    \"\"\"\n",
    "    Choose the best number of decision trees for a random forest model based on cross-validation scores.\n",
    "    Args:\n",
    "        X_train (pd.DataFrame): Training features, of shape (N_train, p).\n",
    "        y_train (pd.Series): Training labels, of shape (N_train,).\n",
    "        folds (list of arrays): Indices of data points in each fold for cross-validation.\n",
    "        B_range (range): Range of values to consider for the number of decision trees in the random forest.\n",
    "        n_features (int): Number of features to consider for each split in each tree.\n",
    "        max_depth (int): Maximum depth allowed for each tree in the forest.\n",
    "        min_samples_leaf (int): Minimum number of samples required to be at a leaf node in each tree.\n",
    "    Returns:\n",
    "        int: The best number of decision trees for the random forest model.\n",
    "    \"\"\"\n",
    "    # initialise array to store cross-validation scores for different values of B\n",
    "    b_scores = np.zeros((len(B_range),))\n",
    "\n",
    "    # iterate over each value of B\n",
    "    for i, b in enumerate(B_range):\n",
    "        \n",
    "        # perform cross-validation and store the score\n",
    "        b_scores[i] = cross_validation_rf(X_train, y_train, folds, b, n_features, max_depth, min_samples_leaf)\n",
    "        print(f'B={b}: {b_scores[i]:.3f}')\n",
    "    \n",
    "    # find the index of maximum score (best value of B)\n",
    "    best_b_index = np.argmin(b_scores) \n",
    "    \n",
    "    # return best value of B\n",
    "    return B_range[best_b_index]"
   ]
  },
  {
   "cell_type": "code",
   "execution_count": 26,
   "metadata": {},
   "outputs": [
    {
     "name": "stdout",
     "output_type": "stream",
     "text": [
      "B=1: 18191.598\n",
      "B=4: 11083.551\n",
      "B=7: 8667.053\n",
      "B=10: 9991.350\n",
      "B=13: 8723.926\n",
      "B=16: 8451.240\n",
      "B=19: 8627.006\n",
      "B=22: 7927.136\n",
      "B=25: 7654.337\n",
      "B=28: 8990.288\n",
      "Optimal number of trees: 25\n"
     ]
    }
   ],
   "source": [
    "# set seed for reproducability\n",
    "np.random.seed(15)\n",
    "\n",
    "# k = 5-fold cross-validation\n",
    "k = 5\n",
    "\n",
    "# number of features to consider for each split in the trees\n",
    "# rule of thumb: n_features for feature bagging = total number of features divided by 3\n",
    "n_features = 4\n",
    "\n",
    "# calculate remainder when dividing the number of samples by k\n",
    "rem = len(y_train_df) % k\n",
    "\n",
    "# calculate the sizes of the folds\n",
    "fold_sizes = [len(y_train_df) // k + 1 if i < rem else len(y_train_df) // k for i in range(k)]\n",
    "\n",
    "# create array of indices corresponding to the samples\n",
    "indices = np.arange(len(y_train_df))\n",
    "\n",
    "# shuffle indices to ensure randomness\n",
    "np.random.shuffle(indices)\n",
    "\n",
    "# split shuffled indices into k = 5 folds\n",
    "folds = []\n",
    "current = 0\n",
    "for fold_size in fold_sizes:\n",
    "    start, stop = current, current + fold_size\n",
    "    folds.append(indices[start:stop])\n",
    "    current = stop\n",
    "\n",
    "# use cross-validation to select optimal value of B\n",
    "optimal_B = choose_best_B(X_train_df, y_train_df, folds, range(1, 30, 3), n_features)\n",
    "print(f\"Optimal number of trees: {optimal_B}\")"
   ]
  },
  {
   "cell_type": "code",
   "execution_count": 27,
   "metadata": {},
   "outputs": [
    {
     "name": "stdout",
     "output_type": "stream",
     "text": [
      " R^2 Score for Training set: 0.8064755951241228\n",
      " MSE Score for Training set: 1282.5384957197336\n",
      "\n",
      " R^2 Score for Test set: 0.5194439914659548\n",
      " MSE Score for Test set: 3172.6768913298743\n",
      "\n"
     ]
    }
   ],
   "source": [
    "# set seed for reproducability\n",
    "np.random.seed(15)\n",
    "\n",
    "# Evaluate the generalisation power of the Random Forest on the training and test set\n",
    "forest = train_rf(optimal_B, n_features, X_train_df, y_train_df, columns_dict)\n",
    "\n",
    "y_pred_rf_train = predict_rf(forest, X_train)\n",
    "print(f\" R^2 Score for Training set:\", r2_score(np.array(y_train_df), y_pred_rf_train))\n",
    "print(f\" MSE Score for Training set:\", mean_squared_error(y_train_df, y_pred_rf_train))\n",
    "print()\n",
    "\n",
    "y_pred_rf_test = predict_rf(forest, X_test)\n",
    "print(f\" R^2 Score for Test set:\", r2_score(np.array(y_test_df), y_pred_rf_test))\n",
    "print(f\" MSE Score for Test set:\", mean_squared_error(y_test_df, y_pred_rf_test))\n",
    "print()"
   ]
  },
  {
   "cell_type": "code",
   "execution_count": 28,
   "metadata": {},
   "outputs": [],
   "source": [
    "def train_ens(B, X, y, columns_dict=None):\n",
    "    \"\"\"\n",
    "    Train an ensemble of decision trees.\n",
    "    Args:\n",
    "        B (int): Number of decision trees in the ensemble.\n",
    "        X (pd.DataFrame): Training features, of shape (N, p).\n",
    "        y (pd.Series): Training labels, of shape (N,).\n",
    "        columns_dict (dict): A dictionary mapping column indices to whether the column is categorical or numerical.\n",
    "    Returns:\n",
    "        list: List of trained decision trees.\n",
    "    \"\"\"\n",
    "    feature_names = X.columns.tolist()\n",
    "    X = standardise(X.to_numpy())\n",
    "    y = y.to_numpy()\n",
    "    N = X.shape[0]\n",
    "    training_indices = np.arange(N)\n",
    "    trees = []\n",
    "    \n",
    "    for _ in range(B):\n",
    "        # sample the training_indices (with replacement)\n",
    "        sample = np.random.choice(training_indices, N, replace=True)\n",
    "        X_sample = X[sample, :]\n",
    "        y_sample = y[sample]\n",
    "        tree = build_tree(X_sample, y_sample,\n",
    "                             columns_dict, feature_names, depth=1)\n",
    "        trees.append(tree)\n",
    "\n",
    "    return trees"
   ]
  },
  {
   "cell_type": "code",
   "execution_count": 29,
   "metadata": {},
   "outputs": [
    {
     "name": "stdout",
     "output_type": "stream",
     "text": [
      " R^2 Score for Training set: 0.855799378636974\n",
      " MSE Score for Training set: 955.6564616406131\n",
      "\n",
      " R^2 Score for Test set: 0.5901488878493337\n",
      " MSE Score for Test set: 2705.8763792652603\n",
      "\n"
     ]
    }
   ],
   "source": [
    "# Evaluate the generalisation power of one of the ensembles of B trees on the training and test set\n",
    "\n",
    "# set seed for reproducability\n",
    "np.random.seed(15)\n",
    "\n",
    "ens = train_ens(optimal_B, X_train_df, y_train_df, columns_dict)\n",
    "\n",
    "y_pred_ens_train = predict_rf(ens, X_train)\n",
    "print(f\" R^2 Score for Training set:\", r2_score(np.array(y_train_df), y_pred_ens_train))\n",
    "print(f\" MSE Score for Training set:\", mean_squared_error(y_train_df, y_pred_ens_train))\n",
    "print()\n",
    "\n",
    "y_pred_ens_test = predict_rf(ens, X_test)\n",
    "print(f\" R^2 Score for Test set:\", r2_score(np.array(y_test_df), y_pred_ens_test))\n",
    "print(f\" MSE Score for Test set:\", mean_squared_error(y_test_df, y_pred_ens_test))\n",
    "print()"
   ]
  },
  {
   "cell_type": "markdown",
   "metadata": {},
   "source": [
    "We find that an ensemble of B decision trees performs best, even though we would expect the random forest to do so. Both perform quite a bit better than a single decision tree, having a higher $R^2$ and lower MSE. The metrics for all three models are fairly close, so it is difficult to judge which is best just from the $R^2$ and MSE values alone.\n",
    "\n",
    "It might be that optimising the hyperparameters of the random forest model leads to it outperforming the ensemble of B decision trees. The random forest model combines both bagging and feature bagging, whereas the ensemble of B decision tree only utilises bagging, meaning that overfitting is more likely to occur."
   ]
  },
  {
   "cell_type": "markdown",
   "metadata": {
    "id": "lEwNJHHTMgNG"
   },
   "source": [
    "<a name=\"task-113\"></a>\n",
    "\n",
    "### (1.1.3) [(index)](#index-task-113)"
   ]
  },
  {
   "cell_type": "code",
   "execution_count": 30,
   "metadata": {},
   "outputs": [
    {
     "name": "stdout",
     "output_type": "stream",
     "text": [
      "depth=1: 6654.672\n",
      "depth=4: 7773.573\n",
      "depth=7: 7481.801\n",
      "depth=10: 7518.730\n",
      "depth=13: 7676.294\n",
      "depth=16: 7972.449\n",
      "depth=19: 8320.304\n",
      "depth=22: 8129.759\n",
      "depth=25: 9224.428\n",
      "depth=28: 7608.928\n",
      "Optimal value of max_depth: 25\n"
     ]
    }
   ],
   "source": [
    "def choose_best_max_depth(X_train, y_train, folds, depth_range, n_features):\n",
    "    max_depth_scores = np.zeros((len(depth_range),))\n",
    "\n",
    "    for i, depth in enumerate(depth_range):\n",
    "        max_depth_scores[i] = cross_validation_rf(X_train, y_train, folds, optimal_B, n_features, depth)\n",
    "        print(f'depth={depth}: {max_depth_scores[i]:.3f}')\n",
    "\n",
    "    best_depth_index = np.argmax(max_depth_scores) \n",
    "    return depth_range[best_depth_index]\n",
    "\n",
    "# set seed for reproducability\n",
    "np.random.seed(15)\n",
    "\n",
    "optimal_max_depth = choose_best_max_depth(X_train_df, y_train_df, folds, range(1,30,3), n_features)\n",
    "print(f\"Optimal value of max_depth: {optimal_max_depth}\")"
   ]
  },
  {
   "cell_type": "code",
   "execution_count": 31,
   "metadata": {},
   "outputs": [
    {
     "name": "stdout",
     "output_type": "stream",
     "text": [
      "leaf=1: 7938.561\n",
      "leaf=4: 9103.242\n",
      "leaf=7: 7838.270\n",
      "leaf=10: 7953.303\n",
      "leaf=13: 8626.469\n",
      "leaf=16: 8472.845\n",
      "leaf=19: 7783.132\n",
      "leaf=22: 8255.483\n",
      "leaf=25: 7616.451\n",
      "leaf=28: 8656.800\n",
      "Optimal value of min_samples_leaf: 4\n"
     ]
    }
   ],
   "source": [
    "def choose_best_min_leaf(X_train, y_train, folds, leaf_range, n_features, max_depth=optimal_max_depth):\n",
    "    min_leaf_scores = np.zeros((len(leaf_range),))\n",
    "\n",
    "    for i, leaf in enumerate(leaf_range):\n",
    "        min_leaf_scores[i] = cross_validation_rf(X_train, y_train, folds, optimal_B, n_features, max_depth,leaf)\n",
    "        print(f'leaf={leaf}: {min_leaf_scores[i]:.3f}')\n",
    "\n",
    "    best_leaf_index = np.argmax(min_leaf_scores) \n",
    "    return leaf_range[best_leaf_index]\n",
    "\n",
    "# set seed for reproducability\n",
    "np.random.seed(15)\n",
    "\n",
    "optimal_min_leaf = choose_best_min_leaf(X_train_df, y_train_df, folds, range(1,30,3), n_features, optimal_max_depth)\n",
    "print(f\"Optimal value of min_samples_leaf: {optimal_min_leaf}\")"
   ]
  },
  {
   "cell_type": "code",
   "execution_count": 32,
   "metadata": {},
   "outputs": [
    {
     "name": "stdout",
     "output_type": "stream",
     "text": [
      " R^2 Score for Training set: 0.922827351622968\n",
      " MSE Score for Training set: 511.44398260089383\n",
      "\n",
      " R^2 Score for Training set: 0.6062318092609511\n",
      " MSE Score for Training set: 2599.695388492989\n",
      "\n"
     ]
    }
   ],
   "source": [
    "# Evaluate the generalisation power of the Random Forest with optimal hyperparameters on the training and test set\n",
    "\n",
    "# set seed for reproducability\n",
    "np.random.seed(15)\n",
    "\n",
    "optimal_forest = train_rf(optimal_B, n_features, X_train_df, y_train_df, columns_dict, optimal_max_depth, optimal_min_leaf)\n",
    "\n",
    "y_pred_optimal_rf_train = predict_rf(optimal_forest, X_train)\n",
    "print(f\" R^2 Score for Training set:\", r2_score(np.array(y_train_df), y_pred_optimal_rf_train))\n",
    "print(f\" MSE Score for Training set:\", mean_squared_error(y_train_df, y_pred_optimal_rf_train))\n",
    "print()\n",
    "\n",
    "y_pred_optimal_rf_test = predict_rf(optimal_forest, X_test)\n",
    "print(f\" R^2 Score for Training set:\", r2_score(np.array(y_test_df), y_pred_optimal_rf_test))\n",
    "print(f\" MSE Score for Training set:\", mean_squared_error(y_test_df, y_pred_optimal_rf_test))\n",
    "print()"
   ]
  },
  {
   "cell_type": "markdown",
   "metadata": {},
   "source": [
    "As expected, our value of $R^2$ for the random forest model is greater when we use optimal hyperparameters, and the MSE is much lower. Optimising max_depth and min_samples_leaf improves the model as it prevents both underfitting and overfitting.\n",
    "\n",
    "When max_depth is too low or min_samples_leaf is too high, the decision trees are too simple, meaning that the trees fail to capture important patterns in the data and perform poorly on both the training and test sets.\n",
    "\n",
    "When max_depth is too high or min_samples_leaf is too low, the decision trees will capture noise in the training set, resulting in the model random forest model performing well on the training set but not on the test set.\n",
    "\n",
    "It appears that both random forest and one of the ensembles of B decision trees are far more accurate than a single decision tree. However, as we would expect, random forest with optimal hyperparameters has a greater $R^2$ score and a lower MSE than an ensemble of B decision trees."
   ]
  },
  {
   "cell_type": "code",
   "execution_count": 33,
   "metadata": {},
   "outputs": [],
   "source": [
    "def train_outofbag(B, n_features, X, y, columns_dict, max_depth=10, min_samples_leaf=10):\n",
    "    \"\"\"\n",
    "    Build the decision tree according to the training data.\n",
    "    Args:\n",
    "        B: (int) Number of decision trees.\n",
    "        n_features: (int) The number of features to consider when looking for the best split.\n",
    "        X: (pd.Dataframe) training features, of shape (N, p). Each X[i] is a training sample.\n",
    "        y: (pd.Series) vector of training labels, of shape (N,). y[i] is the label for X[i], and each y[i] is\n",
    "        an integer in the range 0 <= y[i] <= C. Here C = 1.\n",
    "        columns_dict: a dictionary mapping column indices to whether the column is categorical or numerical variable.\n",
    "        sample_weights: weights for each samples, of shape (N,).\n",
    "        max_depth: (int) The maximum depth of each decision tree. Defaults to 10.\n",
    "        min_samples_leaf: (int) The minimum number of samples required to be at a leaf node. Defaults to 10.\n",
    "    Returns:\n",
    "        np.ndarray: An array containing the importance percentage scores for each feature.\n",
    "    \"\"\"\n",
    "    feature_names = X.columns.tolist()\n",
    "    X = standardise(X.to_numpy())\n",
    "    y = y.to_numpy()\n",
    "    N = X.shape[0]\n",
    "    training_indices = np.arange(N)\n",
    "    trees = []\n",
    "\n",
    "    for _ in range(B):\n",
    "        # Sample the training_indices (with replacement)\n",
    "        sample = np.random.choice(training_indices, N, replace=True)\n",
    "        outofbagindex = list(set(range(N))-set(sample))\n",
    "        X_sample = X[sample, :]\n",
    "        y_sample = y[sample]\n",
    "        tree = build_tree_rf(n_features, X_sample, y_sample,\n",
    "                             columns_dict, feature_names, 1, max_depth, min_samples_leaf)\n",
    "        X_outofbag = X[outofbagindex,:]\n",
    "        y_outofbag = y[outofbagindex]\n",
    "        y_pred_outofbag = predict(tree, X_outofbag)\n",
    "        mse_main = mean_squared_error(y_pred_outofbag, y_outofbag)\n",
    "        importance = np.zeros(12)\n",
    "        for i in range(12):\n",
    "            X_outofbag = X[outofbagindex,:]\n",
    "            np.random.shuffle(X_outofbag[:,i])\n",
    "            y_pred_outofbag = predict(tree, X_outofbag)\n",
    "            mse_permute = mean_squared_error(y_pred_outofbag, y_outofbag)\n",
    "            importance[i] += mse_permute - mse_main\n",
    "            \n",
    "    return importance/max(importance)"
   ]
  },
  {
   "cell_type": "code",
   "execution_count": 34,
   "metadata": {},
   "outputs": [
    {
     "data": {
      "text/plain": [
       "array([ 1.        ,  0.99985562,  0.36264748,  0.52210321,  0.07150332,\n",
       "        0.00585446,  0.016607  ,  0.36761885,  0.55489111,  0.04858094,\n",
       "        0.03347773, -0.01631217])"
      ]
     },
     "execution_count": 34,
     "metadata": {},
     "output_type": "execute_result"
    }
   ],
   "source": [
    "# set seed for reproducability\n",
    "np.random.seed(15)\n",
    "\n",
    "# importance percentages\n",
    "percentages = train_outofbag(optimal_B, n_features, X_train_df, y_train_df, columns_dict)\n",
    "percentages"
   ]
  },
  {
   "cell_type": "code",
   "execution_count": 35,
   "metadata": {},
   "outputs": [
    {
     "data": {
      "image/png": "[encoded data removed]",
      "text/plain": [
       "<Figure size 1000x600 with 1 Axes>"
      ]
     },
     "metadata": {},
     "output_type": "display_data"
    }
   ],
   "source": [
    "# bar chart of importance percentages\n",
    "plt.figure(figsize=(10, 6))\n",
    "plt.bar(feature_names, percentages, color='lightsteelblue')\n",
    "plt.xlabel('Features')\n",
    "plt.ylabel('Percentage of Most Important Feature')\n",
    "plt.title('Importance Percentages of Features')\n",
    "plt.xticks(rotation=45, ha='right')\n",
    "plt.tight_layout()\n",
    "plt.show()"
   ]
  },
  {
   "cell_type": "markdown",
   "metadata": {},
   "source": [
    "The bar chart shows that the surface area contributes the most to the prediction of electrical capacity, with defect ratio pretty much contributing an equal amount.\n",
    "\n",
    "Doped nitrogen percentage, doped oxygen percentage, H9 factor, and T5 factor also contribute a considerable amount, contributing between 35% and 60% of that of the surface area.\n",
    "\n",
    "Comparatively, the remaining features have very little effect on the prediction of electrical capacity, with importance percentages of under 10%."
   ]
  },
  {
   "cell_type": "markdown",
   "metadata": {
    "id": "GqN02H_YPwr0"
   },
   "source": [
    "\n",
    "\n",
    "---\n",
    "\n"
   ]
  },
  {
   "cell_type": "markdown",
   "metadata": {
    "id": "In8XkuW_MgVV"
   },
   "source": [
    "<a name=\"task-12\"></a>\n",
    "\n",
    "## (1.2) Multi-layer Perceptron [(index)](#index-task-12)"
   ]
  },
  {
   "cell_type": "markdown",
   "metadata": {
    "id": "R1aYyFt7MgeQ"
   },
   "source": [
    "<a name=\"task-121\"></a>\n",
    "\n",
    "### (1.2.1) [(index)](#index-task-121)"
   ]
  },
  {
   "cell_type": "code",
   "execution_count": 36,
   "metadata": {},
   "outputs": [],
   "source": [
    "def dense(X, W, b):\n",
    "    \"\"\"Full-connected MLP layer.\n",
    "    Parameters:\n",
    "        X (np.ndarray): K x h_in array of inputs, where K is the batch size and h_in if the input features dimension.\n",
    "        W (np.ndarray): h_out x h_in array for kernel matrix parametersm, where h_out is the output dimension.\n",
    "        b (np.ndarray): Length h_out 1-D array for bias parameters\n",
    "\n",
    "    Returns:\n",
    "        a (np.ndarray): K x h_out array of pre-activations\n",
    "    \"\"\"\n",
    "    a = np.vstack([W @ x + b for x in X])\n",
    "    return a"
   ]
  },
  {
   "cell_type": "code",
   "execution_count": 37,
   "metadata": {},
   "outputs": [],
   "source": [
    "# define activation function given in question\n",
    "def activation(a): \n",
    "    \"\"\"activation function.\n",
    "\n",
    "    Parameters:\n",
    "        a: K x h_out array of pre-activations\n",
    "\n",
    "    Returns:\n",
    "        h: K x h_out array of post-activations\n",
    "    \"\"\"\n",
    "    # compute post-activations\n",
    "    h = np.arctan(a) * np.log(np.abs(a) + 1)\n",
    "    return h\n",
    "\n",
    "# define gradient of activation function given in question\n",
    "def grad_activation(a): \n",
    "    \"\"\"Gradient of activation function.\n",
    "\n",
    "    Parameters:\n",
    "        a: K x h_out array of pre-activations\n",
    "\n",
    "    Returns:\n",
    "        grad: K x h_out gradient array of post-activations\n",
    "    \"\"\"\n",
    "    # compute gradient\n",
    "    grad = (1 / (1 + a**2)) * np.log(np.abs(a) + 1) + np.arctan(a) * (1 / (np.abs(a) + 1)) * (a / np.abs(a))\n",
    "    return grad"
   ]
  },
  {
   "cell_type": "code",
   "execution_count": 38,
   "metadata": {},
   "outputs": [],
   "source": [
    "# lookup table for relevant activation functions\n",
    "activation_table = {\n",
    "    # Identity function.\n",
    "    \"identity\": lambda x: x,\n",
    "    \"activation\": activation\n",
    "}\n",
    "\n",
    "# lookup table for gradients of relevant activation functions\n",
    "grad_activation_table = {\n",
    "    # Identity function gradient.\n",
    "    \"identity\": lambda x: np.ones_like(x),\n",
    "    \"activation\": grad_activation\n",
    "}"
   ]
  },
  {
   "cell_type": "code",
   "execution_count": 39,
   "metadata": {},
   "outputs": [],
   "source": [
    "class MLP:\n",
    "    \"\"\"\n",
    "    This class represents a Multi-Layer Perceptron (MLP), that we are going\n",
    "    to use to encapsulate two components:\n",
    "        1. layers: the sequence of layers, where each layer is stored in\n",
    "            a dictionary in the format {\"W\": np.ndarray, \"b\": np.ndarray},\n",
    "            where \"W\" points to the weights array, and \"b\" points to\n",
    "            the bias vector.\n",
    "        2. rng: a pseudo random number generator (RNG) initialised to generate\n",
    "            the random weights in a reproducible manner between different\n",
    "            runtime sessions.\n",
    "    This class is also shipped with methods that perform essential operations\n",
    "    with a MLP, including:\n",
    "        - add_layers: which creates a new layer with specified dimensions.\n",
    "        - predict: applies the MLP forward pass to make predictions and produces\n",
    "            a computational graph for the forward pass that can be used to\n",
    "            compute gradients using backpropagation algorithm.\n",
    "        in addition to other light functions that return simple statistics about\n",
    "        the MLP.\n",
    "    \"\"\"\n",
    "    def __init__(self, seed=42):\n",
    "        self.layers = []\n",
    "        self.rng = np.random.default_rng(seed)\n",
    "\n",
    "    def n_parameters(self):\n",
    "        \"\"\"Return the total number of parameters of weights and biases.\"\"\"\n",
    "        return sum(l[\"b\"].size + l[\"W\"].size for l in self.layers)\n",
    "\n",
    "    def n_layers(self):\n",
    "        \"\"\"Return current number of MLP layers.\"\"\"\n",
    "        return len(self.layers)\n",
    "\n",
    "    def layer_dim(self, index):\n",
    "        \"\"\"Retrieve the dimensions of the MLP layer at `index`.\"\"\"\n",
    "        return self.layers[index][\"W\"].shape\n",
    "\n",
    "    def add_layer(self, in_dim, out_dim, activation=\"identity\"):\n",
    "        \"\"\"Add fully connected layer to MLP.\n",
    "\n",
    "        Parameters:\n",
    "            in_dim (int): The output dimension of the layer.\n",
    "            out_dim (int): The input dimension of the layer.\n",
    "            activation (str): The activation function name.\n",
    "        \"\"\"\n",
    "        # check if input-dimension matches output-dimension of previous layer\n",
    "        if self.n_layers() > 0:\n",
    "            last_out_dim, _ = self.layer_dim(-1)\n",
    "            assert in_dim == last_out_dim, f\"Input-dimension {in_dim} does not match output-dimension {last_out_dim} of previous layer.\"\n",
    "\n",
    "        # the first layer, in our convention illustrated, does not apply activation on the input features X.\n",
    "        if self.n_layers() == 0:\n",
    "            assert activation == \"identity\", \"Should not apply activations on the input features X, use Identity function for the first layer.\"\n",
    "\n",
    "        # store each layer as a dictionary in the list, as shown in the\n",
    "        # attached diagram.\n",
    "        self.layers.append({\n",
    "            # only for debugging.\n",
    "            \"index\": len(self.layers),\n",
    "            # apply Glorot initialisation for weights.\n",
    "            \"W\": self.rng.normal(size=(out_dim, in_dim)) * np.sqrt(2. / (in_dim + out_dim)),\n",
    "            # initialise bias vector with zeros.\n",
    "            \"b\": np.zeros(out_dim), \n",
    "            # store the activation function (as string)\n",
    "            \"activation\": activation,\n",
    "            # initialise velocity for sgd with momentum.\n",
    "            \"V\": (0,0)\n",
    "        })\n",
    "\n",
    "    def predict(self, X):\n",
    "        \"\"\"Apply the forward pass on the input X and produce prediction and the\n",
    "        forward computation graph.\n",
    "        Parameters:\n",
    "            X (np.ndarray): Feature matrix.\n",
    "        Returns:\n",
    "            (np.ndarray, List[Dict[str, np.ndarray]]): A tuple of the\n",
    "            predictions and the computation graph as a sequence of intermediate\n",
    "            values through the MLP, specifically each layer will have a corresponding\n",
    "            intermediate values {\"a\": np.ndarray, \"h\": np.ndarray}, as shown in the\n",
    "            attached diagram above.\n",
    "        \"\"\"\n",
    "        # we assume that we work with a batch of examples (ndim==2).\n",
    "        if X.ndim == 1:\n",
    "            # if one example passed, add a dummy dimension for the batch.\n",
    "            X = X.reshape(1, -1)\n",
    "\n",
    "        # store pre- and post-activations in list\n",
    "        forward_pass = [{\"index\": 0, \"a\": X, \"h\": X}]\n",
    "\n",
    "        # iterate through hidden layers\n",
    "        for k in range(1, len(self.layers)):\n",
    "            # compute pre-activations\n",
    "            a = dense(forward_pass[k - 1][\"h\"], self.layers[k - 1][\"W\"], self.layers[k - 1][\"b\"])\n",
    "            activation = activation_table[self.layers[k][\"activation\"]]\n",
    "            forward_pass.append({\"index\": k, \"a\" : a, \"h\" : activation(a)})\n",
    "\n",
    "        y_hat = dense(forward_pass[-1][\"h\"], self.layers[-1][\"W\"], self.layers[-1][\"b\"]) \n",
    "        # predicted target is output of last layer\n",
    "        return y_hat, forward_pass"
   ]
  },
  {
   "cell_type": "code",
   "execution_count": 40,
   "metadata": {},
   "outputs": [],
   "source": [
    "def mse_loss(y_true, y_pred):\n",
    "    \"\"\"Compute MSE-loss\n",
    "    Parameters:\n",
    "        y_true: ground-truth array, with shape (K, )\n",
    "        y_pred: predictions array, with shape (K, )\n",
    "    Returns:\n",
    "        loss (float): MSE-loss\n",
    "    \"\"\"\n",
    "    assert y_true.size == y_pred.size, \"Ground-truth and predictions have different dimensions.\"\n",
    "\n",
    "    # adjustment to avoid subtraction between (K,) and (1, K) arrays.\n",
    "    y_true = y_true.reshape(y_pred.shape)\n",
    "\n",
    "    return np.mean((y_true - y_pred)**2, keepdims=True)"
   ]
  },
  {
   "cell_type": "code",
   "execution_count": 41,
   "metadata": {},
   "outputs": [],
   "source": [
    "def grad_mse_loss(y_true, y_pred):\n",
    "    \"\"\"Compute gradient of MSE-loss\n",
    "    Parameters:\n",
    "        y_true: ground-truth values, shape: (K, ).\n",
    "        y_pred: prediction values, shape: (K, ).\n",
    "    Returns:\n",
    "        grad (np.ndarray): Gradient of MSE-loss, shape: (K, ).\n",
    "    \"\"\"\n",
    "    # adjustment to avoid subtraction between (K,) and (1, K) arrays.\n",
    "    y_true = y_true.reshape(y_pred.shape)\n",
    "\n",
    "    return 2.0 * (y_pred - y_true) / y_true.size "
   ]
  },
  {
   "cell_type": "code",
   "execution_count": 42,
   "metadata": {},
   "outputs": [],
   "source": [
    "def backpropagate(layers, forward_pass, delta_output):\n",
    "    \"\"\"\n",
    "    Apply the backpropagation algorithm to the MLP layers to compute the gradients starting from\n",
    "    the output layer to the input layer, and starting the chain rule from the\n",
    "    partial derivative of the loss function w.r.t the predictions $\\hat{y}$. The\n",
    "\n",
    "    Parameters:\n",
    "        layers (List[Dict[str, np.ndarray]]): The MLP sequence of layers, as shown in the diagrams.\n",
    "        forward_pass (List[Dict[str, np.ndarray]]): The forward pass intermediate values for\n",
    "            each layer, representing a computation graph.\n",
    "        delta_output (np.ndarray): the partial derivative of the loss function w.r.t the\n",
    "            predictions $\\hat{y}$, has the shape (K, 1), where K is the batch size.\n",
    "    Returns:\n",
    "        (List[Dict[str, np.ndarray]]): The computed gradient using a structure symmetric the layers, as shown\n",
    "            in the diagrams.\n",
    "\n",
    "    \"\"\"\n",
    "    # create a list that will contain the gradients of all the layers.\n",
    "    delta = delta_output\n",
    "\n",
    "    assert len(layers) == len(forward_pass), \"Number of layers is expected to match the number of forward pass layers\"\n",
    "\n",
    "    # iterate on layers backwardly, from output to input.\n",
    "    # calculate gradients w.r.t. weights and biases of each level and store in list of dictionaries.\n",
    "    gradients = []\n",
    "    for layer, forward_computes in reversed(list(zip(layers, forward_pass))):\n",
    "        assert forward_computes[\"index\"] == layer[\"index\"], \"Mismatch in the index.\"\n",
    "\n",
    "        h = forward_computes[\"h\"]\n",
    "        assert delta.shape[0] == h.shape[0], \"Mismatch in the batch dimension.\"\n",
    "\n",
    "\n",
    "        gradients.append({\"W\" : delta.T @ h,\n",
    "                          \"b\" : delta.sum(axis=0)}) \n",
    "\n",
    "        # update the delta for the next iteration\n",
    "        grad_activation_f = grad_activation_table[layer[\"activation\"]]\n",
    "        grad_activation = grad_activation_f(forward_computes[\"a\"])\n",
    "\n",
    "        # calculate the delta for the backward layer.\n",
    "        delta = np.stack([np.diag(gi) @ layer[\"W\"].T @ di\n",
    "                           for (gi, di) in zip(grad_activation, delta)])\n",
    "\n",
    "    # return now ordered list matching the layers.\n",
    "    return list(reversed(gradients))"
   ]
  },
  {
   "cell_type": "code",
   "execution_count": 43,
   "metadata": {},
   "outputs": [],
   "source": [
    "def sgd_step(X, y, mlp, learning_rate = 5e-5):\n",
    "    \"\"\"\n",
    "    Apply a stochastic gradient descent step using the sampled batch.\n",
    "    Parameters:\n",
    "        X (np.ndarray): The input features array batch, with dimension (K, D).\n",
    "        y (np.ndarray): The ground-truth of the batch, with dimension (K, 1).\n",
    "        mlp (MLP): The MLP object enacpsulating the MLP model.\n",
    "        learning_rate (float): The learning rate multiplier for the update steps in SGD.\n",
    "    Returns:\n",
    "        (List[Dict[str, np.ndarray]]): The updated layers after applying SGD.\n",
    "    \"\"\"\n",
    "    # Compute the forward pass.\n",
    "    y_hat, forward_pass = mlp.predict(X)\n",
    "\n",
    "    # Compute the partial derivative of the loss w.r.t. to predictions `y_hat`.\n",
    "    delta_output = grad_mse_loss(y, y_hat) \n",
    "\n",
    "    # Apply backpropagation algorithm to compute the gradients of the MLP parameters.\n",
    "    gradients = backpropagate(mlp.layers, forward_pass, delta_output)\n",
    "\n",
    "    # mlp.layers and gradients are symmetric, as shown in the figure.\n",
    "    updated_layers = []\n",
    "    for layer, grad in zip(mlp.layers, gradients):\n",
    "        W = layer[\"W\"] - learning_rate * grad[\"W\"] \n",
    "        b = layer[\"b\"] - learning_rate * grad[\"b\"] \n",
    "        updated_layers.append({\"W\": W, \"b\": b,\n",
    "                               # keep the activation function.\n",
    "                               \"activation\": layer[\"activation\"],\n",
    "                               # We use the index for asserts and debugging purposes only.\n",
    "                               \"index\": layer[\"index\"]})\n",
    "    return updated_layers"
   ]
  },
  {
   "cell_type": "code",
   "execution_count": 44,
   "metadata": {},
   "outputs": [],
   "source": [
    "def sgd(X_train, y_train, X_test, y_test, mlp, learning_rate = 5e-5,\n",
    "        n_epochs=300, minibatchsize=8, seed=15):\n",
    "    \"\"\"\n",
    "    Run the Stochastic Gradient Descent (SGD) algorithm to optimise the parameters of MLP model to fit it on\n",
    "    the training data using MSE loss.\n",
    "    Parameters:\n",
    "        X_train (np.ndarray): The training data features, with shape (|D_train|, D).\n",
    "        y_train (np.ndarray): The training data ground-truth, with shape (|D_train|, 1).\n",
    "        X_test (np.ndarray): The testing data features, with shape (|D_test|, D).\n",
    "        y_test (np.ndarray): The testing data ground-truth, with shape (|D_test|, 1).\n",
    "        mlp (MLP): The MLP object enacpsulating the MLP model.\n",
    "        learning_rate (float): The learning_rate multiplier used in updating the parameters at each iteration.\n",
    "        n_epochs (int): The number of training cycles that each covers the entire training examples.\n",
    "        minibatchsize (int): The batch size used in each SGD step.\n",
    "        seed (int): A seed for the RNG to ensure reproducibility across runtime sessions.\n",
    "    \"\"\"\n",
    "    # get random number generator\n",
    "    rng = np.random.default_rng(seed)\n",
    "\n",
    "    # compute number of iterations per epoch\n",
    "    n_iterations = int(len(y_train) / minibatchsize)\n",
    "\n",
    "    # store losses\n",
    "    losses_train = []\n",
    "    losses_test = []\n",
    "\n",
    "    epochs_bar = tqdm(range(n_epochs))\n",
    "    for i in epochs_bar:\n",
    "\n",
    "        # shuffle data\n",
    "        p = rng.permutation(len(y_train))\n",
    "        X_train_shuffled = X_train[p]\n",
    "        y_train_shuffled = y_train[p]\n",
    "\n",
    "        for j in range(n_iterations):\n",
    "            # get batch\n",
    "            X_batch = X_train_shuffled[j*minibatchsize : (j+1)*minibatchsize]\n",
    "            y_batch = y_train_shuffled[j*minibatchsize : (j+1)*minibatchsize]\n",
    "\n",
    "            # apply sgd step\n",
    "            updated_layers = sgd_step(X_batch, y_batch, mlp, learning_rate) \n",
    "\n",
    "            # update weights and biases of MLP\n",
    "            mlp.layers = updated_layers\n",
    "\n",
    "        # compute loss at the end of each epoch\n",
    "        y_hat_train, _ = mlp.predict(X_train)\n",
    "        losses_train.append(mse_loss(y_train, y_hat_train).squeeze())\n",
    "        y_hat_test, _ = mlp.predict(X_test)\n",
    "        losses_test.append(mse_loss(y_test, y_hat_test).squeeze())\n",
    "        epochs_bar.set_description(f'train_loss: {losses_train[-1]:.2f}, '\n",
    "                                   f'test_loss: {losses_test[-1]:.2f}, '\n",
    "                                   f'train_R^2: {r2_score(y_train, y_hat_train):.2f} '\n",
    "                                   f'test_R^2: {r2_score(y_test, y_hat_test):.2f} ')\n",
    "    return mlp, losses_train, losses_test"
   ]
  },
  {
   "cell_type": "code",
   "execution_count": 45,
   "metadata": {},
   "outputs": [
    {
     "name": "stdout",
     "output_type": "stream",
     "text": [
      "Number of layers: 4\n",
      "Number of trainable parameters: 5801\n"
     ]
    },
    {
     "data": {
      "application/vnd.jupyter.widget-view+json": {
       "model_id": "d3c734efaea149e4ac696e084ce119be",
       "version_major": 2,
       "version_minor": 0
      },
      "text/plain": [
       "  0%|          | 0/300 [00:00<?, ?it/s]"
      ]
     },
     "metadata": {},
     "output_type": "display_data"
    }
   ],
   "source": [
    "# define the structure of the MLP\n",
    "mlp = MLP(seed=15) # set seed for reproducible results\n",
    "mlp.add_layer(12, 50) # input layer\n",
    "mlp.add_layer(50, 50, \"activation\") # hidden layer 1 \n",
    "mlp.add_layer(50, 50, \"activation\") # hidden layer 2 \n",
    "mlp.add_layer(50, 1, \"activation\") # output layer\n",
    "\n",
    "# print number of layers and number of trainable parameters in the MLP\n",
    "print(\"Number of layers:\", mlp.n_layers())\n",
    "print(\"Number of trainable parameters:\", mlp.n_parameters())\n",
    "\n",
    "# train the MLP using stochastic gradient descent\n",
    "mlp, losses_train, losses_test = sgd(X_train, np.array(y_train_df), X_test, np.array(y_test_df),\n",
    "                                     mlp, learning_rate=5e-5,\n",
    "                                     n_epochs=300,\n",
    "                                     minibatchsize=8)"
   ]
  },
  {
   "cell_type": "markdown",
   "metadata": {},
   "source": [
    "For the training data, we get an $R^2$ score of 0.91 and for the test data, we get an $R^2$ score of 0.54. This suggests that model performs reasonably well on unseen data but there is quite a bit of overfitting occuring since it performs significantly better on the training data.\n",
    "\n",
    "Overall, the model is good and can make decently accurate predictions. To address overfitting, we could implement various regularisation techniques such as $l^2$ and $l^1$ regularisation, dropout, or early stopping."
   ]
  },
  {
   "cell_type": "code",
   "execution_count": 46,
   "metadata": {},
   "outputs": [
    {
     "data": {
      "image/png": "[encoded data removed]",
      "text/plain": [
       "<Figure size 1200x800 with 1 Axes>"
      ]
     },
     "metadata": {},
     "output_type": "display_data"
    }
   ],
   "source": [
    "# plot training progress\n",
    "n_epochs = 300\n",
    "fig, ax = plt.subplots(figsize=(12, 8))\n",
    "ax.plot(np.arange(1,n_epochs+1),losses_train, label=\"Train\")\n",
    "ax.plot(np.arange(1,n_epochs+1),losses_test, label=\"Test\")\n",
    "ax.set(title=\"Losses vs Epochs\", xlabel = \"Epoch\", ylabel = \"MSE\")\n",
    "ax.legend()\n",
    "plt.show()"
   ]
  },
  {
   "cell_type": "markdown",
   "metadata": {},
   "source": [
    "It is clear to see using the graph that the losses are converging, with the test losses converging quicker than the training losses."
   ]
  },
  {
   "cell_type": "code",
   "execution_count": 47,
   "metadata": {},
   "outputs": [
    {
     "data": {
      "text/plain": [
       "(array(594.9486687), array(3027.25099621))"
      ]
     },
     "execution_count": 47,
     "metadata": {},
     "output_type": "execute_result"
    }
   ],
   "source": [
    "# MSE of training and test data\n",
    "losses_train[299], losses_test[299]"
   ]
  },
  {
   "cell_type": "markdown",
   "metadata": {},
   "source": [
    "For the training data, we get an MSE of 594.9 and for the test data, we get an MSE of 3027.3. Similar to the $R^2$, we find that the MLP performs significantly better on the training data than it does on the test data.\n",
    "\n",
    "To conclude, the MLP does a relatively good job at making accurate predictions, however, there is a large amount of overfitting that is affecting them."
   ]
  },
  {
   "cell_type": "markdown",
   "metadata": {
    "id": "5j1--gzeMgk9"
   },
   "source": [
    "<a name=\"task-122\"></a>\n",
    "\n",
    "### (1.2.2) [(index)](#index-task-122)"
   ]
  },
  {
   "cell_type": "markdown",
   "metadata": {},
   "source": [
    "We alter the sgd_step and sgd functions as well as the add_layer method in the MLP class, in order to use the SGD with momentum optimiser to train the MLP."
   ]
  },
  {
   "cell_type": "code",
   "execution_count": 48,
   "metadata": {},
   "outputs": [],
   "source": [
    "def sgd_step_momentum(X, y, mlp, learning_rate = 5e-5, beta=0.4):\n",
    "    \"\"\"\n",
    "    Apply a stochastic gradient descent step with momentum using the sampled batch.\n",
    "    Parameters:\n",
    "        X (np.ndarray): The input features array batch, with dimensions (K, D).\n",
    "        y (np.ndarray): The ground-truth of the batch, with dimensions (K, 1).\n",
    "        mlp (MLP): The multi-layer perceptron model.\n",
    "        learning_rate (float): The learning rate multiplier for the update steps in SGD. Default is 5e-5.\n",
    "        beta (float): The momentum parameter, controlling the influence of the previous gradient steps.\n",
    "                     Default is 0.4.\n",
    "    Returns:\n",
    "        (List[Dict[str, np.ndarray]]): The updated layers after applying SGD with momentum.\n",
    "    \"\"\"\n",
    "    # compute the forward pass.\n",
    "    y_hat, forward_pass = mlp.predict(X)\n",
    "\n",
    "    # compute the partial derivative of the loss w.r.t. to predictions `y_hat`.\n",
    "    delta_output = grad_mse_loss(y, y_hat)\n",
    "\n",
    "    # apply backpropagation algorithm to compute the gradients of the MLP parameters.\n",
    "    gradients = backpropagate(mlp.layers, forward_pass, delta_output)\n",
    "\n",
    "    # mlp.layers and gradients are symmetric, as shown in the figure.\n",
    "    updated_layers = []\n",
    "    for layer, grad in zip(mlp.layers, gradients):\n",
    "        # change learning_rate by adding momentum\n",
    "        V = layer[\"V\"]\n",
    "        v_W, v_b = V\n",
    "        v_W = beta*v_W + learning_rate * grad[\"W\"]\n",
    "        v_b = beta*v_b + learning_rate * grad[\"b\"]\n",
    "        W = layer[\"W\"] - v_W \n",
    "        b = layer[\"b\"] - v_b\n",
    "        updated_layers.append({\"W\": W, \"b\": b, \n",
    "                               \"V\":(v_W, v_b),\n",
    "                               # keep the activation function.\n",
    "                               \"activation\": layer[\"activation\"],\n",
    "                               # We use the index for asserts and debugging purposes only.\n",
    "                               \"index\": layer[\"index\"]})\n",
    "    return updated_layers"
   ]
  },
  {
   "cell_type": "code",
   "execution_count": 49,
   "metadata": {},
   "outputs": [],
   "source": [
    "def sgd_momentum(X_train, y_train, X_test, y_test, mlp, learning_rate = 5e-5, beta=0.4,\n",
    "        n_epochs=300, minibatchsize=8, seed=15):\n",
    "    \"\"\"\n",
    "    Run the Stochastic Gradient Descent (SGD) algorithm to optimise the parameters of MLP model to fit it on\n",
    "    the training data using MSE loss.\n",
    "    Parameters:\n",
    "        X_train (np.ndarray): The training data features, with shape (|D_train|, D).\n",
    "        y_train (np.ndarray): The training data ground-truth, with shape (|D_train|, 1).\n",
    "        X_test (np.ndarray): The testing data features, with shape (|D_test|, D).\n",
    "        y_test (np.ndarray): The testing data ground-truth, with shape (|D_test|, 1).\n",
    "        mlp (MLP): The MLP object encapsulating the MLP model.\n",
    "        learning_rate (float): The learning rate multiplier used in updating the parameters at each iteration.\n",
    "                               Default is 5e-5.\n",
    "        beta (float): The momentum parameter, controlling the influence of the previous gradient steps.\n",
    "                      Default is 0.4.\n",
    "        n_epochs (int): The number of training cycles that each cover the entire training examples.\n",
    "                        Default is 300.\n",
    "        minibatchsize (int): The batch size used in each SGD step. Default is 8.\n",
    "        seed (int): A seed for the random number generator to ensure reproducibility across runtime sessions.\n",
    "                    Default is 15.\n",
    "    Returns:\n",
    "        Tuple: A tuple containing the trained MLP model, training losses, and testing losses.\n",
    "    \"\"\"\n",
    "    # get random number generator\n",
    "    rng = np.random.default_rng(seed)\n",
    "\n",
    "    # compute number of iterations per epoch\n",
    "    n_iterations = int(len(y_train) / minibatchsize)\n",
    "\n",
    "    # store losses\n",
    "    losses_train = []\n",
    "    losses_test = []\n",
    "\n",
    "    epochs_bar = tqdm(range(n_epochs))\n",
    "    for i in epochs_bar:\n",
    "\n",
    "        # shuffle data\n",
    "        p = rng.permutation(len(y_train))\n",
    "        X_train_shuffled = X_train[p]\n",
    "        y_train_shuffled = y_train[p]\n",
    "\n",
    "        for j in range(n_iterations):\n",
    "            # get batch\n",
    "            X_batch = X_train_shuffled[j*minibatchsize : (j+1)*minibatchsize]\n",
    "            y_batch = y_train_shuffled[j*minibatchsize : (j+1)*minibatchsize]\n",
    "\n",
    "            # apply sgd step with momentum\n",
    "            updated_layers = sgd_step_momentum(X_batch, y_batch, mlp, learning_rate, beta)\n",
    "\n",
    "            # update weights and biases of MLP\n",
    "            mlp.layers = updated_layers \n",
    "\n",
    "        # compute loss at the end of each epoch\n",
    "        y_hat_train, _ = mlp.predict(X_train)\n",
    "        losses_train.append(mse_loss(y_train, y_hat_train).squeeze())\n",
    "        y_hat_test, _ = mlp.predict(X_test)\n",
    "        losses_test.append(mse_loss(y_test, y_hat_test).squeeze())\n",
    "        epochs_bar.set_description(f'train_loss: {losses_train[-1]:.2f}, '\n",
    "                                   f'test_loss: {losses_test[-1]:.2f}, '\n",
    "                                   f'train_R^2: {r2_score(y_train, y_hat_train):.2f} '\n",
    "                                   f'test_R^2: {r2_score(y_test, y_hat_test):.2f} ')\n",
    "    return mlp, losses_train, losses_test"
   ]
  },
  {
   "cell_type": "code",
   "execution_count": 50,
   "metadata": {},
   "outputs": [
    {
     "name": "stdout",
     "output_type": "stream",
     "text": [
      "Number of layers: 4\n",
      "Number of trainable parameters: 5801\n"
     ]
    },
    {
     "data": {
      "application/vnd.jupyter.widget-view+json": {
       "model_id": "b84dbb1d473446fba0894ce0a5f85601",
       "version_major": 2,
       "version_minor": 0
      },
      "text/plain": [
       "  0%|          | 0/300 [00:00<?, ?it/s]"
      ]
     },
     "metadata": {},
     "output_type": "display_data"
    }
   ],
   "source": [
    "# define the structure of the MLP\n",
    "mlp = MLP(seed=15) # set seed for reproducible results\n",
    "mlp.add_layer(12, 50) # input layer\n",
    "mlp.add_layer(50, 50, \"activation\") # hidden layer 1 \n",
    "mlp.add_layer(50, 50, \"activation\") # hidden layer 2\n",
    "mlp.add_layer(50, 1, \"activation\") # output layer\n",
    "\n",
    "# print number of layers and number of trainable parameters in the MLP\n",
    "print(\"Number of layers:\", mlp.n_layers())\n",
    "print(\"Number of trainable parameters:\", mlp.n_parameters())\n",
    "\n",
    "# train the MLP using stochastic gradient descent with momentum\n",
    "mlp, losses_train, losses_test = sgd_momentum(X_train, np.array(y_train_df), X_test, np.array(y_test_df),\n",
    "                                     mlp, learning_rate=5e-5, beta=0.4,\n",
    "                                     n_epochs=300, minibatchsize=8)"
   ]
  },
  {
   "cell_type": "markdown",
   "metadata": {},
   "source": [
    "For the training data, we get an $R^2$ score of 0.98 and for the test data, we get an $R^2$ score of 0.70. This suggests that model performs incredibly on seen data as 98% of the variance is explained. The overfitting has reduced drastically, as the $R^2$ score for the test data has increased by 0.16.\n",
    "\n",
    "Overall, the model is great and can make very accurate predictions. Adding momentum to the stochastic gradient descent has had a very positive effect on both model training and performance."
   ]
  },
  {
   "cell_type": "code",
   "execution_count": 51,
   "metadata": {},
   "outputs": [
    {
     "data": {
      "image/png": "[encoded data removed]",
      "text/plain": [
       "<Figure size 1200x800 with 1 Axes>"
      ]
     },
     "metadata": {},
     "output_type": "display_data"
    }
   ],
   "source": [
    "# plot training progress\n",
    "fig, ax = plt.subplots(figsize=(12, 8))\n",
    "ax.plot(np.arange(1,n_epochs+1),losses_train, label=\"Train\")\n",
    "ax.plot(np.arange(1,n_epochs+1),losses_test, label=\"Test\")\n",
    "ax.set(title=\"Losses vs Epochs\", xlabel = \"Epoch\", ylabel = \"MSE\")\n",
    "ax.legend()\n",
    "plt.show()"
   ]
  },
  {
   "cell_type": "markdown",
   "metadata": {},
   "source": [
    "It is clear to see using the graph that the losses are converging, with the test losses converging quicker than the training losses."
   ]
  },
  {
   "cell_type": "code",
   "execution_count": 52,
   "metadata": {},
   "outputs": [
    {
     "data": {
      "text/plain": [
       "(array(128.53808271), array(1979.34570871))"
      ]
     },
     "execution_count": 52,
     "metadata": {},
     "output_type": "execute_result"
    }
   ],
   "source": [
    "# MSE of training and test data\n",
    "losses_train[299], losses_test[299]"
   ]
  },
  {
   "cell_type": "markdown",
   "metadata": {},
   "source": [
    "For the training data, we get an MSE of 128.5 and for the test data, we get an MSE of 1979.3. We can see that it has decreased a lot for both the training and test sets. It is almost $1/5$ of what it was without momentum for the training set, and almost $1/2$ of what it was for the test set.\n",
    "\n",
    "These MSE values are very small and indicate that the MLP performs very well, especially for seen data."
   ]
  },
  {
   "cell_type": "markdown",
   "metadata": {},
   "source": [
    "The R^2 score for this model was 0.70 compared to 0.54 for the first MLP model and 0.52 for the random forest model.\n",
    "\n",
    "The MSE for the this model was 1979 compared to 3027 for the first MLP model and 3148 for the random forest model.\n",
    " \n",
    "We can conclude that the MLP with added momentum is the best model as it gives the most accurate predictions on the test set. The random forest model from 1.1.2 (without optimal max_depth and min_samples_leaf) appears to perform slightly worse than the MLP without added momentum but both give similar levels of accuracy."
   ]
  },
  {
   "cell_type": "markdown",
   "metadata": {
    "id": "2MccP5-sMgqU"
   },
   "source": [
    "<a name=\"task-123\"></a>\n",
    "\n",
    "### (1.2.3) [(index)](#index-task-123)"
   ]
  },
  {
   "cell_type": "code",
   "execution_count": 53,
   "metadata": {},
   "outputs": [],
   "source": [
    "def extend(X):\n",
    "    \"\"\"\n",
    "    Extend the features of the input dataset by computing pairwise products up to the 12th feature.\n",
    "    \"\"\"\n",
    "    # convert X to list of columns\n",
    "    X_list = list(X.T)\n",
    "    \n",
    "    # initialise list to store extended features\n",
    "    extended_features = []\n",
    "    \n",
    "    # iterate over each pair of features\n",
    "    for i in range(12):\n",
    "        for j in range(i, 12):\n",
    "            # multiply features and append to list\n",
    "            extended_features.append(X_list[i] * X_list[j])\n",
    "    \n",
    "    # convert to numpy array and transpose to get correct shape\n",
    "    X_extended = np.array(extended_features).T\n",
    "    \n",
    "    return X_extended"
   ]
  },
  {
   "cell_type": "code",
   "execution_count": 54,
   "metadata": {},
   "outputs": [],
   "source": [
    "def augment(X):\n",
    "    \"\"\"\n",
    "    Augment the input dataset by adding a column of ones at the beginning.\n",
    "    \"\"\"\n",
    "    # compute number of samples and features\n",
    "    N, D = X.shape\n",
    "    \n",
    "    # add column of ones\n",
    "    X_augmented = np.hstack([np.ones((N, 1)), X])\n",
    "    \n",
    "    return X_augmented"
   ]
  },
  {
   "cell_type": "code",
   "execution_count": 55,
   "metadata": {},
   "outputs": [],
   "source": [
    "# extend and augment the training set\n",
    "X_train_extended = extend(X_train)\n",
    "X_train_augmented = augment(X_train_extended)\n",
    "\n",
    "# extend and augment the test set\n",
    "X_test_extended = extend(X_test)\n",
    "X_test_augmented = augment(X_test_extended)"
   ]
  },
  {
   "cell_type": "code",
   "execution_count": 56,
   "metadata": {},
   "outputs": [],
   "source": [
    "def predict_with_estimate(X_test, beta):\n",
    "    \"\"\"Predict the target values using the test set and estimated coefficients.\"\"\"\n",
    "    prediction = X_test @ beta \n",
    "    return prediction"
   ]
  },
  {
   "cell_type": "code",
   "execution_count": 57,
   "metadata": {},
   "outputs": [],
   "source": [
    "def ridge_estimate(X, y, penalty):\n",
    "    \"\"\"\n",
    "    Estimate the coefficients of a ridge regression model.\n",
    "    \"\"\"\n",
    "    # add bias term to input features\n",
    "    N, D = X.shape\n",
    "    X_aug = np.hstack([np.ones((N, 1)), X])  # augmented training inputs of size N x (D+1)\n",
    "\n",
    "    # regularisation matrix with penalty excluding bias term\n",
    "    I = np.identity(D + 1)\n",
    "    I[0] = 0.0  # penalty excludes the bias term.\n",
    "\n",
    "    # compute ridge regression coefficients\n",
    "    beta_ridge = np.linalg.solve(X_aug.T @ X_aug + penalty * I, X_aug.T @ y)\n",
    "\n",
    "    return beta_ridge"
   ]
  },
  {
   "cell_type": "code",
   "execution_count": 58,
   "metadata": {},
   "outputs": [
    {
     "name": "stdout",
     "output_type": "stream",
     "text": [
      "R^2 of Ridge Regression on training set: 0.3116740090382756\n",
      "MSE of Ridge Regression on training set: 4561.722236423147\n",
      "\n",
      "R^2 of Ridge Regression on test set: 0.13652421044980556\n",
      "MSE of Ridge Regression on test set: 5700.7500376194685\n"
     ]
    }
   ],
   "source": [
    "# test lambda = 0.001 on training and test sets\n",
    "penalty_term = 0.001\n",
    "beta_ridge = ridge_estimate(X_train_extended, y_train_df, penalty=penalty_term)\n",
    "\n",
    "ridge_prediction_train = predict_with_estimate(X_train_augmented, beta_ridge)\n",
    "print(f\"R^2 of Ridge Regression on training set:\", r2_score(np.array(y_train_df), ridge_prediction_train))\n",
    "print(f\"MSE of Ridge Regression on training set:\", mean_squared_error(np.array(y_train_df), ridge_prediction_train))\n",
    "print()\n",
    "\n",
    "ridge_prediction_test = predict_with_estimate(X_test_augmented, beta_ridge)\n",
    "print(f\"R^2 of Ridge Regression on test set:\", r2_score(np.array(y_test_df), ridge_prediction_test))\n",
    "print(f\"MSE of Ridge Regression on test set:\", mean_squared_error(np.array(y_test_df), ridge_prediction_test))"
   ]
  },
  {
   "cell_type": "code",
   "execution_count": 59,
   "metadata": {},
   "outputs": [
    {
     "name": "stdout",
     "output_type": "stream",
     "text": [
      "R^2 of Ridge Regression on training set: 0.29140905084352375\n",
      "MSE of Ridge Regression on training set: 4696.02358728166\n",
      "\n",
      "R^2 of Ridge Regression on test set: 0.16441896337433204\n",
      "MSE of Ridge Regression on test set: 5516.586201518496\n"
     ]
    }
   ],
   "source": [
    "# test lambda = 1 on training and test sets\n",
    "penalty_term = 1\n",
    "beta_ridge = ridge_estimate(X_train_extended, y_train_df, penalty=penalty_term)\n",
    "\n",
    "ridge_prediction_train = predict_with_estimate(X_train_augmented, beta_ridge)\n",
    "print(f\"R^2 of Ridge Regression on training set:\", r2_score(np.array(y_train_df), ridge_prediction_train))\n",
    "print(f\"MSE of Ridge Regression on training set:\", mean_squared_error(np.array(y_train_df), ridge_prediction_train))\n",
    "print()\n",
    "\n",
    "ridge_prediction_test = predict_with_estimate(X_test_augmented, beta_ridge)\n",
    "print(f\"R^2 of Ridge Regression on test set:\", r2_score(np.array(y_test_df), ridge_prediction_test))\n",
    "print(f\"MSE of Ridge Regression on test set:\", mean_squared_error(np.array(y_test_df), ridge_prediction_test))"
   ]
  },
  {
   "cell_type": "code",
   "execution_count": 60,
   "metadata": {},
   "outputs": [
    {
     "name": "stdout",
     "output_type": "stream",
     "text": [
      "R^2 of Ridge Regression on training set: 0.20282289360097172\n",
      "MSE of Ridge Regression on training set: 5283.107975549512\n",
      "\n",
      "R^2 of Ridge Regression on test set: 0.14581757700796905\n",
      "MSE of Ridge Regression on test set: 5639.394339640189\n"
     ]
    }
   ],
   "source": [
    "# test lambda = 1000 on training and test sets\n",
    "penalty_term = 1000\n",
    "beta_ridge = ridge_estimate(X_train_extended, y_train_df, penalty=penalty_term)\n",
    "\n",
    "ridge_prediction_train = predict_with_estimate(X_train_augmented, beta_ridge)\n",
    "print(f\"R^2 of Ridge Regression on training set:\", r2_score(np.array(y_train_df), ridge_prediction_train))\n",
    "print(f\"MSE of Ridge Regression on training set:\", mean_squared_error(np.array(y_train_df), ridge_prediction_train))\n",
    "print()\n",
    "\n",
    "ridge_prediction_test = predict_with_estimate(X_test_augmented, beta_ridge)\n",
    "print(f\"R^2 of Ridge Regression on test set:\", r2_score(np.array(y_test_df), ridge_prediction_test))\n",
    "print(f\"MSE of Ridge Regression on test set:\", mean_squared_error(np.array(y_test_df), ridge_prediction_test))"
   ]
  },
  {
   "cell_type": "code",
   "execution_count": 61,
   "metadata": {},
   "outputs": [
    {
     "data": {
      "image/png": "[encoded data removed]",
      "text/plain": [
       "<Figure size 1000x600 with 1 Axes>"
      ]
     },
     "metadata": {},
     "output_type": "display_data"
    },
    {
     "data": {
      "image/png": "[encoded data removed]",
      "text/plain": [
       "<Figure size 1000x600 with 1 Axes>"
      ]
     },
     "metadata": {},
     "output_type": "display_data"
    },
    {
     "data": {
      "image/png": "[encoded data removed]",
      "text/plain": [
       "<Figure size 1000x600 with 1 Axes>"
      ]
     },
     "metadata": {},
     "output_type": "display_data"
    }
   ],
   "source": [
    "# define list of lambda values\n",
    "lambdas = [0.0001, 1, 1000]\n",
    "\n",
    "# iterate over each lambda value\n",
    "for i, lambda1 in enumerate(lambdas):\n",
    "    # compute ridge regression coefficients for extended set\n",
    "    beta = ridge_estimate(X_train_extended, y_train_df, lambda1)\n",
    "\n",
    "    # plotting\n",
    "    plt.figure(figsize=(10, 6))\n",
    "    plt.bar(range(len(beta)), beta)\n",
    "    plt.xlabel('Feature Index')\n",
    "    plt.ylabel('Coefficient Value')\n",
    "    plt.title(f'Ridge coefficients for Lambda = {lambda1}')\n",
    "    plt.grid()\n",
    "    plt.show()"
   ]
  },
  {
   "cell_type": "markdown",
   "metadata": {},
   "source": [
    "We know that in ridge regression, the penalty term is appied to the sum of squared coefficients. This results in larger coefficients being penalised more heavily. We can see that in general, increasing $\\lambda$ leads to lower coefficient values, in order to reduce overfitting. The exception to this is the intercept (feature index 0). This is due to the fact that it is not penalised by ridge regression."
   ]
  },
  {
   "cell_type": "code",
   "execution_count": 62,
   "metadata": {},
   "outputs": [],
   "source": [
    "def k_folds(X, k):\n",
    "    \"\"\"Partition the data into k folds for k-fold cross-validation.\"\"\"\n",
    "    # calculate fold sizes\n",
    "    remainder = len(X) % k\n",
    "    fold_sizes = [len(X) // k + 1 if i < remainder else len(X) // k for i in range(k)]\n",
    "\n",
    "    # shuffle indices\n",
    "    indices = np.arange(len(X))\n",
    "    np.random.shuffle(indices)\n",
    "\n",
    "    # split indices into folds\n",
    "    folds = []\n",
    "    current = 0\n",
    "    for fold_size in fold_sizes:\n",
    "        start, stop = current, current + fold_size\n",
    "        folds.append(indices[start:stop])\n",
    "        current = stop\n",
    "\n",
    "    return folds"
   ]
  },
  {
   "cell_type": "code",
   "execution_count": 63,
   "metadata": {},
   "outputs": [],
   "source": [
    "def cross_validation_ridge(X_train, y_train, folds, penalty):\n",
    "    \"\"\"Perform cross-validation for ridge regression.\"\"\"\n",
    "    # initialise scores\n",
    "    scores = []\n",
    "    \n",
    "    # iterate over each fold\n",
    "    for i in range(len(folds)):\n",
    "        val_indexes = list(folds[i])\n",
    "        val_indexes = [int(i) for i in val_indexes]\n",
    "        train_indexes = list(set(range(y_train.shape[0])) - set(val_indexes))\n",
    "\n",
    "        # split data into training and validation sets\n",
    "        X_train_i = X_train[train_indexes, :]\n",
    "        y_train_i = y_train[train_indexes]\n",
    "        X_val_i = X_train[val_indexes, :] \n",
    "        y_val_i = y_train[val_indexes] \n",
    "\n",
    "        # augment validation set\n",
    "        N, D = X_val_i.shape\n",
    "        X_val_i = np.hstack([np.ones((N,1)), X_val_i])\n",
    "\n",
    "        # compute ridge regression coefficients\n",
    "        beta_ridge = ridge_estimate(X_train_i, y_train_i, penalty=penalty)\n",
    "\n",
    "        # make predictions on validation set\n",
    "        ridge_prediction = predict_with_estimate(X_val_i, beta_ridge)\n",
    "\n",
    "        # compute mean squared error\n",
    "        score_i = mean_squared_error(np.array(y_val_i), ridge_prediction)\n",
    "        scores.append(score_i)\n",
    "\n",
    "    # return average score\n",
    "    return sum(scores) / len(scores)"
   ]
  },
  {
   "cell_type": "code",
   "execution_count": 64,
   "metadata": {},
   "outputs": [
    {
     "name": "stdout",
     "output_type": "stream",
     "text": [
      "Optimal lambda: 166.81005372000593\n"
     ]
    }
   ],
   "source": [
    "# set seed for reproducability\n",
    "np.random.seed(15)\n",
    "\n",
    "lambdas = np.logspace(-4, 10, 100)\n",
    "ridge_cross_validation_scores = []\n",
    "\n",
    "for lambda1 in lambdas:\n",
    "    score = cross_validation_ridge(X_train_extended, y_train_df, folds, lambda1)\n",
    "    ridge_cross_validation_scores.append(score)\n",
    "\n",
    "optimal_lambda = lambdas[np.argmin(ridge_cross_validation_scores)]\n",
    "print(f\"Optimal lambda: {optimal_lambda}\")"
   ]
  },
  {
   "cell_type": "code",
   "execution_count": 65,
   "metadata": {},
   "outputs": [
    {
     "name": "stdout",
     "output_type": "stream",
     "text": [
      "R^2 of Ridge Regression on training set: 0.25923771742374724\n",
      "MSE of Ridge Regression on training set: 4909.23170227864\n",
      "\n",
      "R^2 of Ridge Regression on test set: 0.18583579613290502\n",
      "MSE of Ridge Regression on test set: 5375.190216093443\n"
     ]
    }
   ],
   "source": [
    "# test ridge regression with optimal lambda on training and test sets\n",
    "penalty_term = optimal_lambda\n",
    "beta_ridge = ridge_estimate(X_train_extended, y_train_df, penalty_term)\n",
    "\n",
    "ridge_prediction_train = predict_with_estimate(X_train_augmented, beta_ridge)\n",
    "print(f\"R^2 of Ridge Regression on training set:\", r2_score(np.array(y_train_df), ridge_prediction_train))\n",
    "print(f\"MSE of Ridge Regression on training set:\", mean_squared_error(np.array(y_train_df), ridge_prediction_train))\n",
    "print()\n",
    "\n",
    "ridge_prediction_test = predict_with_estimate(X_test_augmented, beta_ridge)\n",
    "print(f\"R^2 of Ridge Regression on test set:\", r2_score(np.array(y_test_df), ridge_prediction_test))\n",
    "print(f\"MSE of Ridge Regression on test set:\", mean_squared_error(np.array(y_test_df), ridge_prediction_test))"
   ]
  },
  {
   "cell_type": "code",
   "execution_count": 66,
   "metadata": {},
   "outputs": [
    {
     "name": "stdout",
     "output_type": "stream",
     "text": [
      "R^2 of Ridge Regression on training set: 0.3129790411553509\n",
      "MSE of Ridge Regression on training set: 4553.0734361368295\n",
      "\n",
      "R^2 of Ridge Regression on test set: 0.11444710919659418\n",
      "MSE of Ridge Regression on test set: 5846.505179017626\n"
     ]
    }
   ],
   "source": [
    "# test ridge regression without ridge penalty on training and test sets\n",
    "penalty_term = 0\n",
    "beta_ridge = ridge_estimate(X_train_extended, y_train_df, penalty_term)\n",
    "\n",
    "ridge_prediction_train = predict_with_estimate(X_train_augmented, beta_ridge)\n",
    "print(f\"R^2 of Ridge Regression on training set:\", r2_score(np.array(y_train_df), ridge_prediction_train))\n",
    "print(f\"MSE of Ridge Regression on training set:\", mean_squared_error(np.array(y_train_df), ridge_prediction_train))\n",
    "print()\n",
    "\n",
    "ridge_prediction_test = predict_with_estimate(X_test_augmented, beta_ridge)\n",
    "print(f\"R^2 of Ridge Regression on test set:\", r2_score(np.array(y_test_df), ridge_prediction_test))\n",
    "print(f\"MSE of Ridge Regression on test set:\", mean_squared_error(np.array(y_test_df), ridge_prediction_test))"
   ]
  },
  {
   "cell_type": "markdown",
   "metadata": {},
   "source": [
    "We notice that on the test set, ridge regression with the optimal ridge penalty outperforms regular linear regression (without a ridge penalty), as we would expect.\n",
    "\n",
    "The $R^2$ of the model with the penalty is 0.182 compared to 0.114 without the penalty. This is quite a large difference in the amount of variance explained by the model.\n",
    "\n",
    "The MSE of the model with the penalty is 5400 compared to 5847 without the penalty. These are relatively similar values and show there is quite a lot of error in both models.\n",
    "\n",
    "Overall, both linear regression models perform poorly, with a low $R^2$ score and a high mean squared error. However, using an optimal penalty term improves the performance of the model."
   ]
  },
  {
   "cell_type": "markdown",
   "metadata": {
    "id": "vzPd5qZZPzpM"
   },
   "source": [
    "\n",
    "\n",
    "---\n",
    "\n"
   ]
  },
  {
   "cell_type": "markdown",
   "metadata": {
    "id": "yJ1n70CNMguM"
   },
   "source": [
    "<a name=\"task-2\"></a>\n",
    "\n",
    "# (2) Task 2: Classification [(index)](#index-task-2)"
   ]
  },
  {
   "cell_type": "markdown",
   "metadata": {
    "id": "snlMZuPqMgxd"
   },
   "source": [
    "<a name=\"task-21\"></a>\n",
    "\n",
    "## (2.1) k-Nearest Neighbours [(index)](#index-task-21)"
   ]
  },
  {
   "cell_type": "markdown",
   "metadata": {
    "id": "qVwRifs5Mg0s"
   },
   "source": [
    "<a name=\"task-211\"></a>\n",
    "\n",
    "### (2.1.1) [(index)](#index-task-211)"
   ]
  },
  {
   "cell_type": "markdown",
   "metadata": {},
   "source": [
    "We standardise the dataset using the convention discussed in the lecture. This makes it easier to compare the performance of different models."
   ]
  },
  {
   "cell_type": "code",
   "execution_count": 67,
   "metadata": {},
   "outputs": [],
   "source": [
    "def standardise(X, X_train_=None):\n",
    "    \"\"\"\n",
    "    Standardise features.\n",
    "    Parameters:\n",
    "        X (np.array): Feature matrix.\n",
    "        X_train_ (np.array): An optional feature matrix to compute the statistics\n",
    "            from before applying it to X. If None, just use X to compute the statistics.\n",
    "    Returns:\n",
    "        X_std (np.array): Standardised feature matrix\n",
    "    \"\"\"\n",
    "    if X_train_ is None:\n",
    "        X_train_ = X\n",
    "\n",
    "    mu = np.mean(X_train_, axis=0, keepdims=True)\n",
    "    sigma = np.std(X_train_, axis=0, keepdims=True)\n",
    "    X_std = (X - mu) / sigma\n",
    "    return X_std"
   ]
  },
  {
   "cell_type": "code",
   "execution_count": 68,
   "metadata": {},
   "outputs": [
    {
     "name": "stdout",
     "output_type": "stream",
     "text": [
      "number of predictors = 11\n"
     ]
    },
    {
     "data": {
      "text/html": [
       "<div>\n",
       "<style scoped>\n",
       "    .dataframe tbody tr th:only-of-type {\n",
       "        vertical-align: middle;\n",
       "    }\n",
       "\n",
       "    .dataframe tbody tr th {\n",
       "        vertical-align: top;\n",
       "    }\n",
       "\n",
       "    .dataframe thead th {\n",
       "        text-align: right;\n",
       "    }\n",
       "</style>\n",
       "<table border=\"1\" class=\"dataframe\">\n",
       "  <thead>\n",
       "    <tr style=\"text-align: right;\">\n",
       "      <th></th>\n",
       "      <th>Patient ID</th>\n",
       "      <th>2D Surface</th>\n",
       "      <th>Contour Size</th>\n",
       "      <th>Total Surface</th>\n",
       "      <th>Density</th>\n",
       "      <th>Diameter</th>\n",
       "      <th>Primary Axis</th>\n",
       "      <th>Shape Variation</th>\n",
       "      <th>Location</th>\n",
       "      <th>Eccentricity_Real</th>\n",
       "      <th>Eccentricity_Imag</th>\n",
       "    </tr>\n",
       "  </thead>\n",
       "  <tbody>\n",
       "    <tr>\n",
       "      <th>0</th>\n",
       "      <td>1</td>\n",
       "      <td>16.0</td>\n",
       "      <td>15.656854</td>\n",
       "      <td>16.5</td>\n",
       "      <td>0.969697</td>\n",
       "      <td>4.513517</td>\n",
       "      <td>4.654326</td>\n",
       "      <td>5.575232</td>\n",
       "      <td>1</td>\n",
       "      <td>4.040000e-17</td>\n",
       "      <td>0.659446</td>\n",
       "    </tr>\n",
       "    <tr>\n",
       "      <th>1</th>\n",
       "      <td>2</td>\n",
       "      <td>23651.5</td>\n",
       "      <td>1450.520980</td>\n",
       "      <td>38721.0</td>\n",
       "      <td>0.610818</td>\n",
       "      <td>173.533931</td>\n",
       "      <td>169.741043</td>\n",
       "      <td>236.322433</td>\n",
       "      <td>0</td>\n",
       "      <td>5.930000e-17</td>\n",
       "      <td>0.968694</td>\n",
       "    </tr>\n",
       "    <tr>\n",
       "      <th>2</th>\n",
       "      <td>3</td>\n",
       "      <td>10.5</td>\n",
       "      <td>18.727922</td>\n",
       "      <td>12.0</td>\n",
       "      <td>0.875000</td>\n",
       "      <td>3.656366</td>\n",
       "      <td>2.158408</td>\n",
       "      <td>8.873440</td>\n",
       "      <td>4</td>\n",
       "      <td>2.440000e-16</td>\n",
       "      <td>3.987627</td>\n",
       "    </tr>\n",
       "    <tr>\n",
       "      <th>3</th>\n",
       "      <td>4</td>\n",
       "      <td>3514.5</td>\n",
       "      <td>1242.673224</td>\n",
       "      <td>54204.5</td>\n",
       "      <td>0.064838</td>\n",
       "      <td>66.893949</td>\n",
       "      <td>291.385498</td>\n",
       "      <td>321.823425</td>\n",
       "      <td>3</td>\n",
       "      <td>2.870000e-17</td>\n",
       "      <td>0.468861</td>\n",
       "    </tr>\n",
       "    <tr>\n",
       "      <th>4</th>\n",
       "      <td>5</td>\n",
       "      <td>2127.5</td>\n",
       "      <td>300.492421</td>\n",
       "      <td>2910.0</td>\n",
       "      <td>0.731100</td>\n",
       "      <td>52.046298</td>\n",
       "      <td>47.092342</td>\n",
       "      <td>70.562317</td>\n",
       "      <td>3</td>\n",
       "      <td>6.830000e-17</td>\n",
       "      <td>1.115862</td>\n",
       "    </tr>\n",
       "  </tbody>\n",
       "</table>\n",
       "</div>"
      ],
      "text/plain": [
       "   Patient ID  2D Surface  Contour Size  Total Surface   Density    Diameter  \\\n",
       "0           1        16.0     15.656854           16.5  0.969697    4.513517   \n",
       "1           2     23651.5   1450.520980        38721.0  0.610818  173.533931   \n",
       "2           3        10.5     18.727922           12.0  0.875000    3.656366   \n",
       "3           4      3514.5   1242.673224        54204.5  0.064838   66.893949   \n",
       "4           5      2127.5    300.492421         2910.0  0.731100   52.046298   \n",
       "\n",
       "   Primary Axis  Shape Variation  Location  Eccentricity_Real  \\\n",
       "0      4.654326         5.575232         1       4.040000e-17   \n",
       "1    169.741043       236.322433         0       5.930000e-17   \n",
       "2      2.158408         8.873440         4       2.440000e-16   \n",
       "3    291.385498       321.823425         3       2.870000e-17   \n",
       "4     47.092342        70.562317         3       6.830000e-17   \n",
       "\n",
       "   Eccentricity_Imag  \n",
       "0           0.659446  \n",
       "1           0.968694  \n",
       "2           3.987627  \n",
       "3           0.468861  \n",
       "4           1.115862  "
      ]
     },
     "execution_count": 68,
     "metadata": {},
     "output_type": "execute_result"
    }
   ],
   "source": [
    "# training set data\n",
    "cancer_samples = pd.read_csv('brain_cancer_samples.csv')\n",
    "X_train_df = cancer_samples[cancer_samples.columns[np.arange(12)!=11]]\n",
    "y_train_df = cancer_samples[cancer_samples.columns[-1]]\n",
    "\n",
    "# transform training data into standardised arrays\n",
    "X_train = standardise(np.array(X_train_df))[:,1:] # drop the Patient ID column\n",
    "y_train = np.array(y_train_df)\n",
    "\n",
    "# test set data, dropping the Patient ID column\n",
    "cancer_test = pd.read_csv('brain_cancer_test.csv')\n",
    "X_test_df = cancer_test[cancer_test.columns[np.arange(12)!=11]]\n",
    "y_test_df = cancer_test[cancer_test.columns[-1]]\n",
    "\n",
    "# transform test data into standardised arrays\n",
    "X_test = standardise(np.array(X_test_df),np.array(X_train_df))[:,1:] # drop the Patient ID column\n",
    "y_test = np.array(y_test_df)\n",
    "\n",
    "# observe features\n",
    "print(f'number of predictors = {X_test_df.shape[1]}')\n",
    "X_test_df.head()"
   ]
  },
  {
   "cell_type": "code",
   "execution_count": 69,
   "metadata": {},
   "outputs": [],
   "source": [
    "def euclidian_distance(p, q):\n",
    "    \"\"\"Compute the Euclidean distance between two sets of points.\"\"\"\n",
    "    return np.sqrt(np.sum((p-q)**2, axis=1))"
   ]
  },
  {
   "cell_type": "code",
   "execution_count": 70,
   "metadata": {},
   "outputs": [],
   "source": [
    "def k_neighbours(X_train, X_test, k=5, return_distance=False):\n",
    "    \"\"\"Find the k nearest neighbours of each point in X_test from the points in X_train.\"\"\"\n",
    "    n_neighbours = k\n",
    "    dist = []\n",
    "    neigh_ind = []\n",
    "\n",
    "    # compute distance from each point x_test in X_test to all points in X_train\n",
    "    point_dist = [euclidian_distance(x_test, X_train) for x_test in X_test]\n",
    "\n",
    "    # determine which k training points are closest to each test point\n",
    "    for row in point_dist:\n",
    "        enum_neigh = enumerate(row)\n",
    "        sorted_neigh = sorted(enum_neigh, key=lambda x: x[1])[:k]\n",
    "        ind_list = [tup[0] for tup in sorted_neigh]\n",
    "        dist_list = [tup[1] for tup in sorted_neigh]\n",
    "        dist.append(dist_list)\n",
    "        neigh_ind.append(ind_list)\n",
    "\n",
    "    # return distances together with indices of k nearest neighbours\n",
    "    if return_distance:\n",
    "        return np.array(dist), np.array(neigh_ind)\n",
    "\n",
    "    return np.array(neigh_ind)"
   ]
  },
  {
   "cell_type": "code",
   "execution_count": 71,
   "metadata": {},
   "outputs": [],
   "source": [
    "def predict(X_train, y_train, X_test, k=5):\n",
    "    \"\"\"\n",
    "    Predict the labels for the test dataset using the k-nearest neighbours algorithm.\n",
    "    \"\"\"\n",
    "    # find k nearest neighbours for each test point\n",
    "    neighbours = k_neighbours(X_train, X_test, k=k)\n",
    "\n",
    "    # predict labels based on majority vote of k nearest neighbours\n",
    "    y_pred = np.array([np.argmax(np.bincount(y_train[neighbour])) for neighbour in neighbours])\n",
    "\n",
    "    return y_pred"
   ]
  },
  {
   "cell_type": "code",
   "execution_count": 72,
   "metadata": {},
   "outputs": [],
   "source": [
    "def score(X_train, y_train, X_test, y_test, k):\n",
    "    \"\"\"\n",
    "    Compute the accuracy (micro-accuracy) score of a k-nearest neighbours classifier.\n",
    "    \"\"\"\n",
    "    # predict labels for test set using k-nearest neighbours algorithm\n",
    "    y_pred = predict(X_train, y_train, X_test, k=k)\n",
    "    \n",
    "    # compute accuracy \n",
    "    accuracy = float(sum(y_pred == y_test)) / float(len(y_test))\n",
    "    \n",
    "    return accuracy"
   ]
  },
  {
   "cell_type": "code",
   "execution_count": 73,
   "metadata": {},
   "outputs": [],
   "source": [
    "# create a list of five index arrays, corresponding to each of the five folds.\n",
    "folds_indexes = np.split(np.arange(len(y_train)), 5)"
   ]
  },
  {
   "cell_type": "code",
   "execution_count": 74,
   "metadata": {},
   "outputs": [],
   "source": [
    "def cross_validation_score(X_train, y_train, folds, k):\n",
    "    \"\"\"\n",
    "    Perform k-fold cross-validation to evaluate the performance of a k-nearest neighbours classifier.\n",
    "    \"\"\"\n",
    "    # initialise scores\n",
    "    scores = []\n",
    "    \n",
    "    # iterate over each fold\n",
    "    for i in range(len(folds)):\n",
    "        val_indexes = folds[i]\n",
    "        train_indexes = list(set(range(y_train.shape[0])) - set(val_indexes))\n",
    "        \n",
    "        # separate training and validation data\n",
    "        X_train_i = X_train[train_indexes, :]\n",
    "        y_train_i = y_train[train_indexes]\n",
    "        X_val_i = X_train[val_indexes, :]\n",
    "        y_val_i = y_train[val_indexes]\n",
    "        \n",
    "        # train k-nearest neighbours classifier and evaluate its performance\n",
    "        score_i = score(X_train_i, y_train_i, X_val_i, y_val_i, k=k)\n",
    "        scores.append(score_i)\n",
    "\n",
    "    # return average score\n",
    "    return sum(scores) / len(scores)"
   ]
  },
  {
   "cell_type": "code",
   "execution_count": 75,
   "metadata": {},
   "outputs": [],
   "source": [
    "def choose_best_k(X_train, y_train, folds, k_range):\n",
    "    \"\"\"\n",
    "    Choose the best value of k for a k-nearest neighbours classifier using cross-validation.\n",
    "    \"\"\"\n",
    "    # initialise scores\n",
    "    k_scores = np.zeros((len(k_range),))\n",
    "    \n",
    "    # iterate over each k\n",
    "    for i, k in enumerate(k_range):\n",
    "        k_scores[i] = cross_validation_score(X_train, y_train, folds, k)\n",
    "        print(f'CV_ACC@k={k}: {k_scores[i]:.3f}')\n",
    "\n",
    "    # select k with highest cross-validation score\n",
    "    best_k_index = np.argmax(k_scores)\n",
    "    return k_range[best_k_index]"
   ]
  },
  {
   "cell_type": "code",
   "execution_count": 76,
   "metadata": {},
   "outputs": [
    {
     "name": "stdout",
     "output_type": "stream",
     "text": [
      "CV_ACC@k=1: 0.648\n",
      "CV_ACC@k=2: 0.662\n",
      "CV_ACC@k=3: 0.745\n",
      "CV_ACC@k=4: 0.676\n",
      "CV_ACC@k=5: 0.738\n",
      "CV_ACC@k=6: 0.703\n",
      "CV_ACC@k=7: 0.690\n",
      "CV_ACC@k=8: 0.724\n",
      "CV_ACC@k=9: 0.690\n",
      "CV_ACC@k=10: 0.676\n",
      "CV_ACC@k=11: 0.683\n",
      "CV_ACC@k=12: 0.648\n",
      "CV_ACC@k=13: 0.662\n",
      "CV_ACC@k=14: 0.655\n",
      "CV_ACC@k=15: 0.683\n",
      "CV_ACC@k=16: 0.662\n",
      "CV_ACC@k=17: 0.648\n",
      "CV_ACC@k=18: 0.655\n",
      "CV_ACC@k=19: 0.641\n",
      "CV_ACC@k=20: 0.628\n",
      "Optimal value of k: 3\n"
     ]
    }
   ],
   "source": [
    "best_k = choose_best_k(X_train, y_train, folds_indexes, np.arange(1, 21))\n",
    "print('Optimal value of k:', best_k)"
   ]
  },
  {
   "cell_type": "code",
   "execution_count": 77,
   "metadata": {},
   "outputs": [
    {
     "data": {
      "image/png": "[encoded data removed]",
      "text/plain": [
       "<Figure size 1000x600 with 1 Axes>"
      ]
     },
     "metadata": {},
     "output_type": "display_data"
    }
   ],
   "source": [
    "# define range of k values\n",
    "k_values = np.arange(1, 21)\n",
    "\n",
    "# compute cross-validation scores for each k\n",
    "cross_val_scores = [cross_validation_score(X_train, y_train, folds_indexes, k) for k in k_values]\n",
    "\n",
    "# plot graph\n",
    "plt.figure(figsize=(10, 6))\n",
    "plt.plot(k_values, cross_val_scores, marker='o', linestyle='-')\n",
    "plt.title('Cross-Validation Scores for Different Values of k')\n",
    "plt.xlabel('Number of Nearest Neighbours (k)')\n",
    "plt.ylabel('Cross-Validation Score')\n",
    "plt.xticks(k_values)\n",
    "plt.grid(True)\n",
    "plt.show()"
   ]
  },
  {
   "cell_type": "code",
   "execution_count": 78,
   "metadata": {},
   "outputs": [
    {
     "name": "stdout",
     "output_type": "stream",
     "text": [
      "Micro-averaged accuracy of kNN model on the test set: 0.6666666666666666\n"
     ]
    }
   ],
   "source": [
    "# assess performance of optimal k on test set\n",
    "print(f\"Micro-averaged accuracy of kNN model on the test set: {score(X_train, y_train, X_test, y_test, best_k)}\")"
   ]
  },
  {
   "cell_type": "code",
   "execution_count": 79,
   "metadata": {},
   "outputs": [
    {
     "data": {
      "text/plain": [
       "(array([47, 80, 18]), array([18, 35,  7]))"
      ]
     },
     "execution_count": 79,
     "metadata": {},
     "output_type": "execute_result"
    }
   ],
   "source": [
    "# identify minority class\n",
    "np.bincount(y_train), np.bincount(y_test)"
   ]
  },
  {
   "cell_type": "markdown",
   "metadata": {},
   "source": [
    "The minority class is class 2 since there are only 18 values in that class for the training set and 7 values in that class for the test set, which is the least."
   ]
  },
  {
   "cell_type": "code",
   "execution_count": 80,
   "metadata": {},
   "outputs": [],
   "source": [
    "def confusion_matrix(y_true, y_pred, num_class):\n",
    "    \"\"\"\n",
    "    Compute the confusion matrix for the classification task.\n",
    "    Parameters:\n",
    "        y_true (np.ndarray): The true labels with shape (N,).\n",
    "        y_pred (np.ndarray): The predicted labels with shape (N,).\n",
    "        num_class (int): The number of classes in the classification task.\n",
    "    Returns:\n",
    "        Tuple[np.ndarray, np.ndarray, np.ndarray, np.ndarray]: A tuple containing four arrays:\n",
    "            - true_positives (TP) for each class.\n",
    "            - true_negatives (TN) for each class.\n",
    "            - false_positives (FP) for each class.\n",
    "            - false_negatives (FN) for each class.\n",
    "    \"\"\"\n",
    "    # initialise variables to store counts for each class\n",
    "    true_positives = np.zeros(num_class, dtype=int)\n",
    "    true_negatives = np.zeros(num_class, dtype=int)\n",
    "    false_positives = np.zeros(num_class, dtype=int)\n",
    "    false_negatives = np.zeros(num_class, dtype=int)\n",
    "    \n",
    "    # iterate over each class\n",
    "    for class_ in range(num_class):\n",
    "        # calculate true/false positives/negatives for the current class\n",
    "        true_positives[class_] = np.sum((y_true == class_) & (y_pred == class_))\n",
    "        true_negatives[class_] = np.sum((y_true != class_) & (y_pred != class_))\n",
    "        false_positives[class_] = np.sum((y_true != class_) & (y_pred == class_))\n",
    "        false_negatives[class_] = np.sum((y_true == class_) & (y_pred != class_))\n",
    "    \n",
    "    return true_positives, true_negatives, false_positives, false_negatives"
   ]
  },
  {
   "cell_type": "code",
   "execution_count": 81,
   "metadata": {},
   "outputs": [],
   "source": [
    "def micro(true_positives, true_negatives, false_positives, false_negatives):\n",
    "    \"\"\"Compute micro-averaged accuracy and precision.\"\"\"\n",
    "    # calculate accuracy\n",
    "    micro_accuracy = np.sum(true_positives) / (np.sum(true_positives) + 0.5 * (np.sum(false_positives) + np.sum(false_negatives)))\n",
    "    \n",
    "    # calculate precision\n",
    "    micro_precision = np.sum(true_positives) / (np.sum(true_positives) + np.sum(false_positives))\n",
    "    return micro_accuracy, micro_precision"
   ]
  },
  {
   "cell_type": "code",
   "execution_count": 82,
   "metadata": {},
   "outputs": [],
   "source": [
    "def macro(true_positives, true_negatives, false_positives, false_negatives):\n",
    "    \"\"\"Compute macro-averaged accuracy and precision.\"\"\"\n",
    "    # calculate accuracy for each class\n",
    "    class_accuracy = (true_positives + true_negatives) / (true_positives + true_negatives + false_positives + false_negatives)\n",
    "\n",
    "    # calculate precision for each class\n",
    "    class_precision = true_positives / (true_positives + false_negatives)\n",
    "\n",
    "    # calculate macro-averaged accuracy\n",
    "    macro_accuracy = np.mean(class_accuracy)\n",
    "\n",
    "    # calculate macro-averaged precision\n",
    "    macro_precision = np.mean(class_precision)\n",
    "\n",
    "    return macro_accuracy, macro_precision"
   ]
  },
  {
   "cell_type": "code",
   "execution_count": 83,
   "metadata": {},
   "outputs": [],
   "source": [
    "def class_weighted(true_positives, true_negatives, false_positives, false_negatives, weights):\n",
    "    \"\"\"Compute class-weighted accuracy and precision.\"\"\"\n",
    "    # calculate accuracy and precision for each class\n",
    "    class_accuracy = (true_positives + true_negatives) / (true_positives + true_negatives + false_positives + false_negatives)\n",
    "    class_precision = true_positives / (true_positives + false_negatives)\n",
    "\n",
    "    # initialise class-weighted accuracy and precision\n",
    "    class_weighted_accuracy, class_weighted_precision = 0, 0\n",
    "    \n",
    "    # calculate class-weighted accuracy and precision\n",
    "    for i in range(len(weights)):\n",
    "        class_weighted_accuracy += weights[i] * class_accuracy[i]\n",
    "        class_weighted_precision += weights[i] * class_precision[i]\n",
    "    \n",
    "    return class_weighted_accuracy, class_weighted_precision"
   ]
  },
  {
   "cell_type": "code",
   "execution_count": 84,
   "metadata": {},
   "outputs": [
    {
     "name": "stdout",
     "output_type": "stream",
     "text": [
      "Class 0:\n",
      "True Positives: 8\n",
      "True Negatives: 35\n",
      "False Positives: 7\n",
      "False Negatives: 10\n",
      "\n",
      "Class 1:\n",
      "True Positives: 28\n",
      "True Negatives: 12\n",
      "False Positives: 13\n",
      "False Negatives: 7\n",
      "\n",
      "Class 2:\n",
      "True Positives: 4\n",
      "True Negatives: 53\n",
      "False Positives: 0\n",
      "False Negatives: 3\n",
      "\n",
      "Micro-averaged accuracy: 0.6666666666666666\n",
      "Micro-averaged precision: 0.6666666666666666\n",
      "\n",
      "Macro-averaged accuracy: 0.7777777777777777\n",
      "Macro-averaged precision: 0.6052910052910053\n",
      "\n",
      "Class-weighted accuracy:0.7147222222222223\n",
      "Class-weighted precision:0.6666666666666667\n",
      "\n"
     ]
    }
   ],
   "source": [
    "# predict labels for test set using k-nearest neighbours algorithm\n",
    "y_pred_knn = predict(X_train, y_train, X_test, k=3)\n",
    "\n",
    "# number of classes\n",
    "num_class = 3\n",
    "\n",
    "# compute confusion matrix\n",
    "true_positives, true_negatives, false_positives, false_negatives = confusion_matrix(y_test, y_pred_knn, num_class)\n",
    "\n",
    "# print confusion matrix values for each class\n",
    "for class_ in range(num_class):\n",
    "    print(f\"Class {class_}:\")\n",
    "    print(\"True Positives:\", true_positives[class_])\n",
    "    print(\"True Negatives:\", true_negatives[class_])\n",
    "    print(\"False Positives:\", false_positives[class_])\n",
    "    print(\"False Negatives:\", false_negatives[class_])\n",
    "    print()\n",
    "\n",
    "# micro-averaged accuracy and precision\n",
    "micro_accuracy, micro_precision = micro(true_positives, true_negatives, false_positives, false_negatives)\n",
    "\n",
    "# macro-averaged accuracy and precision\n",
    "macro_accuracy, macro_precision = macro(true_positives, true_negatives, false_positives, false_negatives)\n",
    "\n",
    "# class-weighted accuracy and precision\n",
    "class_weighted_accuracy, class_weighted_precision = class_weighted(true_positives, true_negatives, false_positives, false_negatives, np.bincount(y_test)/len(y_test))\n",
    "\n",
    "print(f\"Micro-averaged accuracy: {micro_accuracy}\")\n",
    "print(f\"Micro-averaged precision: {micro_precision}\")\n",
    "print(\"\")\n",
    "\n",
    "print(f\"Macro-averaged accuracy: {macro_accuracy}\")\n",
    "print(f\"Macro-averaged precision: {macro_precision}\")\n",
    "print(\"\")\n",
    "\n",
    "print(f\"Class-weighted accuracy:{class_weighted_accuracy}\")\n",
    "print(f\"Class-weighted precision:{class_weighted_precision}\")\n",
    "print(\"\")"
   ]
  },
  {
   "cell_type": "code",
   "execution_count": 85,
   "metadata": {},
   "outputs": [
    {
     "name": "stdout",
     "output_type": "stream",
     "text": [
      "Minority class accuracy: 0.5229357798165137\n",
      "Minority class precision: 1.0\n"
     ]
    }
   ],
   "source": [
    "# accuracy of each class\n",
    "class_accuracy = (true_positives + true_negatives) / (true_negatives + true_negatives + false_positives + false_negatives)\n",
    "\n",
    "# accuracy of minority class (class 2)\n",
    "minority_class_accuracy = class_accuracy[2]\n",
    "\n",
    "# precision of each class\n",
    "class_precision = true_positives / (true_positives + false_positives)\n",
    "\n",
    "# precision of minority class (class 2)\n",
    "minority_class_precision = class_precision[2]\n",
    "\n",
    "print(f\"Minority class accuracy: {minority_class_accuracy}\")\n",
    "print(f\"Minority class precision: {minority_class_precision}\")"
   ]
  },
  {
   "cell_type": "markdown",
   "metadata": {},
   "source": [
    "We can see that the micro-averaged accuracy is lower than the class-weighted accuracy and the macro-averaged accuracy is higher than the class-weighted accuracy. We can deduce from this that one class has much lower accuracy. \n",
    "\n",
    "Calculating the accuracy of the minority class, we find that it has an accuracy of 0.52 which is very low compared to the class-weighted accuracy, implying that the kNN classifier poorly predicts the minority class in comparison to the other two classes (there are many false positives and false negatives).\n",
    "\n",
    "Calculating the precision of the minority class, we find that it has a precision of 1.0. This tells us that when the classifier predicts an instance as belonging to the minority class, it is always correct (there are no false positives).\n",
    "\n",
    "Overall, the kNN classifier doesn't do too bad on the test set, with values above 0.6 for all six metrics. The minority class has a much higher precision than the other two classes but a much lower accuracy, meaning the kNN classifier doesn't do too well at predicting the minority class."
   ]
  },
  {
   "cell_type": "markdown",
   "metadata": {
    "id": "hrF3U23EMg3k"
   },
   "source": [
    "<a name=\"task-212\"></a>\n",
    "\n",
    "### (2.1.2) [(index)](#index-task-212)"
   ]
  },
  {
   "cell_type": "markdown",
   "metadata": {},
   "source": [
    "This weighting strategy gives more weight to smaller classes, multiplying by a factor inversely proportional to the frequency of the class. Closer neighbours are also given more weight. The aim of this strategy is to improve the prediction of the minority class by giving it more weight."
   ]
  },
  {
   "cell_type": "code",
   "execution_count": 86,
   "metadata": {},
   "outputs": [],
   "source": [
    "def weighted_predict(X_train, y_train, X_test, k=3):\n",
    "    \"\"\"\n",
    "    Predict class labels for test data using a weighted k-nearest neighbours (kNN) algorithm.\n",
    "    \"\"\"\n",
    "    # find k nearest neighbours for each test point\n",
    "    distances, neighbours = k_neighbours(X_train, X_test, k=k, return_distance=True)\n",
    "    \n",
    "    # initialise array to store weighted votes for each class\n",
    "    weighted_votes = np.zeros((X_test.shape[0], np.max(y_train) + 1))\n",
    "    \n",
    "    # iterate over each test point\n",
    "    for i, neighbour_indices in enumerate(neighbours):\n",
    "        # get corresponding labels of k nearest neighbours\n",
    "        neighbour_labels = y_train[neighbour_indices]\n",
    "    \n",
    "        # calculate weights for each neighbour based on their distance and class frequency\n",
    "        weights = np.zeros_like(neighbour_labels, dtype=float)\n",
    "        for j, label in enumerate(neighbour_labels):\n",
    "            # calculate the frequency of the specific class label within the neighbourhood\n",
    "            class_frequency = np.sum(neighbour_labels[:j+1] == label) \n",
    "            # assign weights inversely proportional to class frequency\n",
    "            weights[j] = 1 / (distances[i, j] + 1e-6) * (1 / (class_frequency + 1e-6))\n",
    "        \n",
    "        # accumulate weighted votes for each class\n",
    "        for j, label in enumerate(neighbour_labels):\n",
    "            weighted_votes[i, label] += weights[j]\n",
    "    \n",
    "    # predict class with maximum weighted vote for each test point\n",
    "    y_pred = np.argmax(weighted_votes, axis=1)\n",
    "    \n",
    "    return y_pred"
   ]
  },
  {
   "cell_type": "code",
   "execution_count": 87,
   "metadata": {},
   "outputs": [],
   "source": [
    "def weighted_score(X_train, y_train, X_test, y_test, k=3):\n",
    "    \"\"\"\n",
    "    Compute the accuracy score of predictions made by the weighted k-nearest neighbours (kNN) algorithm.\n",
    "    \"\"\"\n",
    "    y_pred = weighted_predict(X_train, y_train, X_test, k=k)\n",
    "    return float(sum(y_pred == y_test)) / float(len(y_test))\n"
   ]
  },
  {
   "cell_type": "code",
   "execution_count": 88,
   "metadata": {},
   "outputs": [],
   "source": [
    "def weighted_cross_validation_score(X_train, y_train, folds, k):\n",
    "    \"\"\"\n",
    "    Compute the cross-validation score using the weighted k-nearest neighbours (kNN) algorithm.\n",
    "    \"\"\"\n",
    "    scores = []\n",
    "    for i in range(len(folds)):\n",
    "        val_indexes = folds[i]\n",
    "        train_indexes = list(set(range(y_train.shape[0])) - set(val_indexes))\n",
    "\n",
    "        X_train_i = X_train[train_indexes, :]\n",
    "        y_train_i = y_train[train_indexes]\n",
    "        X_val_i = X_train[val_indexes, :] \n",
    "        y_val_i = y_train[val_indexes] \n",
    "\n",
    "        # compute score using weighted kNN\n",
    "        score_i = weighted_score(X_train_i, y_train_i, X_val_i, y_val_i, k=k) \n",
    "        scores.append(score_i)\n",
    "\n",
    "    # Return the average score\n",
    "    return sum(scores) / len(scores)"
   ]
  },
  {
   "cell_type": "code",
   "execution_count": 89,
   "metadata": {},
   "outputs": [
    {
     "data": {
      "image/png": "[encoded data removed]",
      "text/plain": [
       "<Figure size 1000x600 with 1 Axes>"
      ]
     },
     "metadata": {},
     "output_type": "display_data"
    }
   ],
   "source": [
    "# define range of k values\n",
    "k_values = np.arange(1, 21)\n",
    "\n",
    "# compute cross-validation scores for each k\n",
    "cross_val_scores = [weighted_cross_validation_score(X_train, y_train, folds_indexes, k) for k in k_values]\n",
    "\n",
    "# plot graph\n",
    "plt.figure(figsize=(10, 6))\n",
    "plt.plot(k_values, cross_val_scores, marker='o', linestyle='-')\n",
    "plt.title('Cross-Validation Scores for Different Values of k for Weighted kNN')\n",
    "plt.xlabel('Number of Nearest Neighbours (k)')\n",
    "plt.ylabel('Cross-Validation Score')\n",
    "plt.xticks(k_values)\n",
    "plt.grid(True)\n",
    "plt.show()"
   ]
  },
  {
   "cell_type": "code",
   "execution_count": 90,
   "metadata": {},
   "outputs": [
    {
     "name": "stdout",
     "output_type": "stream",
     "text": [
      "Class 0:\n",
      "True Positives: 10\n",
      "True Negatives: 35\n",
      "False Positives: 7\n",
      "False Negatives: 8\n",
      "\n",
      "Class 1:\n",
      "True Positives: 29\n",
      "True Negatives: 14\n",
      "False Positives: 11\n",
      "False Negatives: 6\n",
      "\n",
      "Class 2:\n",
      "True Positives: 3\n",
      "True Negatives: 53\n",
      "False Positives: 0\n",
      "False Negatives: 4\n",
      "\n",
      "Micro-averaged accuracy: 0.7\n",
      "Micro-averaged precision: 0.7\n",
      "\n",
      "Macro-averaged accuracy: 0.8000000000000002\n",
      "Macro-averaged precision: 0.6042328042328042\n",
      "\n",
      "Class-weighted accuracy:0.7519444444444444\n",
      "Class-weighted precision:0.7000000000000001\n",
      "\n"
     ]
    }
   ],
   "source": [
    "# predict labels for test set using k-nearest neighbours algorithm\n",
    "y_weighted_pred = weighted_predict(X_train, y_train, X_test, k=3)\n",
    "\n",
    "# number of classes\n",
    "num_class = 3\n",
    "\n",
    "# compute confusion matrix\n",
    "true_positives, true_negatives, false_positives, false_negatives = confusion_matrix(y_test, y_weighted_pred, num_class)\n",
    "\n",
    "# print confusion matrix values for each class\n",
    "for class_ in range(num_class):\n",
    "    print(f\"Class {class_}:\")\n",
    "    print(\"True Positives:\", true_positives[class_])\n",
    "    print(\"True Negatives:\", true_negatives[class_])\n",
    "    print(\"False Positives:\", false_positives[class_])\n",
    "    print(\"False Negatives:\", false_negatives[class_])\n",
    "    print()\n",
    "\n",
    "# micro-averaged accuracy and precision\n",
    "micro_accuracy, micro_precision = micro(true_positives, true_negatives, false_positives, false_negatives)\n",
    "\n",
    "# macro-averaged accuracy and precision\n",
    "macro_accuracy, macro_precision = macro(true_positives, true_negatives, false_positives, false_negatives)\n",
    "\n",
    "# class-weighted accuracy and precision\n",
    "class_weighted_accuracy, class_weighted_precision = class_weighted(true_positives, true_negatives, false_positives, false_negatives, np.bincount(y_test)/len(y_test))\n",
    "\n",
    "print(f\"Micro-averaged accuracy: {micro_accuracy}\")\n",
    "print(f\"Micro-averaged precision: {micro_precision}\")\n",
    "print(\"\")\n",
    "\n",
    "print(f\"Macro-averaged accuracy: {macro_accuracy}\")\n",
    "print(f\"Macro-averaged precision: {macro_precision}\")\n",
    "print(\"\")\n",
    "\n",
    "print(f\"Class-weighted accuracy:{class_weighted_accuracy}\")\n",
    "print(f\"Class-weighted precision:{class_weighted_precision}\")\n",
    "print(\"\")"
   ]
  },
  {
   "cell_type": "code",
   "execution_count": 91,
   "metadata": {},
   "outputs": [
    {
     "name": "stdout",
     "output_type": "stream",
     "text": [
      "Minority class accuracy: 0.509090909090909\n",
      "Minority class precision: 1.0\n"
     ]
    }
   ],
   "source": [
    "# accuracy of each class\n",
    "class_accuracy = (true_positives + true_negatives) / (true_negatives + true_negatives + false_positives + false_negatives)\n",
    "\n",
    "# accuracy of minority class (class 2)\n",
    "minority_class_accuracy = class_accuracy[2]\n",
    "\n",
    "# precision of each class\n",
    "class_precision = true_positives / (true_positives + false_positives)\n",
    "\n",
    "# precision of minority class (class 2)\n",
    "minority_class_precision = class_precision[2]\n",
    "\n",
    "print(f\"Minority class accuracy: {minority_class_accuracy}\")\n",
    "print(f\"Minority class precision: {minority_class_precision}\")"
   ]
  },
  {
   "cell_type": "markdown",
   "metadata": {},
   "source": [
    "We find that all six metrics have improved compared to the values in 2.1.1, meaning the weighted kNN model is more effective at making predictions than the unweighted one. We obtain fewer false positives and false negatives using the weighted model.\n",
    "\n",
    "Observing the minority class spefically, we find that the minority class accuracy is very similar, and the minority class precision is still 1.0. \n",
    "\n",
    "Therefore, the weighted kNN model is much better overall, however, it is not much more effective at predicting the minority class. A different weighting strategy may be more appropriate."
   ]
  },
  {
   "cell_type": "markdown",
   "metadata": {
    "id": "sIUs15tlMg9c"
   },
   "source": [
    "<a name=\"task-213\"></a>\n",
    "\n",
    "### (2.1.3) [(index)](#index-task-213)"
   ]
  },
  {
   "cell_type": "code",
   "execution_count": 92,
   "metadata": {},
   "outputs": [],
   "source": [
    "# merge classes 1 and 2 into class 1 (malignant tumor diagnosis)\n",
    "y_train_binary = np.where(y_train == 0, 0, 1)\n",
    "\n",
    "def predict_binary1(X_train, y_train, X_test, k1 = best_k):\n",
    "    \"\"\"\n",
    "    Train a kNN model where where the two classes are ‘benign tumour diagnosis’ (class 0)\n",
    "    and ‘malignant tumour diagnosis’ (classes 1 and 2 combined).\n",
    "    \"\"\"\n",
    "    # prediction for y_test_binary\n",
    "    y_pred1 = predict(X_train, y_train_binary, X_test, k = k1)\n",
    "    return y_pred1\n",
    "\n",
    "def predict_binary2(X_train, y_train, X_test, k2 = 1):\n",
    "    \"\"\"\n",
    "    Perform a 2-step binary classification for the original three-class classification problem.\n",
    "    \"\"\"\n",
    "    y_pred1 = predict(X_train, y_train_binary, X_test, best_k)\n",
    "    \n",
    "    # modify training and testing data\n",
    "    X_test_modified = X_test[y_pred1 == 1]\n",
    "    X_train_modified = X_train[y_train_binary == 1]\n",
    "    y_train_modified = y_train[y_train_binary == 1]\n",
    "    \n",
    "    # prediction for y_test\n",
    "    y_pred2 = y_pred1.copy()\n",
    "    y_pred2[y_pred1 == 1] = predict(X_train_modified, y_train_modified, X_test_modified, k = k2)\n",
    "    return y_pred2"
   ]
  },
  {
   "cell_type": "code",
   "execution_count": 93,
   "metadata": {},
   "outputs": [
    {
     "name": "stdout",
     "output_type": "stream",
     "text": [
      "Class 0:\n",
      "True Positives: 8\n",
      "True Negatives: 35\n",
      "False Positives: 7\n",
      "False Negatives: 10\n",
      "\n",
      "Class 1:\n",
      "True Positives: 28\n",
      "True Negatives: 13\n",
      "False Positives: 12\n",
      "False Negatives: 7\n",
      "\n",
      "Class 2:\n",
      "True Positives: 5\n",
      "True Negatives: 53\n",
      "False Positives: 0\n",
      "False Negatives: 2\n",
      "\n",
      "Micro-averaged accuracy: 0.6833333333333333\n",
      "Micro-averaged precision: 0.6833333333333333\n",
      "\n",
      "Macro-averaged accuracy: 0.7888888888888889\n",
      "Macro-averaged precision: 0.652910052910053\n",
      "\n",
      "Class-weighted accuracy:0.7263888888888889\n",
      "Class-weighted precision:0.6833333333333335\n",
      "\n"
     ]
    }
   ],
   "source": [
    "# predict labels for test set using k-nearest neighbours algorithm\n",
    "y_pred_binary = predict_binary2(X_train, y_train, X_test, k2 = 1)\n",
    "\n",
    "# number of classes\n",
    "num_class = 3\n",
    "\n",
    "# compute confusion matrix\n",
    "true_positives, true_negatives, false_positives, false_negatives = confusion_matrix(y_test, y_pred_binary, num_class)\n",
    "\n",
    "# print confusion matrix values for each class\n",
    "for class_ in range(num_class):\n",
    "    print(f\"Class {class_}:\")\n",
    "    print(\"True Positives:\", true_positives[class_])\n",
    "    print(\"True Negatives:\", true_negatives[class_])\n",
    "    print(\"False Positives:\", false_positives[class_])\n",
    "    print(\"False Negatives:\", false_negatives[class_])\n",
    "    print()\n",
    "\n",
    "# micro-averaged accuracy and precision\n",
    "micro_accuracy, micro_precision = micro(true_positives, true_negatives, false_positives, false_negatives)\n",
    "\n",
    "# macro-averaged accuracy and precision\n",
    "macro_accuracy, macro_precision = macro(true_positives, true_negatives, false_positives, false_negatives)\n",
    "\n",
    "# class-weighted accuracy and precision\n",
    "class_weighted_accuracy, class_weighted_precision = class_weighted(true_positives, true_negatives, false_positives, false_negatives, np.bincount(y_test)/len(y_test))\n",
    "\n",
    "print(f\"Micro-averaged accuracy: {micro_accuracy}\")\n",
    "print(f\"Micro-averaged precision: {micro_precision}\")\n",
    "print(\"\")\n",
    "\n",
    "print(f\"Macro-averaged accuracy: {macro_accuracy}\")\n",
    "print(f\"Macro-averaged precision: {macro_precision}\")\n",
    "print(\"\")\n",
    "\n",
    "print(f\"Class-weighted accuracy:{class_weighted_accuracy}\")\n",
    "print(f\"Class-weighted precision:{class_weighted_precision}\")\n",
    "print(\"\")"
   ]
  },
  {
   "cell_type": "markdown",
   "metadata": {},
   "source": [
    "We find that the 2-step kNN performs very well, but not as well as the weighted version of kNN from 2.1.2. \n",
    "\n",
    "Weighted kNN has the best score for all six metrics. 2-step kNN has the second best for all six metrics, and unweighted kNN performs the worst for all six metrics. However, the scores for each model are relatively close.\n",
    "\n",
    "We would expect weighted kNN to perform very well as it is able to make more informed classification decisions, especially considering the fact that the classes differ greatly in size.\n",
    "\n",
    "2-step kNN might perform worse than weighted kNN due to the loss of information from separating the classification into two separate binary classification tasks.\n",
    "\n",
    "Unweighted kNN may perform the worst since it treats all neighbours equally, resulting in outliers having a big effect on the accuracy of the model. It also prioritises the majority class, leading to predictions with lower accuracy and bias, especially for the minority class."
   ]
  },
  {
   "cell_type": "markdown",
   "metadata": {
    "id": "X6Zz2bcMP6Wk"
   },
   "source": [
    "\n",
    "\n",
    "---\n",
    "\n"
   ]
  },
  {
   "cell_type": "markdown",
   "metadata": {
    "id": "J0K6bbpHPUYE"
   },
   "source": [
    "<a name=\"task-22\"></a>\n",
    "\n",
    "## (2.2) Logistic regression vs kernel logistic regression [(index)](#index-task-22)"
   ]
  },
  {
   "cell_type": "markdown",
   "metadata": {
    "id": "4pVdpUHZP-oE"
   },
   "source": [
    "<a name=\"task-221\"></a>\n",
    "\n",
    "### (2.2.1) [(index)](#index-task-221)"
   ]
  },
  {
   "cell_type": "code",
   "execution_count": 94,
   "metadata": {},
   "outputs": [],
   "source": [
    "# formulation of the binary classification task\n",
    "y_train_binary = np.where(y_train == 0, 0, 1)\n",
    "y_test_binary = np.where(y_test == 0, 0, 1)"
   ]
  },
  {
   "cell_type": "code",
   "execution_count": 95,
   "metadata": {},
   "outputs": [],
   "source": [
    "def logistic(z):\n",
    "    \"\"\"Compute the logistic sigmoid function.\"\"\"\n",
    "    return 1. / (1. + np.exp(-z))"
   ]
  },
  {
   "cell_type": "code",
   "execution_count": 96,
   "metadata": {},
   "outputs": [],
   "source": [
    "def predict_log(X, beta):\n",
    "    \"\"\"Predict the probability of belonging to a class using logistic regression.\"\"\"\n",
    "    y_log = logistic(X @ beta)\n",
    "    return y_log.squeeze()"
   ]
  },
  {
   "cell_type": "code",
   "execution_count": 97,
   "metadata": {},
   "outputs": [],
   "source": [
    "def initialise(size):\n",
    "    \"\"\" \n",
    "    Initialise beta parameter.\n",
    "    Argument:\n",
    "    size: Size of the parameter vector beta\n",
    "    Returns:\n",
    "    beta: Initialised vector of shape (size, 1)\n",
    "    \"\"\"\n",
    "    beta = np.zeros((size, 1))\n",
    "    return beta"
   ]
  },
  {
   "cell_type": "code",
   "execution_count": 98,
   "metadata": {},
   "outputs": [],
   "source": [
    "def propagate(X, y, beta, lambda1=0.0025):\n",
    "    \"\"\"\n",
    "    Compute the mean sample loss and its gradient with respect to beta.\n",
    "    Arguments:\n",
    "    X: Data of shape (N, p+1)\n",
    "    y: True label vector of size N\n",
    "    beta: Parameter vector, a numpy array of size p+1\n",
    "    lambda1: Regularisation parameter for the magnitude of beta\n",
    "    Returns:\n",
    "    mean_loss: Mean sample loss for the negative log-likelihood\n",
    "    dbeta: Gradient of the mean sample loss with respect to beta\n",
    "    \"\"\"\n",
    "    y_log = predict_log(X, beta)\n",
    "\n",
    "    # mean sample loss function\n",
    "    mean_loss = - np.mean(y * np.log(y_log) + (1-y) * np.log(1 - y_log) + lambda1/2 * np.linalg.norm(beta) ** 2)\n",
    "\n",
    "    # derivatives\n",
    "    dbeta = np.mean(X.T * (y_log - y), axis=1).reshape(-1, 1)\n",
    "    dbeta += lambda1 * beta\n",
    "    \n",
    "    mean_loss = np.squeeze(mean_loss)\n",
    "    \n",
    "    # store gradients in a dictionary\n",
    "    grads = {'dbeta': dbeta}\n",
    "      \n",
    "    return grads, mean_loss"
   ]
  },
  {
   "cell_type": "code",
   "execution_count": 99,
   "metadata": {},
   "outputs": [],
   "source": [
    "def optimise(X, y, beta, num_iterations=1000, learning_rate=0.1, print_loss=False):\n",
    "    \"\"\"\n",
    "    Optimise the logistic regression parameters using gradient descent.\n",
    "    Arguments:\n",
    "    X: Data of shape (N, p+1)\n",
    "    y: True label vector of size N\n",
    "    beta: Parameter vector, a numpy array of size p+1\n",
    "    num_iterations: Number of iterations\n",
    "    learning_rate: Step size in updating procedure\n",
    "    print_loss: 'True' to print the mean loss every 100 iterations\n",
    "    Returns:\n",
    "    params: Dictionary containing the parameter vector beta\n",
    "    grads: Dictionary containing the gradient\n",
    "    mean_loss_history: List of all the mean loss values computed during the optimisation (can be used to plot the learning curve)\n",
    "    \"\"\"\n",
    "    mean_loss_history = []\n",
    "    \n",
    "    for i in range(num_iterations):\n",
    "\n",
    "        # calculating the loss and gradients \n",
    "        grads, mean_loss = propagate(X, y, beta)\n",
    "        \n",
    "        # retrieving derivatives from grads\n",
    "        dbeta = grads['dbeta']\n",
    "        \n",
    "        # updating procedure\n",
    "        beta = beta - learning_rate * dbeta \n",
    "        \n",
    "        # record the loss values\n",
    "        if i % 100 == 0:\n",
    "            mean_loss_history.append(mean_loss)\n",
    "        \n",
    "        # printing the loss every 100 iterations\n",
    "        if print_loss and i % 100 == 0:\n",
    "            print ('Mean loss after iteration %i: %f' %(i, mean_loss))\n",
    "    \n",
    "    # saving parameters and gradients in dictionary\n",
    "    params = {'beta': beta}\n",
    "    grads = {'dbeta': dbeta}\n",
    "    \n",
    "    return params, grads, mean_loss_history"
   ]
  },
  {
   "cell_type": "code",
   "execution_count": 100,
   "metadata": {},
   "outputs": [],
   "source": [
    "def predict(X_test, beta):\n",
    "    \"\"\"\n",
    "    Predict the binary class labels for the test set using logistic regression.\n",
    "    Arguments:\n",
    "    X_test: Test set of shape (N_test, p+1)\n",
    "    beta: Parameter vector, a numpy array of size p+1\n",
    "    Returns:\n",
    "    y_pred: Vector containing all binary predictions (0/1) for X_test\n",
    "    \"\"\"\n",
    "    N_test = X_test.shape[0]\n",
    "    y_pred = np.zeros((N_test, 1))\n",
    "    beta = beta.reshape(X_test.shape[1], 1)\n",
    "    \n",
    "    # predicting the probabilities\n",
    "    y_log = predict_log(X_test, beta)\n",
    "    \n",
    "    y_pred = y_log.round().reshape(1, -1)\n",
    "    \n",
    "    return y_pred"
   ]
  },
  {
   "cell_type": "code",
   "execution_count": 101,
   "metadata": {},
   "outputs": [],
   "source": [
    "def model(X_train, y_train, X_test, y_test, num_iterations=2000, learning_rate=0.1, print_loss=False):\n",
    "    \"\"\"Train the logistic regression model and evaluate on the training and test set.\"\"\"\n",
    "    # initialising parameters with zeros\n",
    "    beta = initialise(X_train.shape[1])\n",
    "\n",
    "    # gradient descent\n",
    "    parameters, grads, mean_loss_history = optimise(X_train, y_train, beta, num_iterations, learning_rate, print_loss=print_loss)\n",
    "\n",
    "    # retrieving parameter vector beta from dictionary 'parameters'\n",
    "    beta = parameters['beta']\n",
    "\n",
    "    # predicting test and training set examples\n",
    "    y_pred_test = predict(X_test, beta)\n",
    "    y_pred_train = predict(X_train, beta)\n",
    "\n",
    "    # printing train/test accuracy\n",
    "    print('Training accuracy: {} %'.format(100 - np.mean(np.abs(y_pred_train - y_train)) * 100))\n",
    "    print('Test accuracy: {} %'.format(100 - np.mean(np.abs(y_pred_test - y_test)) * 100))\n",
    "\n",
    "    # saving all information\n",
    "    d = {'mean_loss_history': mean_loss_history, 'y_pred_test': y_pred_test, 'y_pred_train': y_pred_train, 'beta': beta, 'learning_rate': learning_rate, 'num_iterations': num_iterations}\n",
    "    \n",
    "    return d"
   ]
  },
  {
   "cell_type": "code",
   "execution_count": 102,
   "metadata": {},
   "outputs": [
    {
     "name": "stdout",
     "output_type": "stream",
     "text": [
      "Mean loss after iteration 0: 0.693147\n",
      "Mean loss after iteration 100: 0.623937\n",
      "Mean loss after iteration 200: 0.616954\n",
      "Mean loss after iteration 300: 0.612943\n",
      "Mean loss after iteration 400: 0.610708\n",
      "Training accuracy: 64.82758620689656 %\n",
      "Test accuracy: 56.666666666666664 %\n"
     ]
    }
   ],
   "source": [
    "# running the model\n",
    "d = model(X_train, y_train_binary, X_test, y_test_binary, num_iterations=500, learning_rate=0.1, print_loss=True)"
   ]
  },
  {
   "cell_type": "code",
   "execution_count": 103,
   "metadata": {},
   "outputs": [],
   "source": [
    "def precision_recall_curve(y_true, y_log):\n",
    "    \"\"\"\n",
    "    Arguments:\n",
    "    y_true: Ground truth labels with size N\n",
    "    y_log: Probabilities produced by logistic regression model with size N\n",
    "  \n",
    "    Returns:\n",
    "    auc: Area Under the Curve (AUC) of the precision-recall curve\n",
    "    precision_l: List of precision values for each scanned threshold\n",
    "    recall_l: List of recall values for each scanned threshold\n",
    "    thresholds: Scanned thresholds sorted in decreasing order\n",
    "    \"\"\"\n",
    "    thresholds = reversed(sorted(set(y_log)))\n",
    "    precision_l, recall_l = [], []\n",
    "\n",
    "    for threshold in thresholds:\n",
    "        y_thresholded = (y_log >= threshold)\n",
    "\n",
    "        tp = np.sum(y_true & y_thresholded)\n",
    "        fp = np.sum((~y_true) & y_thresholded)\n",
    "        fn = np.sum(y_true & (~y_thresholded))\n",
    "\n",
    "        precision = tp / (tp + fp)\n",
    "        recall = tp / (tp + fn) \n",
    "\n",
    "        precision_l.append(precision)\n",
    "        recall_l.append(recall)\n",
    "    \n",
    "    # compute AUC-PR using Trapezoidal rule\n",
    "    auc = np.trapz(precision_l, recall_l)\n",
    "    \n",
    "    return auc, precision_l, recall_l, thresholds"
   ]
  },
  {
   "cell_type": "code",
   "execution_count": 104,
   "metadata": {},
   "outputs": [
    {
     "data": {
      "image/png": "[encoded data removed]",
      "text/plain": [
       "<Figure size 1200x800 with 1 Axes>"
      ]
     },
     "metadata": {},
     "output_type": "display_data"
    }
   ],
   "source": [
    "y_log = predict_log(X_test, d['beta'])\n",
    "auc, precision, recall, th = precision_recall_curve(y_test_binary, y_log) \n",
    "\n",
    "plt.figure(figsize=(12,8))\n",
    "plt.title(f'Precision-Recall Curve')\n",
    "plt.plot(recall, precision, 'b', label=f'AUC-PR = {auc:0.2f}')\n",
    "plt.plot([0, 1], [1,0], 'r--', label='Identity function')\n",
    "plt.legend(loc='lower right')\n",
    "plt.xlim([0, 1])\n",
    "plt.ylim([0, 1])\n",
    "plt.xlabel('Recall')\n",
    "plt.ylabel('Precision')\n",
    "plt.show()"
   ]
  },
  {
   "cell_type": "markdown",
   "metadata": {},
   "source": [
    "An AUC-PR of 0.86 suggests that the model has achieved a very good balance between precision and recall, meaning it is able to distinguish between the two classes very well. This implies that the model can both identify a large portion of positive instances (recall) and also that false positives are rare (precision). \n",
    "\n",
    "Therefore, this suggests that the model has a a high generalising power and can effectively predict unseen data, even when the dataset is imbalanced."
   ]
  },
  {
   "cell_type": "markdown",
   "metadata": {
    "id": "e_MkiUD4QB0k"
   },
   "source": [
    "<a name=\"task-222\"></a>\n",
    "\n",
    "### (2.2.2) [(index)](#index-task-222)"
   ]
  },
  {
   "cell_type": "code",
   "execution_count": 105,
   "metadata": {},
   "outputs": [],
   "source": [
    "def kernel_mat(X, Y, alpha):\n",
    "    \"\"\"\n",
    "    Compute the kernel matrix using the Laplacian kernel.\n",
    "    Parameters:\n",
    "    - X (numpy.ndarray): Input matrix of shape (x, _).\n",
    "    - Y (numpy.ndarray): Input matrix of shape (y, _).\n",
    "    - alpha (float): Parameter controlling the shape of the kernel.\n",
    "    Returns:\n",
    "    - kernel (numpy.ndarray): Kernel matrix of shape (x, y).\n",
    "    \"\"\"\n",
    "    # get number of rows in each input matrix\n",
    "    x, _ = X.shape\n",
    "    y, _ = Y.shape\n",
    "    \n",
    "    # initialise kernel matrix\n",
    "    kernel = np.zeros((x, y))\n",
    "\n",
    "    # compute kernel values using Laplacian kernel given in question\n",
    "    for i in range(x):\n",
    "        # compute L1 distance between current row of X and all rows of Y\n",
    "        distances = np.linalg.norm(Y - X[i], ord=1, axis=1)\n",
    "        # compute kernel values\n",
    "        kernel[i, :] = np.exp(-distances * alpha)\n",
    "\n",
    "    return kernel"
   ]
  },
  {
   "cell_type": "code",
   "execution_count": 106,
   "metadata": {},
   "outputs": [],
   "source": [
    "def kernelised_predict_log(A, beta, intercept):\n",
    "    \"\"\"\n",
    "    Predict the probability of belonging to a class using logistic regression applied to a kernel matrix.\n",
    "    \"\"\"\n",
    "    y_log = logistic((A @ np.array(beta)) + intercept)\n",
    "    return y_log.squeeze()"
   ]
  },
  {
   "cell_type": "markdown",
   "metadata": {},
   "source": [
    "We construct the loss function: \n",
    "\n",
    "$E(L) = -\\frac{1}{N} \\sum (y^{(i)} log(h_{u,u_{0}}(x^{(i)})) + (1-y^{(i)}) log(1-h_{u,u_{0}}(x^{(i)})) + \\frac{\\lambda}{2} u^T A u$\n",
    "\n",
    "$h_{u,u_{0}}(x) := \\frac{1}{1 + e^{-(A u + u_{0})}}$ \n",
    "\n",
    "where A is the kernel matrix computed using the Laplacian kernel."
   ]
  },
  {
   "cell_type": "code",
   "execution_count": 107,
   "metadata": {},
   "outputs": [],
   "source": [
    "def kernelised_propagate(A, y, beta, intercept, lambda1 = 0.0025):\n",
    "    \"\"\"\n",
    "    Compute the mean sample loss and its gradient for logistic regression applied to a kernel matrix.\n",
    "    \"\"\"\n",
    "    y_log = kernelised_predict_log(A, beta, intercept)\n",
    "\n",
    "    # mean sample loss function\n",
    "    mean_loss = - np.mean(y * np.log(y_log) + (1-y) * np.log(1 - y_log)) + lambda1/2 * np.dot(beta.T, A @ beta)\n",
    "\n",
    "    # derivatives\n",
    "    dbeta = np.mean(A.T * (y_log - y) , axis=1).reshape(-1, 1) + lambda1 * A @ beta\n",
    "    dintercept = np.mean((y_log - y)) \n",
    "\n",
    "    mean_loss = np.squeeze(mean_loss)\n",
    "    \n",
    "    # store gradients in a dictionary\n",
    "    grads = {'dbeta': dbeta, \"dintercept\" : dintercept}\n",
    "    \n",
    "    return grads, mean_loss"
   ]
  },
  {
   "cell_type": "code",
   "execution_count": 108,
   "metadata": {},
   "outputs": [],
   "source": [
    "def kernelised_optimise(A, y, beta, num_iterations=1000, learning_rate=0.1, print_loss=False):\n",
    "    \"\"\"\n",
    "    Optimise the kernelised version of logistic regression parameters using gradient descent.\n",
    "    \"\"\"\n",
    "    mean_loss_history = []\n",
    "    intercept = 0\n",
    "    \n",
    "    for i in range(num_iterations):\n",
    "\n",
    "        # calculating loss and gradients\n",
    "        grads, mean_loss = kernelised_propagate(A, y, beta, intercept)\n",
    "        \n",
    "        # retrieving derivatives from grads\n",
    "        dbeta = grads['dbeta']\n",
    "        dintercept = grads['dintercept']\n",
    "\n",
    "        # updating procedure\n",
    "        beta = beta - learning_rate * dbeta\n",
    "        intercept = intercept - learning_rate * dintercept\n",
    "\n",
    "        # record loss values\n",
    "        if i % 100 == 0:\n",
    "            mean_loss_history.append(mean_loss)\n",
    "\n",
    "        # printing loss every 100 iterations\n",
    "        if print_loss and i % 100 == 0:\n",
    "            print ('Mean loss after iteration %i: %f' %(i, mean_loss))\n",
    "\n",
    "    # saving parameters and gradients in dictionary\n",
    "    params = {'beta': beta, \"intercept\": intercept}\n",
    "    grads = {'dbeta': dbeta, \"dintercept\" : dintercept}\n",
    "\n",
    "    return params, grads, mean_loss_history"
   ]
  },
  {
   "cell_type": "markdown",
   "metadata": {},
   "source": [
    "We analyse the loss function component by component. The logistic loss component is the negative log-likelihood of the logistic regression model, which is convex.\n",
    "\n",
    "The regularisation component, given by $\\frac{\\lambda}{2} u^T A u$, is a quadratic function of $u$, and since the kernel matrix is positive definite, this component is convex.\n",
    "\n",
    "Since both components of the loss function are convex, the overall loss function is convex since summing two convex functions is convex. Therefore, optimising our loss function is a convex optimisation problem."
   ]
  },
  {
   "cell_type": "markdown",
   "metadata": {
    "id": "DzUYT08xQDV9"
   },
   "source": [
    "<a name=\"task-223\"></a>\n",
    "\n",
    "### (2.2.3) [(index)](#index-task-223)"
   ]
  },
  {
   "cell_type": "code",
   "execution_count": 109,
   "metadata": {},
   "outputs": [],
   "source": [
    "def kernelised_predict(X_test, beta, intercept):\n",
    "    \"\"\"\n",
    "    Predict the class labels for a given test set using kernelised logistic regression.\n",
    "    \"\"\"\n",
    "    N_test = X_test.shape[0]\n",
    "    y_pred = np.zeros((N_test, 1))\n",
    "    beta = beta.reshape(X_test.shape[1], 1)\n",
    "    \n",
    "    # Predicting the probabilities\n",
    "    y_log = kernelised_predict_log(X_test, beta, intercept)\n",
    "    \n",
    "    y_pred = y_log.round().reshape(1, -1) \n",
    "\n",
    "    return y_pred"
   ]
  },
  {
   "cell_type": "code",
   "execution_count": 110,
   "metadata": {},
   "outputs": [],
   "source": [
    "def kernelised_model(X_train, y_train, X_test, y_test, alpha, num_iterations=2000, learning_rate=0.1, print_loss=False):\n",
    "    \"\"\"\n",
    "    Train and evaluate a kernelised logistic regression model using Laplacian kernel.\n",
    "    \"\"\"\n",
    "    A_train = kernel_mat(X_train, X_train, alpha)\n",
    "    A_test = kernel_mat(X_test, X_train, alpha)\n",
    "    \n",
    "    # initialising parameters with zeros\n",
    "    beta = initialise(A_train.shape[1])\n",
    "\n",
    "    # gradient descent\n",
    "    parameters, grads, mean_loss_history = kernelised_optimise(A_train, y_train, beta, num_iterations, learning_rate, print_loss=print_loss)\n",
    "\n",
    "    # retrieving parameter vector beta from dictionary 'parameters'\n",
    "    beta = parameters['beta']\n",
    "    intercept = parameters['intercept']\n",
    "\n",
    "    # predicting test and training set examples\n",
    "    y_pred_test = kernelised_predict(A_test, beta,intercept)\n",
    "    y_pred_train = kernelised_predict(A_train, beta, intercept)\n",
    "\n",
    "    # printing train/test accuracy\n",
    "    print('Training accuracy: {} %'.format(100 - np.mean(np.abs(y_pred_train - y_train)) * 100))\n",
    "    print('Test accuracy: {} %'.format(100 - np.mean(np.abs(y_pred_test - y_test)) * 100))\n",
    "\n",
    "    # saving all information\n",
    "    d = {'mean_loss_history': mean_loss_history, 'y_pred_test': y_pred_test, 'y_pred_train': y_pred_train, 'beta': beta, 'intercept': intercept, 'learning_rate': learning_rate, 'num_iterations': num_iterations}\n",
    "    \n",
    "    return d"
   ]
  },
  {
   "cell_type": "code",
   "execution_count": 111,
   "metadata": {},
   "outputs": [],
   "source": [
    "# set seed for reproducability\n",
    "np.random.seed(15)"
   ]
  },
  {
   "cell_type": "code",
   "execution_count": 112,
   "metadata": {},
   "outputs": [
    {
     "name": "stdout",
     "output_type": "stream",
     "text": [
      "Mean loss after iteration 0: 0.693147\n",
      "Mean loss after iteration 100: 0.613842\n",
      "Mean loss after iteration 200: 0.598316\n",
      "Mean loss after iteration 300: 0.584775\n",
      "Mean loss after iteration 400: 0.572512\n",
      "Training accuracy: 67.58620689655173 %\n",
      "Test accuracy: 70.0 %\n",
      "alpha = 100\n"
     ]
    }
   ],
   "source": [
    "# running the model\n",
    "d1 = kernelised_model(X_train, y_train_binary, X_test, y_test_binary, alpha=100, num_iterations=500, learning_rate=0.1, print_loss=True)\n",
    "print(\"alpha = 100\")"
   ]
  },
  {
   "cell_type": "code",
   "execution_count": 113,
   "metadata": {},
   "outputs": [
    {
     "data": {
      "image/png": "[encoded data removed]",
      "text/plain": [
       "<Figure size 1200x800 with 1 Axes>"
      ]
     },
     "metadata": {},
     "output_type": "display_data"
    }
   ],
   "source": [
    "# plotting precision-recall curve\n",
    "A_test1 = kernel_mat(X_test, X_train, 100)\n",
    "y_log = kernelised_predict_log(A_test1, d1['beta'], d1['intercept'])\n",
    "auc, precision, recall, th = precision_recall_curve(y_test_binary, y_log) \n",
    "\n",
    "plt.figure(figsize=(12,8))\n",
    "plt.title(f'Precision-Recall Curve')\n",
    "plt.plot(recall, precision, 'b', label=f'AUC-PR = {auc:0.2f}')\n",
    "plt.plot([0, 1], [1,0], 'r--', label='Identity function')\n",
    "plt.legend(loc='lower right')\n",
    "plt.xlim([0, 1])\n",
    "plt.ylim([0, 1])\n",
    "plt.xlabel('Recall')\n",
    "plt.ylabel('Precision')\n",
    "plt.show()"
   ]
  },
  {
   "cell_type": "code",
   "execution_count": 114,
   "metadata": {},
   "outputs": [
    {
     "name": "stdout",
     "output_type": "stream",
     "text": [
      "Mean loss after iteration 0: 0.693147\n",
      "Mean loss after iteration 100: 0.528921\n",
      "Mean loss after iteration 200: 0.497216\n",
      "Mean loss after iteration 300: 0.480677\n",
      "Mean loss after iteration 400: 0.469650\n",
      "Training accuracy: 80.6896551724138 %\n",
      "Test accuracy: 83.33333333333334 %\n",
      "alpha = 0.3\n"
     ]
    }
   ],
   "source": [
    "# running the model\n",
    "d2 = kernelised_model(X_train, y_train_binary, X_test, y_test_binary, alpha=0.3, num_iterations=500, learning_rate=0.1, print_loss=True)\n",
    "print(\"alpha = 0.3\")"
   ]
  },
  {
   "cell_type": "code",
   "execution_count": 115,
   "metadata": {},
   "outputs": [
    {
     "data": {
      "image/png": "[encoded data removed]",
      "text/plain": [
       "<Figure size 1200x800 with 1 Axes>"
      ]
     },
     "metadata": {},
     "output_type": "display_data"
    }
   ],
   "source": [
    "# plotting precision-recall curve\n",
    "A_test2 = kernel_mat(X_test, X_train, 0.3)\n",
    "y_log = kernelised_predict_log(A_test2, d2['beta'], d2['intercept'])\n",
    "auc, precision, recall, th = precision_recall_curve(y_test_binary, y_log) \n",
    "\n",
    "plt.figure(figsize=(12,8))\n",
    "plt.title(f'Precision-Recall Curve')\n",
    "plt.plot(recall, precision, 'b', label=f'AUC-PR = {auc:0.2f}')\n",
    "plt.plot([0, 1], [1,0], 'r--', label='Identity function')\n",
    "plt.legend(loc='lower right')\n",
    "plt.xlim([0, 1])\n",
    "plt.ylim([0, 1])\n",
    "plt.xlabel('Recall')\n",
    "plt.ylabel('Precision')\n",
    "plt.show()"
   ]
  },
  {
   "cell_type": "markdown",
   "metadata": {},
   "source": [
    "The precision-recall curves above imply that $\\lambda = 0.3$ performs significantly better than $\\lambda = 100$. We have an AUC-PR of 0.90 for $\\lambda = 0.3$ and an AUC-PR of 0.79 for $\\lambda = 100$, implying that the model with $\\lambda = 0.3$ is far more effective at identifying positive instances and not predicting false positives.\n",
    "\n",
    "The training and test accuracies also agree with this. For test set, the accuracy of the model with $\\lambda = 100$ is 70.0% compared to 83.3% for the model with $\\lambda = 0.3$.\n",
    "\n",
    "Compared to the penalised logistic regression model in 2.1.1., the test accuracies are much higher, with only 56.7% for the model in 2.1.1. \n",
    "\n",
    "The logistic regression model does however have an AUC-PR of 0.86 which is second best overall, just behind the model with $\\lambda = 0.3$."
   ]
  }
 ],
 "metadata": {
  "colab": {
   "provenance": [],
   "toc_visible": true
  },
  "kernelspec": {
   "display_name": "Python 3 (ipykernel)",
   "language": "python",
   "name": "python3"
  },
  "language_info": {
   "codemirror_mode": {
    "name": "ipython",
    "version": 3
   },
   "file_extension": ".py",
   "mimetype": "text/x-python",
   "name": "python",
   "nbconvert_exporter": "python",
   "pygments_lexer": "ipython3",
   "version": "3.11.5"
  }
 },
 "nbformat": 4,
 "nbformat_minor": 4
}
